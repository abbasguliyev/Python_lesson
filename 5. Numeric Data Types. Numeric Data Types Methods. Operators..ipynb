{
 "cells": [
  {
   "cell_type": "markdown",
   "id": "e1293c6c",
   "metadata": {},
   "source": [
    "# 5. Numeric Data Types. Numeric Data Types Methods. Operators.\n",
    "\n",
    "Bu dərsdən artıq məlumat tiplərinə daha ətraflı baxacayıq. İlk öyrənəcəyimiz isə numeric data typelardır. Bunlara keçən dərsdə baxdığımız İnteger və Float aiddir. Keçən dərsdə dediyimiz kimi integer tam ədədləri, float isə kəsr ədədləri bildirir. 3.0 nöqtədən sonra 0 gədiyi üçün riyaziyyatda tam ədəd olaraq keçsədə, proqramlaşdırmada nöqtə ilə yazdığımız üçün float olur. Bundan əlavə complex numbers var. Buna misal olaraq **10+2j** göstərə bilərik. Ancaq complex numbers bizim qarşımıza çıxmayacağı üçün bu dərsdə integer və float haqqında danışacayıq.\n",
    "\n",
    "İnteger və float haqqında danışarkən mənfi qiymətlər də ala biləcəklərini demişdik"
   ]
  },
  {
   "cell_type": "code",
   "execution_count": 8,
   "id": "6f68e5cc",
   "metadata": {},
   "outputs": [
    {
     "data": {
      "text/plain": [
       "17"
      ]
     },
     "execution_count": 8,
     "metadata": {},
     "output_type": "execute_result"
    }
   ],
   "source": [
    "17"
   ]
  },
  {
   "cell_type": "markdown",
   "id": "7b04101f",
   "metadata": {},
   "source": [
    "type() metodu ilə tipini baxaq"
   ]
  },
  {
   "cell_type": "code",
   "execution_count": 1,
   "id": "b8a1acb0",
   "metadata": {},
   "outputs": [
    {
     "data": {
      "text/plain": [
       "int"
      ]
     },
     "execution_count": 1,
     "metadata": {},
     "output_type": "execute_result"
    }
   ],
   "source": [
    "type(17)"
   ]
  },
  {
   "cell_type": "code",
   "execution_count": 2,
   "id": "1696e730",
   "metadata": {},
   "outputs": [
    {
     "data": {
      "text/plain": [
       "46.5"
      ]
     },
     "execution_count": 2,
     "metadata": {},
     "output_type": "execute_result"
    }
   ],
   "source": [
    "46.5"
   ]
  },
  {
   "cell_type": "code",
   "execution_count": 3,
   "id": "7c4d88d8",
   "metadata": {},
   "outputs": [
    {
     "data": {
      "text/plain": [
       "float"
      ]
     },
     "execution_count": 3,
     "metadata": {},
     "output_type": "execute_result"
    }
   ],
   "source": [
    "type(46.5)"
   ]
  },
  {
   "cell_type": "code",
   "execution_count": 4,
   "id": "11e953ef",
   "metadata": {},
   "outputs": [
    {
     "data": {
      "text/plain": [
       "float"
      ]
     },
     "execution_count": 4,
     "metadata": {},
     "output_type": "execute_result"
    }
   ],
   "source": [
    "type(3.0)"
   ]
  },
  {
   "cell_type": "code",
   "execution_count": 5,
   "id": "2a4bf446",
   "metadata": {},
   "outputs": [
    {
     "data": {
      "text/plain": [
       "0"
      ]
     },
     "execution_count": 5,
     "metadata": {},
     "output_type": "execute_result"
    }
   ],
   "source": [
    "0"
   ]
  },
  {
   "cell_type": "code",
   "execution_count": 6,
   "id": "b9c1e39d",
   "metadata": {},
   "outputs": [
    {
     "data": {
      "text/plain": [
       "int"
      ]
     },
     "execution_count": 6,
     "metadata": {},
     "output_type": "execute_result"
    }
   ],
   "source": [
    "type(0)"
   ]
  },
  {
   "cell_type": "code",
   "execution_count": 7,
   "id": "20477a59",
   "metadata": {},
   "outputs": [
    {
     "data": {
      "text/plain": [
       "int"
      ]
     },
     "execution_count": 7,
     "metadata": {},
     "output_type": "execute_result"
    }
   ],
   "source": [
    "type(1)"
   ]
  },
  {
   "cell_type": "code",
   "execution_count": 9,
   "id": "f0d61d0b",
   "metadata": {},
   "outputs": [
    {
     "data": {
      "text/plain": [
       "-15"
      ]
     },
     "execution_count": 9,
     "metadata": {},
     "output_type": "execute_result"
    }
   ],
   "source": [
    "-15"
   ]
  },
  {
   "cell_type": "code",
   "execution_count": 10,
   "id": "8bc6efbe",
   "metadata": {},
   "outputs": [
    {
     "data": {
      "text/plain": [
       "int"
      ]
     },
     "execution_count": 10,
     "metadata": {},
     "output_type": "execute_result"
    }
   ],
   "source": [
    "type(-15)"
   ]
  },
  {
   "cell_type": "code",
   "execution_count": 11,
   "id": "f7aeb09d",
   "metadata": {},
   "outputs": [
    {
     "data": {
      "text/plain": [
       "float"
      ]
     },
     "execution_count": 11,
     "metadata": {},
     "output_type": "execute_result"
    }
   ],
   "source": [
    "type(-46.1)"
   ]
  },
  {
   "cell_type": "markdown",
   "id": "5596c88e",
   "metadata": {},
   "source": [
    "Bundan əlavə əvvəlki dərslərdə dediyimiz kimi əgər **\"\"** və ya **''** arasında yazılarlarsa bunların tipi string olur. Yəni normalda 4 + 6 yazarsaq python bunları toplayıb bizə 10 nəticəsini verəcək. Amma əgər dırnaq arasında yazarsaq bunları string olaraq qəbul edəcəyi üçün toplama əməliyyatını icra etməyəcək. String mövzusunda bu haqda daha ətraflı danışacayıq."
   ]
  },
  {
   "cell_type": "code",
   "execution_count": 12,
   "id": "e8130077",
   "metadata": {},
   "outputs": [
    {
     "data": {
      "text/plain": [
       "str"
      ]
     },
     "execution_count": 12,
     "metadata": {},
     "output_type": "execute_result"
    }
   ],
   "source": [
    "type(\"4.8\")"
   ]
  },
  {
   "cell_type": "markdown",
   "id": "918db866",
   "metadata": {},
   "source": [
    "> Rəqəmlərdən danışarkən əsas edəcəyimiz riyazi əməliyyatlardır. Bundan öncə 2 ifadəni bilməliyik. Operators(Operatorlar) və Expressions(ifadələr). Operatorların bir neçə növü var. Biz ilk öncə Arithmetic Operatorlara baxacayıq. Bunlar + - * / // ** %. Expression ifadə deməkdir. Yəni 5+2 bir expressiondur. Python-da hər şey obyekt olaraq keçir. İnteger float və digər hər şey obyektdir. Obyektin nə olduğunu OOP dərsində keçəcəyik. Expression Obyektlər və Operatorların birləşiminə deyilir. (object) (operator) (object). Bu əməliyyatın sonunda bir nəticə çıxacaq və onunda bir tipi olacaq. Deməli expressionların tipləri ardır. Yəni 5+2 7 edəcək. Bu expressionun tipi integerdir.\n",
    "\n",
    "\n",
    "**Arithmetic Operators**"
   ]
  },
  {
   "cell_type": "markdown",
   "id": "670e0806",
   "metadata": {},
   "source": [
    "**+ operatoru**\n",
    "\n",
    "- 2 integerin cəmi integer verir."
   ]
  },
  {
   "cell_type": "code",
   "execution_count": 13,
   "id": "f37b860b",
   "metadata": {},
   "outputs": [
    {
     "data": {
      "text/plain": [
       "7"
      ]
     },
     "execution_count": 13,
     "metadata": {},
     "output_type": "execute_result"
    }
   ],
   "source": [
    "2+5"
   ]
  },
  {
   "cell_type": "code",
   "execution_count": 14,
   "id": "fead9f31",
   "metadata": {},
   "outputs": [
    {
     "data": {
      "text/plain": [
       "int"
      ]
     },
     "execution_count": 14,
     "metadata": {},
     "output_type": "execute_result"
    }
   ],
   "source": [
    "type(2+5)"
   ]
  },
  {
   "cell_type": "markdown",
   "id": "84f1c007",
   "metadata": {},
   "source": [
    "- 2 floatın cəmi float verir."
   ]
  },
  {
   "cell_type": "code",
   "execution_count": 15,
   "id": "de070d30",
   "metadata": {},
   "outputs": [
    {
     "data": {
      "text/plain": [
       "11.3"
      ]
     },
     "execution_count": 15,
     "metadata": {},
     "output_type": "execute_result"
    }
   ],
   "source": [
    "2.4+8.9"
   ]
  },
  {
   "cell_type": "code",
   "execution_count": 16,
   "id": "3db502a5",
   "metadata": {},
   "outputs": [
    {
     "data": {
      "text/plain": [
       "float"
      ]
     },
     "execution_count": 16,
     "metadata": {},
     "output_type": "execute_result"
    }
   ],
   "source": [
    "type(2.4+8.9)"
   ]
  },
  {
   "cell_type": "markdown",
   "id": "20a70a76",
   "metadata": {},
   "source": [
    "- Əgər toplama prosesinde obyektlərdən biri floatdırsa nəticə float olacaq."
   ]
  },
  {
   "cell_type": "code",
   "execution_count": 17,
   "id": "08c66ac8",
   "metadata": {},
   "outputs": [
    {
     "data": {
      "text/plain": [
       "10.4"
      ]
     },
     "execution_count": 17,
     "metadata": {},
     "output_type": "execute_result"
    }
   ],
   "source": [
    "2.4+8"
   ]
  },
  {
   "cell_type": "markdown",
   "id": "c3cddb07",
   "metadata": {},
   "source": [
    "**- operatoru**"
   ]
  },
  {
   "cell_type": "markdown",
   "id": "a1dd4401",
   "metadata": {},
   "source": [
    "- 2 integerin fərqi integer verir."
   ]
  },
  {
   "cell_type": "code",
   "execution_count": 18,
   "id": "32ec20cf",
   "metadata": {},
   "outputs": [
    {
     "data": {
      "text/plain": [
       "19"
      ]
     },
     "execution_count": 18,
     "metadata": {},
     "output_type": "execute_result"
    }
   ],
   "source": [
    "45-26"
   ]
  },
  {
   "cell_type": "markdown",
   "id": "0f196e82",
   "metadata": {},
   "source": [
    "- 2 floatın fərqi float verir."
   ]
  },
  {
   "cell_type": "code",
   "execution_count": 19,
   "id": "c05117e0",
   "metadata": {},
   "outputs": [
    {
     "data": {
      "text/plain": [
       "1.2000000000000002"
      ]
     },
     "execution_count": 19,
     "metadata": {},
     "output_type": "execute_result"
    }
   ],
   "source": [
    "7.3-6.1"
   ]
  },
  {
   "cell_type": "markdown",
   "id": "54e897c3",
   "metadata": {},
   "source": [
    "- Əgər obyektlərdən biri floatdırsa çıxma prosesində expressionun qiyməti float olacaq"
   ]
  },
  {
   "cell_type": "code",
   "execution_count": 20,
   "id": "06d93341",
   "metadata": {},
   "outputs": [
    {
     "data": {
      "text/plain": [
       "2.9000000000000004"
      ]
     },
     "execution_count": 20,
     "metadata": {},
     "output_type": "execute_result"
    }
   ],
   "source": [
    "8.9-6"
   ]
  },
  {
   "cell_type": "markdown",
   "id": "c7e67786",
   "metadata": {},
   "source": [
    "*** operatoru**"
   ]
  },
  {
   "cell_type": "markdown",
   "id": "862faf6a",
   "metadata": {},
   "source": [
    "- 2 integerin hasili integer verir"
   ]
  },
  {
   "cell_type": "code",
   "execution_count": 21,
   "id": "f7d319d1",
   "metadata": {},
   "outputs": [
    {
     "data": {
      "text/plain": [
       "2046"
      ]
     },
     "execution_count": 21,
     "metadata": {},
     "output_type": "execute_result"
    }
   ],
   "source": [
    "62*33"
   ]
  },
  {
   "cell_type": "markdown",
   "id": "393d9e31",
   "metadata": {},
   "source": [
    "- 2 floatın hasili float verir"
   ]
  },
  {
   "cell_type": "code",
   "execution_count": 22,
   "id": "d1fcf0fe",
   "metadata": {},
   "outputs": [
    {
     "data": {
      "text/plain": [
       "18.98"
      ]
     },
     "execution_count": 22,
     "metadata": {},
     "output_type": "execute_result"
    }
   ],
   "source": [
    "2.6*7.3"
   ]
  },
  {
   "cell_type": "markdown",
   "id": "6aed7f8f",
   "metadata": {},
   "source": [
    "- Əgər obyektlərdən biri floatdırsa nəticə float olacaq."
   ]
  },
  {
   "cell_type": "code",
   "execution_count": 23,
   "id": "2e397297",
   "metadata": {},
   "outputs": [
    {
     "data": {
      "text/plain": [
       "257.2"
      ]
     },
     "execution_count": 23,
     "metadata": {},
     "output_type": "execute_result"
    }
   ],
   "source": [
    "64.3*4"
   ]
  },
  {
   "cell_type": "markdown",
   "id": "e03795f3",
   "metadata": {},
   "source": [
    "**/ operatoru**"
   ]
  },
  {
   "cell_type": "markdown",
   "id": "a18ffb08",
   "metadata": {},
   "source": [
    "- Obyektlərin tipi nə olursa olsun nəticə hər zaman float-dır."
   ]
  },
  {
   "cell_type": "code",
   "execution_count": 24,
   "id": "234c817d",
   "metadata": {},
   "outputs": [
    {
     "data": {
      "text/plain": [
       "1.5"
      ]
     },
     "execution_count": 24,
     "metadata": {},
     "output_type": "execute_result"
    }
   ],
   "source": [
    "3/2"
   ]
  },
  {
   "cell_type": "code",
   "execution_count": 25,
   "id": "429c2fd2",
   "metadata": {},
   "outputs": [
    {
     "data": {
      "text/plain": [
       "2.0"
      ]
     },
     "execution_count": 25,
     "metadata": {},
     "output_type": "execute_result"
    }
   ],
   "source": [
    "6/3"
   ]
  },
  {
   "cell_type": "code",
   "execution_count": 26,
   "id": "c790729b",
   "metadata": {},
   "outputs": [
    {
     "data": {
      "text/plain": [
       "2.0"
      ]
     },
     "execution_count": 26,
     "metadata": {},
     "output_type": "execute_result"
    }
   ],
   "source": [
    "3/1.5"
   ]
  },
  {
   "cell_type": "code",
   "execution_count": 27,
   "id": "5b080d30",
   "metadata": {},
   "outputs": [
    {
     "data": {
      "text/plain": [
       "3.619047619047619"
      ]
     },
     "execution_count": 27,
     "metadata": {},
     "output_type": "execute_result"
    }
   ],
   "source": [
    "45.6/12.6"
   ]
  },
  {
   "cell_type": "code",
   "execution_count": 28,
   "id": "0f0d493e",
   "metadata": {},
   "outputs": [
    {
     "data": {
      "text/plain": [
       "6.49"
      ]
     },
     "execution_count": 28,
     "metadata": {},
     "output_type": "execute_result"
    }
   ],
   "source": [
    "12.98/2"
   ]
  },
  {
   "cell_type": "markdown",
   "id": "8bcb946a",
   "metadata": {},
   "source": [
    "**// operatoru(int division)**"
   ]
  },
  {
   "cell_type": "markdown",
   "id": "aaec7460",
   "metadata": {},
   "source": [
    "- əgər obyektlərdən biri floatdırsa nəticə float olacaq."
   ]
  },
  {
   "cell_type": "code",
   "execution_count": 30,
   "id": "6490bbb4",
   "metadata": {},
   "outputs": [
    {
     "data": {
      "text/plain": [
       "2"
      ]
     },
     "execution_count": 30,
     "metadata": {},
     "output_type": "execute_result"
    }
   ],
   "source": [
    "5//2"
   ]
  },
  {
   "cell_type": "code",
   "execution_count": 34,
   "id": "8538c705",
   "metadata": {},
   "outputs": [
    {
     "data": {
      "text/plain": [
       "1.0"
      ]
     },
     "execution_count": 34,
     "metadata": {},
     "output_type": "execute_result"
    }
   ],
   "source": [
    "3//1.8"
   ]
  },
  {
   "cell_type": "code",
   "execution_count": 36,
   "id": "6688d42e",
   "metadata": {},
   "outputs": [
    {
     "data": {
      "text/plain": [
       "0.0"
      ]
     },
     "execution_count": 36,
     "metadata": {},
     "output_type": "execute_result"
    }
   ],
   "source": [
    "4.2//5"
   ]
  },
  {
   "cell_type": "markdown",
   "id": "3fd624f7",
   "metadata": {},
   "source": [
    "**% operatoru**"
   ]
  },
  {
   "cell_type": "markdown",
   "id": "410b951e",
   "metadata": {},
   "source": [
    "- əgər qalıq floatdırsa cavab float olacaq, əks halda integer olur."
   ]
  },
  {
   "cell_type": "code",
   "execution_count": 38,
   "id": "0d6d95bc",
   "metadata": {},
   "outputs": [
    {
     "data": {
      "text/plain": [
       "2"
      ]
     },
     "execution_count": 38,
     "metadata": {},
     "output_type": "execute_result"
    }
   ],
   "source": [
    "5%3"
   ]
  },
  {
   "cell_type": "code",
   "execution_count": 45,
   "id": "493bd090",
   "metadata": {},
   "outputs": [
    {
     "data": {
      "text/plain": [
       "0.5"
      ]
     },
     "execution_count": 45,
     "metadata": {},
     "output_type": "execute_result"
    }
   ],
   "source": [
    "2.5%2"
   ]
  },
  {
   "cell_type": "markdown",
   "id": "5edf52b5",
   "metadata": {},
   "source": [
    "**** operatoru**"
   ]
  },
  {
   "cell_type": "markdown",
   "id": "e55ea11a",
   "metadata": {},
   "source": [
    "- Üstü tapmaq üçün istifadə olunur."
   ]
  },
  {
   "cell_type": "code",
   "execution_count": 46,
   "id": "8ddc5255",
   "metadata": {},
   "outputs": [
    {
     "data": {
      "text/plain": [
       "25"
      ]
     },
     "execution_count": 46,
     "metadata": {},
     "output_type": "execute_result"
    }
   ],
   "source": [
    "5**2"
   ]
  },
  {
   "cell_type": "code",
   "execution_count": 47,
   "id": "cc051c73",
   "metadata": {},
   "outputs": [
    {
     "data": {
      "text/plain": [
       "216"
      ]
     },
     "execution_count": 47,
     "metadata": {},
     "output_type": "execute_result"
    }
   ],
   "source": [
    "6**3"
   ]
  },
  {
   "cell_type": "code",
   "execution_count": 48,
   "id": "e57fe251",
   "metadata": {},
   "outputs": [
    {
     "data": {
      "text/plain": [
       "16"
      ]
     },
     "execution_count": 48,
     "metadata": {},
     "output_type": "execute_result"
    }
   ],
   "source": [
    "2**4"
   ]
  },
  {
   "cell_type": "code",
   "execution_count": 49,
   "id": "c2ff9d8f",
   "metadata": {},
   "outputs": [
    {
     "data": {
      "text/plain": [
       "5.76"
      ]
     },
     "execution_count": 49,
     "metadata": {},
     "output_type": "execute_result"
    }
   ],
   "source": [
    "2.4**2"
   ]
  },
  {
   "cell_type": "code",
   "execution_count": 50,
   "id": "147ea715",
   "metadata": {},
   "outputs": [
    {
     "data": {
      "text/plain": [
       "0.2"
      ]
     },
     "execution_count": 50,
     "metadata": {},
     "output_type": "execute_result"
    }
   ],
   "source": [
    "5**-1"
   ]
  },
  {
   "cell_type": "markdown",
   "id": "f2a0d044",
   "metadata": {},
   "source": [
    "**Assignment Operators**"
   ]
  },
  {
   "cell_type": "markdown",
   "id": "0fa67a7e",
   "metadata": {},
   "source": [
    "- Adından da göründüyü kimi mənimsətmə işinə baxır. Bura variable assignmentdə gördüyümüz = operatorunu misal çəkə bilərik. Bundan başqa yuxarıdakı operatorlarında qısa yolu var."
   ]
  },
  {
   "cell_type": "code",
   "execution_count": 80,
   "id": "d57c1afc",
   "metadata": {},
   "outputs": [],
   "source": [
    "x = 5"
   ]
  },
  {
   "cell_type": "code",
   "execution_count": 81,
   "id": "56af2f72",
   "metadata": {},
   "outputs": [],
   "source": [
    "x += 3"
   ]
  },
  {
   "cell_type": "code",
   "execution_count": 82,
   "id": "497f33f8",
   "metadata": {},
   "outputs": [
    {
     "data": {
      "text/plain": [
       "8"
      ]
     },
     "execution_count": 82,
     "metadata": {},
     "output_type": "execute_result"
    }
   ],
   "source": [
    "x"
   ]
  },
  {
   "cell_type": "markdown",
   "id": "26c9d477",
   "metadata": {},
   "source": [
    "Burda biz x += 3 yazdıqda bunun açıq formada yazılışı x = x + 3 -dür."
   ]
  },
  {
   "cell_type": "code",
   "execution_count": 83,
   "id": "712fadf5",
   "metadata": {},
   "outputs": [],
   "source": [
    "x -= 2"
   ]
  },
  {
   "cell_type": "code",
   "execution_count": 84,
   "id": "8252d0e7",
   "metadata": {},
   "outputs": [
    {
     "data": {
      "text/plain": [
       "6"
      ]
     },
     "execution_count": 84,
     "metadata": {},
     "output_type": "execute_result"
    }
   ],
   "source": [
    "x"
   ]
  },
  {
   "cell_type": "markdown",
   "id": "90275825",
   "metadata": {},
   "source": [
    "x -= 2 => x = x - 2"
   ]
  },
  {
   "cell_type": "code",
   "execution_count": 85,
   "id": "e1e90be8",
   "metadata": {},
   "outputs": [],
   "source": [
    "x *= 4"
   ]
  },
  {
   "cell_type": "code",
   "execution_count": 86,
   "id": "51947952",
   "metadata": {},
   "outputs": [
    {
     "data": {
      "text/plain": [
       "24"
      ]
     },
     "execution_count": 86,
     "metadata": {},
     "output_type": "execute_result"
    }
   ],
   "source": [
    "x"
   ]
  },
  {
   "cell_type": "markdown",
   "id": "16f5c45e",
   "metadata": {},
   "source": [
    "x*=4 => x = x * 4"
   ]
  },
  {
   "cell_type": "code",
   "execution_count": 87,
   "id": "37f5fd89",
   "metadata": {},
   "outputs": [],
   "source": [
    "x /= 3.2"
   ]
  },
  {
   "cell_type": "code",
   "execution_count": 88,
   "id": "60c4e908",
   "metadata": {},
   "outputs": [
    {
     "data": {
      "text/plain": [
       "7.5"
      ]
     },
     "execution_count": 88,
     "metadata": {},
     "output_type": "execute_result"
    }
   ],
   "source": [
    "x"
   ]
  },
  {
   "cell_type": "markdown",
   "id": "83478070",
   "metadata": {},
   "source": [
    "x = x / 3.2"
   ]
  },
  {
   "cell_type": "code",
   "execution_count": 89,
   "id": "4d623858",
   "metadata": {},
   "outputs": [],
   "source": [
    "x //=3"
   ]
  },
  {
   "cell_type": "code",
   "execution_count": 90,
   "id": "3b338e34",
   "metadata": {},
   "outputs": [
    {
     "data": {
      "text/plain": [
       "2.0"
      ]
     },
     "execution_count": 90,
     "metadata": {},
     "output_type": "execute_result"
    }
   ],
   "source": [
    "x"
   ]
  },
  {
   "cell_type": "code",
   "execution_count": 91,
   "id": "18ffb732",
   "metadata": {},
   "outputs": [],
   "source": [
    "x %= 1.5"
   ]
  },
  {
   "cell_type": "code",
   "execution_count": 92,
   "id": "ed8fe36f",
   "metadata": {},
   "outputs": [
    {
     "data": {
      "text/plain": [
       "0.5"
      ]
     },
     "execution_count": 92,
     "metadata": {},
     "output_type": "execute_result"
    }
   ],
   "source": [
    "x"
   ]
  },
  {
   "cell_type": "code",
   "execution_count": 93,
   "id": "2133c28c",
   "metadata": {},
   "outputs": [],
   "source": [
    "x**=5"
   ]
  },
  {
   "cell_type": "code",
   "execution_count": 94,
   "id": "063f220e",
   "metadata": {},
   "outputs": [
    {
     "data": {
      "text/plain": [
       "0.03125"
      ]
     },
     "execution_count": 94,
     "metadata": {},
     "output_type": "execute_result"
    }
   ],
   "source": [
    "x"
   ]
  },
  {
   "cell_type": "markdown",
   "id": "e2f4b963",
   "metadata": {},
   "source": [
    "- İşarə dəyişdirmə"
   ]
  },
  {
   "cell_type": "code",
   "execution_count": 98,
   "id": "cc191e1d",
   "metadata": {},
   "outputs": [],
   "source": [
    "v=4"
   ]
  },
  {
   "cell_type": "code",
   "execution_count": 99,
   "id": "9d30787c",
   "metadata": {},
   "outputs": [
    {
     "data": {
      "text/plain": [
       "4"
      ]
     },
     "execution_count": 99,
     "metadata": {},
     "output_type": "execute_result"
    }
   ],
   "source": [
    "v"
   ]
  },
  {
   "cell_type": "code",
   "execution_count": 100,
   "id": "3a59a7f2",
   "metadata": {},
   "outputs": [
    {
     "data": {
      "text/plain": [
       "-4"
      ]
     },
     "execution_count": 100,
     "metadata": {},
     "output_type": "execute_result"
    }
   ],
   "source": [
    "-v"
   ]
  },
  {
   "cell_type": "code",
   "execution_count": 101,
   "id": "775a6245",
   "metadata": {},
   "outputs": [
    {
     "data": {
      "text/plain": [
       "4"
      ]
     },
     "execution_count": 101,
     "metadata": {},
     "output_type": "execute_result"
    }
   ],
   "source": [
    "v"
   ]
  },
  {
   "cell_type": "markdown",
   "id": "db49cc58",
   "metadata": {},
   "source": [
    "# Numbers methods\n",
    "\n",
    "Numberlarla işləmək üçün python-un daxilindən gələn bəzi hazır methodlar var. Gəlin bunların bəzilərinə baxaq."
   ]
  },
  {
   "cell_type": "markdown",
   "id": "ee70b420",
   "metadata": {},
   "source": [
    "- round() metodu\n",
    "Bu metod yuvarlaqlaşdırma işinə baxır. Əgər nöqtədən sonra gələn 5 və 5-dən böyükdürsə yuxarı yuvarlaqlaşdırır, əgər kiçikdirsə aşağı."
   ]
  },
  {
   "cell_type": "code",
   "execution_count": 102,
   "id": "5bff937c",
   "metadata": {},
   "outputs": [
    {
     "data": {
      "text/plain": [
       "6"
      ]
     },
     "execution_count": 102,
     "metadata": {},
     "output_type": "execute_result"
    }
   ],
   "source": [
    "round(5.6)"
   ]
  },
  {
   "cell_type": "code",
   "execution_count": 103,
   "id": "5830b08f",
   "metadata": {},
   "outputs": [
    {
     "data": {
      "text/plain": [
       "45"
      ]
     },
     "execution_count": 103,
     "metadata": {},
     "output_type": "execute_result"
    }
   ],
   "source": [
    "round(45.3)"
   ]
  },
  {
   "cell_type": "code",
   "execution_count": 104,
   "id": "95dbbc43",
   "metadata": {},
   "outputs": [
    {
     "data": {
      "text/plain": [
       "3.545"
      ]
     },
     "execution_count": 104,
     "metadata": {},
     "output_type": "execute_result"
    }
   ],
   "source": [
    "round(3.54544545, 3)"
   ]
  },
  {
   "cell_type": "markdown",
   "id": "eccfad7d",
   "metadata": {},
   "source": [
    "- Burada **3** nöqtədən sonra neçənci ədədə görə yuvarlaqlaşdırmasını bildirir"
   ]
  },
  {
   "cell_type": "code",
   "execution_count": 106,
   "id": "02335393",
   "metadata": {},
   "outputs": [
    {
     "data": {
      "text/plain": [
       "3.6"
      ]
     },
     "execution_count": 106,
     "metadata": {},
     "output_type": "execute_result"
    }
   ],
   "source": [
    "round(3.6, 8)"
   ]
  },
  {
   "cell_type": "markdown",
   "id": "c29a7239",
   "metadata": {},
   "source": [
    "- abs() metodu. Bu metod əgər dəyər mənfidirsə onu müsbət edir."
   ]
  },
  {
   "cell_type": "code",
   "execution_count": 107,
   "id": "8f99a462",
   "metadata": {},
   "outputs": [
    {
     "data": {
      "text/plain": [
       "5"
      ]
     },
     "execution_count": 107,
     "metadata": {},
     "output_type": "execute_result"
    }
   ],
   "source": [
    "abs(-5)"
   ]
  },
  {
   "cell_type": "markdown",
   "id": "3e67732a",
   "metadata": {},
   "source": [
    "- min() və max() verilən dəyərlərin minimum və maksimumunu tapır."
   ]
  },
  {
   "cell_type": "code",
   "execution_count": 108,
   "id": "85164aed",
   "metadata": {},
   "outputs": [
    {
     "data": {
      "text/plain": [
       "5"
      ]
     },
     "execution_count": 108,
     "metadata": {},
     "output_type": "execute_result"
    }
   ],
   "source": [
    "min(5,9)"
   ]
  },
  {
   "cell_type": "code",
   "execution_count": 109,
   "id": "6d8d0415",
   "metadata": {},
   "outputs": [
    {
     "data": {
      "text/plain": [
       "109"
      ]
     },
     "execution_count": 109,
     "metadata": {},
     "output_type": "execute_result"
    }
   ],
   "source": [
    "max(32,45,23,109)"
   ]
  },
  {
   "cell_type": "markdown",
   "id": "a301f750",
   "metadata": {},
   "source": [
    "- pow() metodu. Bu metod üst tapmaq üçündür."
   ]
  },
  {
   "cell_type": "code",
   "execution_count": 110,
   "id": "ef079e05",
   "metadata": {},
   "outputs": [
    {
     "data": {
      "text/plain": [
       "1024"
      ]
     },
     "execution_count": 110,
     "metadata": {},
     "output_type": "execute_result"
    }
   ],
   "source": [
    "pow(4,5)"
   ]
  },
  {
   "cell_type": "code",
   "execution_count": 111,
   "id": "b4c4016b",
   "metadata": {},
   "outputs": [
    {
     "data": {
      "text/plain": [
       "9"
      ]
     },
     "execution_count": 111,
     "metadata": {},
     "output_type": "execute_result"
    }
   ],
   "source": [
    "pow(3,2)"
   ]
  },
  {
   "cell_type": "code",
   "execution_count": null,
   "id": "b3de4423",
   "metadata": {},
   "outputs": [],
   "source": []
  }
 ],
 "metadata": {
  "kernelspec": {
   "display_name": "Python 3 (ipykernel)",
   "language": "python",
   "name": "python3"
  },
  "language_info": {
   "codemirror_mode": {
    "name": "ipython",
    "version": 3
   },
   "file_extension": ".py",
   "mimetype": "text/x-python",
   "name": "python",
   "nbconvert_exporter": "python",
   "pygments_lexer": "ipython3",
   "version": "3.9.7"
  }
 },
 "nbformat": 4,
 "nbformat_minor": 5
}
