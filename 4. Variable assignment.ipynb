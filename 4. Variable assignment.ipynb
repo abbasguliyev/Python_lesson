{
 "cells": [
  {
   "cell_type": "markdown",
   "id": "1b641f45",
   "metadata": {},
   "source": [
    "# 4. Varibable assginment\n",
    "\n",
    "> Biz məlumatları kompyuterin yaddaşında tutmaq və daha sonra onlara verdiyimiz adlarla həmin məlumatlara çatmaq istəyə bilərik. Bunu variable ilə edəcəyik. Azərbaycan dilində dəyişən olaraq tərcümə olunur.\n",
    "\n",
    "- İlk olaraq edəcəyimiz şey variable-a bir ad verməkdir. Bu ad istədiyimiz bir şey ola bilər. Ancaq bacardığımız qədər proqramın məntiqinə uyğun bir şey olmadlıdır. Bundan əlavə variable adlandırarkən bəzi məqamlara fikir verməliyik. Bir variable A-Z arası böyük hərflər, a-z arası kiçik hərflər, altdan xət _ ve ilk simvol xaric olmaqla 0-9 arası rəqəmlərdən ibarət ola bilər (məsələn -> a863= \"salam\"). Bundan əlavə dəyişən adları böyük və kiçik hərf həssasiyyəti vardır. Yəni ədəd1 = 7 ilə  Ədəd1=7 fərqlidir."
   ]
  },
  {
   "cell_type": "code",
   "execution_count": 1,
   "id": "7af34085",
   "metadata": {},
   "outputs": [],
   "source": [
    "a = 5"
   ]
  },
  {
   "cell_type": "code",
   "execution_count": 4,
   "id": "1eb3fbfd",
   "metadata": {},
   "outputs": [],
   "source": [
    "b56 = \"salam\""
   ]
  },
  {
   "cell_type": "code",
   "execution_count": 5,
   "id": "e670add1",
   "metadata": {},
   "outputs": [],
   "source": [
    "c_asdasd = True"
   ]
  },
  {
   "cell_type": "code",
   "execution_count": 6,
   "id": "d695be09",
   "metadata": {},
   "outputs": [],
   "source": [
    "_asdsad = \"test\""
   ]
  },
  {
   "cell_type": "code",
   "execution_count": 7,
   "id": "a4cae272",
   "metadata": {},
   "outputs": [],
   "source": [
    "test_=456"
   ]
  },
  {
   "cell_type": "code",
   "execution_count": 8,
   "id": "f56e8639",
   "metadata": {},
   "outputs": [],
   "source": [
    "asd65656=\"asdsad\""
   ]
  },
  {
   "cell_type": "markdown",
   "id": "ffcc4f1a",
   "metadata": {},
   "source": [
    "Bundan əlavə dəyişkən adlandırarkən Python-un əvvəlcədən özü üçün ayırdığı reserved words adlandırılan sözlər varki bunları da variable-a adlandırılmasında istifadə etmək olmaz. Bu reserved wordsləri əzbərləməyə ehtiyac yoxdur. Bunları keçdikcə özü yadımızda qalacaq.\n",
    "![alt text](data:image/png;base64,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)"
   ]
  },
  {
   "cell_type": "markdown",
   "id": "ac50b3fc",
   "metadata": {},
   "source": [
    "- Ümumiləşdirsək, variable düzəltmək üçün ilk öncə ad veririk. Daha sonra bu dəyişkənin dəyərinin nə olacağını deyirik. Bundan sonra artıq python dəyişkənin adını gördükdə gedib ona verdiyimiz dəyəri çağırır\n",
    "- Bu dəyər mənimsətmə işini = simvolu ilə edirik. Proqramlaşdırmada = simvolu normal bildiyimiz mənasından fərqlidir. Bərabərliyin sağındakı dəyəri sola mənimsət demiş oluruq. Bu prosesə variable assignment deyilir."
   ]
  },
  {
   "cell_type": "markdown",
   "id": "e502ee85",
   "metadata": {},
   "source": [
    "> Bəs yaxşı bu dəyəri mənimsətdikdə nə baş verir. Keçən başlıqlarda dedik ki iterpreter kodu yuxarıdan aşağıya və soldan sağa oxuyur. Biz **a=5** yazdığımız anda ən birinci **a =** görür və anlayırki mənimsətmə prosesi olacaq. Və yaddaşda a üçün yer ayırır. Daha sonra isə 5 dəyərini a-ya mənimsədir. Artıq biz hardasa **a** dəyişkənini istifadə etsək, məsələn a + 7 desək, gedib yaddaşa baxacaqki a adında məlumat varmı, görəcəkki a-ya 5 mənimsədilib, götürüb 5-i çağıracaq.\n",
    "\n",
    "> Biz əgər daha sonra **a=6** yazsaq. Yenidən **a=** hissəsini oxuyacaq və yaddaşda yeni bir yer açacaq və ona **a** adı verəcək və daha sonra 6 dəyərini oraya mənimsədəcək. Bəs yaxşı əvvəlki **a=5** nə olacaq deyə soruşsanız. Garbage collector(zibil yığan) həmin məlumatın artıq istifadə olunmadığını görüb avtomatik onu yaddaşdan siləcək. (High level dillərdə bu garbage collector avtomatik işləyir, bizim əlavə bir şey etməyimizə eytiyac qalmır, ancaq low level dillərdə bu prosesi özümüz etməli oluruq.)\n",
    "\n",
    "> Həmçinin **a = a + 5** dediyimizdə də **a=** hissəsini görən kimi python bilirki mənimsətmə prosesi baş verəcək, gedib yaddaşda yeni yer açır və ona **a** adını verir, daha sonra kodumuzun **a+5** hissəsini oxuyur, yaddaşda gedib a-nı axtarır görür ki, a-nın dəyəri 6-dır, 6-nı çağırır, 6+5 hesablayır və yeni açtığı yerə 11 dəyərini mənimsədir. Artıq a-nın dəyəri 11-dir. Garbage Collectorda gəlib köhnə istifadə olunmayan **a = 6** - nı yaddaşdan silir. Bütün bu proses çox qısa müddətdə baş verir. Bunları deməkdəki məqsədim arxada prosesin necə baş verdiyini anlamağınızdır."
   ]
  },
  {
   "cell_type": "markdown",
   "id": "12801a37",
   "metadata": {},
   "source": [
    "- Python-da 2 dəyişkənin dəyərini dəyişdirmək üçün sadə bir üsul var."
   ]
  },
  {
   "cell_type": "code",
   "execution_count": 10,
   "id": "90b81d45",
   "metadata": {},
   "outputs": [],
   "source": [
    "a = 5\n",
    "b = 3"
   ]
  },
  {
   "cell_type": "code",
   "execution_count": 13,
   "id": "262a2726",
   "metadata": {},
   "outputs": [
    {
     "data": {
      "text/plain": [
       "3"
      ]
     },
     "execution_count": 13,
     "metadata": {},
     "output_type": "execute_result"
    }
   ],
   "source": [
    "b"
   ]
  },
  {
   "cell_type": "code",
   "execution_count": 14,
   "id": "e2129d06",
   "metadata": {},
   "outputs": [
    {
     "data": {
      "text/plain": [
       "5"
      ]
     },
     "execution_count": 14,
     "metadata": {},
     "output_type": "execute_result"
    }
   ],
   "source": [
    "a"
   ]
  },
  {
   "cell_type": "code",
   "execution_count": 15,
   "id": "4e7b93f5",
   "metadata": {},
   "outputs": [],
   "source": [
    "a,b = b,a"
   ]
  },
  {
   "cell_type": "code",
   "execution_count": 16,
   "id": "7d6b6fbb",
   "metadata": {},
   "outputs": [
    {
     "data": {
      "text/plain": [
       "3"
      ]
     },
     "execution_count": 16,
     "metadata": {},
     "output_type": "execute_result"
    }
   ],
   "source": [
    "a"
   ]
  },
  {
   "cell_type": "code",
   "execution_count": 17,
   "id": "69070e8d",
   "metadata": {},
   "outputs": [
    {
     "data": {
      "text/plain": [
       "5"
      ]
     },
     "execution_count": 17,
     "metadata": {},
     "output_type": "execute_result"
    }
   ],
   "source": [
    "b"
   ]
  },
  {
   "cell_type": "code",
   "execution_count": null,
   "id": "0c1f8551",
   "metadata": {},
   "outputs": [],
   "source": []
  }
 ],
 "metadata": {
  "kernelspec": {
   "display_name": "Python 3 (ipykernel)",
   "language": "python",
   "name": "python3"
  },
  "language_info": {
   "codemirror_mode": {
    "name": "ipython",
    "version": 3
   },
   "file_extension": ".py",
   "mimetype": "text/x-python",
   "name": "python",
   "nbconvert_exporter": "python",
   "pygments_lexer": "ipython3",
   "version": "3.9.7"
  }
 },
 "nbformat": 4,
 "nbformat_minor": 5
}
