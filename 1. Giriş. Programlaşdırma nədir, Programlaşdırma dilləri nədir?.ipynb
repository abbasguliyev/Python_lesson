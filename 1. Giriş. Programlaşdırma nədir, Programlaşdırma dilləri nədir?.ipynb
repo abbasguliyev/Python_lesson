{
 "cells": [
  {
   "cell_type": "markdown",
   "id": "eca9e9b7",
   "metadata": {},
   "source": [
    "# Giriş. Programlaşdırma nədir, Programlaşdırma dilləri nədir?\n",
    "\n",
    ">**Proqramlaşdırma** - Proqramlaşdırma kompyuterə verdiyimiz əmrlər və nəyi necə etməyi dediyimiz vasitədir. Başqa sözlə, kompyuteri müəyyən tapşırığı yerinə yetirməsi üçün təlimatlandırmaq üsuludur deyə bilərik.\n",
    "\n",
    ">**Proqramlaşdırma dilləri** - Bəs kompyuterlərə təlimatları necə verməliyik? Kopmyuterlər proqramlaşdırma dilləri adlanan sintaksislə yazılmış təlimatları anlayırlar. Başqa sözlə desək necəki biz bir-birimizlə ünsiyyətə girmək üçün danışıq dillərindən istifadə edirik, eyni şəkildə kompyuterlədə ünsiyyətə girmək üçün proqramlaşdırma dillərindən istifadə edirik. Proqramlaşdırma dilləri bizim ilə kompyuter arasında körpü rolu oynayır.\n",
    "\n",
    ">**Proqramlaşdırma dillərinin növləri** - Proqramlaşdırma dilləri 2 yerə bölünür:\n",
    "1. Low Level\n",
    "2. High Level\n",
    "\n",
    "- Low Level(Aşağı səviyyəli) - Low level dillər maşın dili olaraq da adlandırılır. Low level dillər adətən bir başa avadanlıqların proqramlaşdırması üçün istifadə olunur. Bir sözlə kompyuterlərin dili low level dillərdir. Bundan əlavə oxunulması və kodun anlaşılmasıda çətindir. Çünki 0 və 1 lər kimi simvollardan ibarətdir bu dillər.\n",
    "\n",
    "- High level(Yüksək səviyyəli) - Bildiyimiz məşhur dillərin əksəriyyəti high leveldir. Məsələn python, ruby, java, php, c# və s. Bizim kompyuterə əmr vermək üçün onunla aramızda körpü yaradacaq dilə ehtiyacımız var. Çünki kompyuterin dili insan dilindən çox uzaqdır. Bu anda bizə məhz bu dillər kömək olur. High level dillər oxunulması, yazılması və anlanılması insan tərəfindən daha asan və rahatdır. Yüksək səviyyəli proqramlaşdırma dilində yazılmış proqram source code adlanır.\n",
    "\n",
    "Biz high level dillərdə kodumuzu, proqramımızı yazırıq. Bəs kompyuter bunu necə anlayır? Axı dedik kompyuterin dili low leveldir, yəni 0 və 1 kimi simvollardan ibarətdir. Biz proqramımızı yazdıqdan sonra bu kodlarımız maşın dilinə, kompyuterin anlayacağı formaya çevrilir və Kompyuterimiz proqramımızı artıq proqramımızı anlayıb, çalıştıra bilir. Bəs bu çevrilmə prosesi nədir və necə olur? Proqramı yüksək səviyyəli proqramlaşdırma dilindən maşın dilinə çevirməyin iki fərqli yolu var:\n",
    "1. COMPILATION\n",
    "2. INTERPRETATION\n",
    "\n",
    "- Compilator, source kodumuzu yazıb bitirdikdən sonra 1 dəfə maşın dilinə çevirir və kompyuter onu çalıştırı\n",
    "- İnterpretor isə siz hər dəfə source kodu hər dəfə işə saldıqda maşın dilinə tərcümə edir. Və proqramın hər bir əmrini sıra ilə tərcümə edir compilatordan fərqli olaraq. Compliator proqram bitirib ümumilikdə çevirir, interpretor isə hər bir əmri ayrı ayrılıqda çevirir. Proqramlaşdırma dilləri qurularkən müəyyən səbəblərə görə bu üslublardan biri ilə tərtib olunur. İnterpretor və compilator hər ikisi source kodu yuxarıdan aşağıya və soldan sağa doöru oxuyaraq tərcümə edir.\n",
    "**İndi soruşa bilərsiniz: hansı daha yaxşıdır? \"compiling\" model yoxsa \"interpreting\" model? Aydın cavab yoxdur. Əgər olsaydı, bu modellərdən biri çoxdan fəaliyyətini dayandırardı. Hər ikisinin öz üstünlükləri və mənfi cəhətləri var**"
   ]
  }
 ],
 "metadata": {
  "kernelspec": {
   "display_name": "Python 3 (ipykernel)",
   "language": "python",
   "name": "python3"
  },
  "language_info": {
   "codemirror_mode": {
    "name": "ipython",
    "version": 3
   },
   "file_extension": ".py",
   "mimetype": "text/x-python",
   "name": "python",
   "nbconvert_exporter": "python",
   "pygments_lexer": "ipython3",
   "version": "3.9.7"
  }
 },
 "nbformat": 4,
 "nbformat_minor": 5
}
