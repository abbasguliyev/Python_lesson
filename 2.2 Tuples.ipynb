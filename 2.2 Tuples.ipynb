{
 "cells": [
  {
   "cell_type": "markdown",
   "id": "f5a02664",
   "metadata": {},
   "source": [
    "# Tuple\n",
    "\n",
    "- **Tuple-lar list-lərə olduqca bənzəyirlər. Listlərdən bəzi xasiyyətlərinə görə fərqlənirlər. List lərin elementlərini bildiyimiz kimi dəyişdirə bilirdik. Yəni list-lər mutable data type idi. Amma tuple-lar immutable data type-dır. Yəni bir tuple təyin etdikdən sonra onun elementlərini dəyişdirə bilmirik.**"
   ]
  },
  {
   "cell_type": "markdown",
   "id": "5c8607e5",
   "metadata": {},
   "source": [
    "# Tuple təyin etmək\n",
    "\n",
    "- Mötərizə içərisində, bütün elementləri bir-birindən vergül ilə ayrılmaqla tuple düzəldirik. Mötərizə içərisində yazmaq istəyə görədir yəni istifadə olunmaya da bilər. Amma mötərizədən istifadə etmək daha səliqəli kod yazmaqdır. Yəni çalışın mötərizə içərisində təyin edin.\n",
    "- Bundan əlavə olaraq tuple() metodu ilə də boş bir tuple təyin edə bilərik"
   ]
  },
  {
   "cell_type": "code",
   "execution_count": 8,
   "id": "32b51daa",
   "metadata": {},
   "outputs": [
    {
     "name": "stdout",
     "output_type": "stream",
     "text": [
      "()\n",
      "(1, 2, 3)\n",
      "(1, 'Hello', 3.4)\n",
      "('mouse', [8, 4, 6], (1, 2, 3))\n",
      "()\n"
     ]
    }
   ],
   "source": [
    "# Müxtəlif formalarda tuple\n",
    "\n",
    "# Boş tuple\n",
    "my_tuple = ()\n",
    "print(my_tuple)\n",
    "\n",
    "# integerlərdən ibarət Tuple\n",
    "my_tuple = (1, 2, 3)\n",
    "print(my_tuple)\n",
    "\n",
    "# qarışıq məlumat tiplərindən ibarət tuple\n",
    "my_tuple = (1, \"Hello\", 3.4)\n",
    "print(my_tuple)\n",
    "\n",
    "# iç-içə tuple, yəni nested tuple\n",
    "my_tuple = (\"mouse\", [8, 4, 6], (1, 2, 3))\n",
    "print(my_tuple)\n",
    "\n",
    "empty_tuple = tuple()\n",
    "print(empty_tuple)"
   ]
  },
  {
   "cell_type": "markdown",
   "id": "a9a4090a",
   "metadata": {},
   "source": [
    "- Mötərizələrdən istifadə etmədən də tuple düzəldilə bilər. Buna tuple packing(tuple qablaşdırma) deyilir."
   ]
  },
  {
   "cell_type": "code",
   "execution_count": 9,
   "id": "93e4f224",
   "metadata": {},
   "outputs": [
    {
     "name": "stdout",
     "output_type": "stream",
     "text": [
      "(3, 4.6, 'dog')\n",
      "3\n",
      "4.6\n",
      "dog\n"
     ]
    }
   ],
   "source": [
    "my_tuple = 3, 4.6, \"dog\"\n",
    "print(my_tuple)\n",
    "\n",
    "# tuple unpacking is also possible\n",
    "a, b, c = my_tuple\n",
    "\n",
    "print(a)      # 3\n",
    "print(b)      # 4.6\n",
    "print(c)      # dog"
   ]
  },
  {
   "cell_type": "markdown",
   "id": "de733df6",
   "metadata": {},
   "source": [
    "**Tək elementli tuple təyin etmək**\n",
    "\n",
    "- Mötərizə içərisində tək bir element təyin etmək yetərli deyildir. Bunun bir tuple olduğunu bildirmək üçün mütləq ondan sonra vergül qoymaq lazımdır."
   ]
  },
  {
   "cell_type": "code",
   "execution_count": 10,
   "id": "1b3c0484",
   "metadata": {},
   "outputs": [
    {
     "name": "stdout",
     "output_type": "stream",
     "text": [
      "<class 'str'>\n",
      "<class 'tuple'>\n",
      "<class 'tuple'>\n"
     ]
    }
   ],
   "source": [
    "my_tuple = (\"hello\")\n",
    "print(type(my_tuple))  # <class 'str'>\n",
    "\n",
    "# Creating a tuple having one element\n",
    "my_tuple = (\"hello\",)\n",
    "print(type(my_tuple))  # <class 'tuple'>\n",
    "\n",
    "# Parentheses is optional\n",
    "my_tuple = \"hello\",\n",
    "print(type(my_tuple))  # <class 'tuple'>"
   ]
  },
  {
   "cell_type": "markdown",
   "id": "6f543c04",
   "metadata": {},
   "source": [
    "# Indexing\n",
    "\n",
    "- Listlərdə olduğu kimidir."
   ]
  },
  {
   "cell_type": "code",
   "execution_count": 18,
   "id": "c0513d60",
   "metadata": {},
   "outputs": [
    {
     "name": "stdout",
     "output_type": "stream",
     "text": [
      "p\n",
      "t\n",
      "s\n",
      "4\n",
      "l\n"
     ]
    }
   ],
   "source": [
    "# Accessing tuple elements using indexing\n",
    "my_tuple = ('p','e','r','m','i','t')\n",
    "\n",
    "print(my_tuple[0])   # 'p' \n",
    "print(my_tuple[5])   # 't'\n",
    "\n",
    "# Tuple olmayan indeksi verdiyimiz zaman xəta alacayıq\n",
    "# IndexError: list index out of range \n",
    "# print(my_tuple[6])\n",
    "\n",
    "# İndeks mütləq integer olaraq verilməlidir digər iterable data type-lardakı kimi\n",
    "# Index must be an integer\n",
    "# TypeError: list indices must be integers, not float\n",
    "# my_tuple[2.0]\n",
    "\n",
    "# İç içə tuple\n",
    "# nested tuple\n",
    "n_tuple = (\"mouse\", [8, 4, 6], (\"hello\", 2, 3))\n",
    "\n",
    "# nested index\n",
    "print(n_tuple[0][3])       # 's'\n",
    "print(n_tuple[1][1])       # 4\n",
    "print(n_tuple[2][0][3])    # l"
   ]
  },
  {
   "cell_type": "code",
   "execution_count": 19,
   "id": "84afca82",
   "metadata": {},
   "outputs": [
    {
     "name": "stdout",
     "output_type": "stream",
     "text": [
      "t\n",
      "p\n"
     ]
    }
   ],
   "source": [
    "# Negative indexing for accessing tuple elements\n",
    "my_tuple = ('p', 'e', 'r', 'm', 'i', 't')\n",
    "\n",
    "# Output: 't'\n",
    "print(my_tuple[-1])\n",
    "\n",
    "# Output: 'p'\n",
    "print(my_tuple[-6])"
   ]
  },
  {
   "cell_type": "markdown",
   "id": "6b74dd7c",
   "metadata": {},
   "source": [
    "# slicing\n",
    "\n",
    "- List-də olduğu kimidir"
   ]
  },
  {
   "cell_type": "code",
   "execution_count": 21,
   "id": "919f25e4",
   "metadata": {},
   "outputs": [
    {
     "name": "stdout",
     "output_type": "stream",
     "text": [
      "('r', 'o', 'g')\n",
      "('p', 'r', 'o', 'g')\n",
      "('m', 'i', 'n', 'g')\n",
      "('p', 'r', 'o', 'g', 'r', 'a', 'm', 'm', 'i', 'n', 'g')\n"
     ]
    }
   ],
   "source": [
    "# Accessing tuple elements using slicing\n",
    "my_tuple = ('p','r','o','g','r','a','m','m','i', 'n', 'g')\n",
    "\n",
    "# elements 2nd to 4th\n",
    "# Output: ('r', 'o', 'g')\n",
    "print(my_tuple[1:4])\n",
    "\n",
    "# elements beginning to 2nd\n",
    "# Output: ('p', 'r')\n",
    "print(my_tuple[:-7])\n",
    "\n",
    "# elements 8th to end\n",
    "# Output: ('i', 'z')\n",
    "print(my_tuple[7:])\n",
    "\n",
    "# elements beginning to end\n",
    "# Output: ('p', 'r', 'o', 'g', 'r', 'a', 'm', 'i', 'z')\n",
    "print(my_tuple[:])"
   ]
  },
  {
   "cell_type": "markdown",
   "id": "c64b4de7",
   "metadata": {},
   "source": [
    "# Changing a Tuple\n",
    "\n",
    "- Listlərdən fərqli olaraq tuple-lar immutable-dır. Yəni dəyişilməz. Bir dəfə təyin edirsiniz artıq dəyişilə bilməz\n",
    "- Amma tuple-ın daxilindəki elementlərdən hər hansı biri immutabledırsa onu dəyişə bilirik."
   ]
  },
  {
   "cell_type": "code",
   "execution_count": 25,
   "id": "9a4877c4",
   "metadata": {},
   "outputs": [
    {
     "name": "stdout",
     "output_type": "stream",
     "text": [
      "(4, 2, 3, [9, 5])\n",
      "('p', 'r', 'o', 'g', 'r', 'a', 'm', 'm', 'i', 'n', 'g')\n"
     ]
    }
   ],
   "source": [
    "# Changing tuple values\n",
    "my_tuple = (4, 2, 3, [6, 5])\n",
    "\n",
    "# 1-ci indeksdəki elementi dəyişməyə cəhd etsək xəta alacayıq\n",
    "# TypeError: 'tuple' object does not support item assignment\n",
    "# my_tuple[1] = 9\n",
    "\n",
    "# Lakin daxilində mutable element varsa onun elementlərini dəyişə bilərik\n",
    "# However, item of mutable element can be changed\n",
    "my_tuple[3][0] = 9    # Output: (4, 2, 3, [9, 5])\n",
    "print(my_tuple)\n",
    "\n",
    "# Tuples can be reassigned\n",
    "my_tuple = ('p','r','o','g','r','a','m','m','i', 'n', 'g')\n",
    "\n",
    "# Output: ('p','r','o','g','r','a','m','m','i', 'n', 'g')\n",
    "print(my_tuple)"
   ]
  },
  {
   "cell_type": "markdown",
   "id": "75c06880",
   "metadata": {},
   "source": [
    "- **Biz həmçinin + operatoru ilə tuple-ları birləşdirə bilərik**\n",
    "- **Həmçinin * operatoru ilə tuple-dakı elementləri verilmiş sayda təkrarlaya bilərik**\n",
    "- **Həm +, həm də * əməliyyatları yeni tuple ilə nəticələnir.**"
   ]
  },
  {
   "cell_type": "code",
   "execution_count": 1,
   "id": "0bb67fb4",
   "metadata": {},
   "outputs": [
    {
     "name": "stdout",
     "output_type": "stream",
     "text": [
      "(1, 2, 3, 4, 5, 6)\n",
      "('Repeat', 'Repeat', 'Repeat')\n"
     ]
    }
   ],
   "source": [
    "# Concatenation\n",
    "# Output: (1, 2, 3, 4, 5, 6)\n",
    "print((1, 2, 3) + (4, 5, 6))\n",
    "\n",
    "# Repeat\n",
    "# Output: ('Repeat', 'Repeat', 'Repeat')\n",
    "print((\"Repeat\",) * 3)"
   ]
  },
  {
   "cell_type": "markdown",
   "id": "123382e1",
   "metadata": {},
   "source": [
    "# Deleting a Tuple\n",
    "\n",
    "- tuple-ların elementləri dəyişdirilə bilməz olduğu üçün onları silədə bilmərik\n",
    "- lakin del metodundan istifadə edərək tuple-ı mənimsətdiyimiz dəyişəni silə bilərik"
   ]
  },
  {
   "cell_type": "code",
   "execution_count": 27,
   "id": "9b8e351f",
   "metadata": {},
   "outputs": [
    {
     "ename": "NameError",
     "evalue": "name 'my_tuple' is not defined",
     "output_type": "error",
     "traceback": [
      "\u001b[0;31m---------------------------------------------------------------------------\u001b[0m",
      "\u001b[0;31mNameError\u001b[0m                                 Traceback (most recent call last)",
      "\u001b[0;32m/tmp/ipykernel_36649/2390058803.py\u001b[0m in \u001b[0;36m<module>\u001b[0;34m\u001b[0m\n\u001b[1;32m     10\u001b[0m \u001b[0;34m\u001b[0m\u001b[0m\n\u001b[1;32m     11\u001b[0m \u001b[0;31m# NameError: name 'my_tuple' is not defined\u001b[0m\u001b[0;34m\u001b[0m\u001b[0;34m\u001b[0m\u001b[0m\n\u001b[0;32m---> 12\u001b[0;31m \u001b[0mprint\u001b[0m\u001b[0;34m(\u001b[0m\u001b[0mmy_tuple\u001b[0m\u001b[0;34m)\u001b[0m\u001b[0;34m\u001b[0m\u001b[0;34m\u001b[0m\u001b[0m\n\u001b[0m",
      "\u001b[0;31mNameError\u001b[0m: name 'my_tuple' is not defined"
     ]
    }
   ],
   "source": [
    "# Deleting tuples\n",
    "my_tuple = ('p','r','o','g','r','a','m','m','i', 'n', 'g')\n",
    "\n",
    "# can't delete items\n",
    "# TypeError: 'tuple' object doesn't support item deletion\n",
    "# del my_tuple[3]\n",
    "\n",
    "# Can delete an entire tuple\n",
    "del my_tuple\n",
    "\n",
    "# NameError: name 'my_tuple' is not defined\n",
    "print(my_tuple)"
   ]
  },
  {
   "cell_type": "markdown",
   "id": "1d473224",
   "metadata": {},
   "source": [
    "- Burda error verməyinə səbəb sonda yazdığımız print metodudur. print metodundan əvvəl silmə əməliyyatı edildiyi üçün my_tuple dəyişənini tapa bilmədiyini deyir python"
   ]
  },
  {
   "cell_type": "markdown",
   "id": "f0e0d2ac",
   "metadata": {},
   "source": [
    "# Tuple Methods\n",
    "\n",
    "- tuple üçün yalnız aşağıdakı 2 metod vardır."
   ]
  },
  {
   "cell_type": "code",
   "execution_count": 28,
   "id": "5a8386d1",
   "metadata": {},
   "outputs": [
    {
     "name": "stdout",
     "output_type": "stream",
     "text": [
      "2\n",
      "3\n"
     ]
    }
   ],
   "source": [
    "my_tuple = ('a', 'p', 'p', 'l', 'e',)\n",
    "\n",
    "print(my_tuple.count('p'))  # Output: 2\n",
    "print(my_tuple.index('l'))  # Output: 3"
   ]
  },
  {
   "cell_type": "code",
   "execution_count": null,
   "id": "8ef2f35e",
   "metadata": {},
   "outputs": [],
   "source": []
  }
 ],
 "metadata": {
  "kernelspec": {
   "display_name": "Python 3 (ipykernel)",
   "language": "python",
   "name": "python3"
  },
  "language_info": {
   "codemirror_mode": {
    "name": "ipython",
    "version": 3
   },
   "file_extension": ".py",
   "mimetype": "text/x-python",
   "name": "python",
   "nbconvert_exporter": "python",
   "pygments_lexer": "ipython3",
   "version": "3.9.9"
  }
 },
 "nbformat": 4,
 "nbformat_minor": 5
}
