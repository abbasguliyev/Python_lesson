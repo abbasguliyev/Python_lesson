{
 "cells": [
  {
   "cell_type": "markdown",
   "id": "b21e8b87",
   "metadata": {},
   "source": [
    "# input() method\n",
    "\n",
    "- İndiyə qədər yazdığımız bütün proqramlar statik idi. Yəni dəyərləri özümüz təyin edirdik. input metodu bizə dəyərlərin istifadəçi tərəfindən verilməsinə yarayır. Programı çalıştırdığımız zaman input funksiyası bizdən dəyər girməyimizi gözləyir."
   ]
  },
  {
   "cell_type": "code",
   "execution_count": 4,
   "id": "97463fad",
   "metadata": {},
   "outputs": [
    {
     "name": "stdout",
     "output_type": "stream",
     "text": [
      "10\n"
     ]
    }
   ],
   "source": [
    "num = input()"
   ]
  },
  {
   "cell_type": "code",
   "execution_count": 3,
   "id": "7835bdac",
   "metadata": {},
   "outputs": [
    {
     "name": "stdout",
     "output_type": "stream",
     "text": [
      "10\n"
     ]
    }
   ],
   "source": [
    "print(num)"
   ]
  },
  {
   "cell_type": "markdown",
   "id": "d48a926d",
   "metadata": {},
   "source": [
    "- Əgər istəsək input içərisində istifadəçi üçün bir məlumat da göndərə bilərik"
   ]
  },
  {
   "cell_type": "code",
   "execution_count": 5,
   "id": "26549bd0",
   "metadata": {},
   "outputs": [
    {
     "name": "stdout",
     "output_type": "stream",
     "text": [
      "Enter a number: 15\n"
     ]
    }
   ],
   "source": [
    "num = input('Enter a number: ')"
   ]
  },
  {
   "cell_type": "code",
   "execution_count": 6,
   "id": "b7edcaae",
   "metadata": {},
   "outputs": [
    {
     "name": "stdout",
     "output_type": "stream",
     "text": [
      "15\n"
     ]
    }
   ],
   "source": [
    "print(num)"
   ]
  },
  {
   "cell_type": "markdown",
   "id": "05613e94",
   "metadata": {},
   "source": [
    "- **İstifadəçinin girdiyi dəyər input funksiyasından bizə string olaraq geri dönür**"
   ]
  },
  {
   "cell_type": "code",
   "execution_count": 7,
   "id": "3f0f5cf1",
   "metadata": {},
   "outputs": [
    {
     "name": "stdout",
     "output_type": "stream",
     "text": [
      "Yaşınızı daxil edin: 23\n"
     ]
    }
   ],
   "source": [
    "age = input(\"Yaşınızı daxil edin: \")"
   ]
  },
  {
   "cell_type": "code",
   "execution_count": 8,
   "id": "9785229e",
   "metadata": {
    "scrolled": true
   },
   "outputs": [
    {
     "name": "stdout",
     "output_type": "stream",
     "text": [
      "<class 'str'>\n"
     ]
    }
   ],
   "source": [
    "print(type(age))"
   ]
  },
  {
   "cell_type": "markdown",
   "id": "aae57a8c",
   "metadata": {},
   "source": [
    "- Əgər biz istifadəçinin daxil etdiyi rəqəmlər ilə riyazi hesablamalar filan aparacayıqsa bu zaman type casting istifadə etməliyik. Çünki əks halda ya xəta alacayıq ya da əgər əməliyyatımız toplama və vurmadırsa uyğun olaraq stringləri birləşdirəcək ya da vurma əməliyyatı ilə stringi verilmiş dəyər qədər təkrarlayacaq"
   ]
  },
  {
   "cell_type": "code",
   "execution_count": 9,
   "id": "be899f90",
   "metadata": {},
   "outputs": [
    {
     "name": "stdout",
     "output_type": "stream",
     "text": [
      "a-nı daxil edin => 5\n"
     ]
    }
   ],
   "source": [
    "a = input(\"a-nı daxil edin => \")"
   ]
  },
  {
   "cell_type": "code",
   "execution_count": 10,
   "id": "bdb324b7",
   "metadata": {},
   "outputs": [
    {
     "name": "stdout",
     "output_type": "stream",
     "text": [
      "555\n"
     ]
    }
   ],
   "source": [
    "print(a*3)"
   ]
  },
  {
   "cell_type": "code",
   "execution_count": 11,
   "id": "21823fb3",
   "metadata": {},
   "outputs": [
    {
     "name": "stdout",
     "output_type": "stream",
     "text": [
      "a-nı daxil edin => 65\n",
      "b-ni daxil edin => 47\n"
     ]
    }
   ],
   "source": [
    "a = input(\"a-nı daxil edin => \")\n",
    "b = input(\"b-ni daxil edin => \")"
   ]
  },
  {
   "cell_type": "code",
   "execution_count": 12,
   "id": "e8fb3b97",
   "metadata": {},
   "outputs": [
    {
     "name": "stdout",
     "output_type": "stream",
     "text": [
      "6547\n"
     ]
    }
   ],
   "source": [
    "print(a+b)"
   ]
  },
  {
   "cell_type": "code",
   "execution_count": 13,
   "id": "8d98dec0",
   "metadata": {},
   "outputs": [
    {
     "ename": "TypeError",
     "evalue": "unsupported operand type(s) for -: 'str' and 'str'",
     "output_type": "error",
     "traceback": [
      "\u001b[0;31m---------------------------------------------------------------------------\u001b[0m",
      "\u001b[0;31mTypeError\u001b[0m                                 Traceback (most recent call last)",
      "\u001b[0;32m/tmp/ipykernel_29777/2416070880.py\u001b[0m in \u001b[0;36m<module>\u001b[0;34m\u001b[0m\n\u001b[0;32m----> 1\u001b[0;31m \u001b[0mprint\u001b[0m\u001b[0;34m(\u001b[0m\u001b[0ma\u001b[0m\u001b[0;34m-\u001b[0m\u001b[0mb\u001b[0m\u001b[0;34m)\u001b[0m\u001b[0;34m\u001b[0m\u001b[0;34m\u001b[0m\u001b[0m\n\u001b[0m",
      "\u001b[0;31mTypeError\u001b[0m: unsupported operand type(s) for -: 'str' and 'str'"
     ]
    }
   ],
   "source": [
    "print(a-b)"
   ]
  },
  {
   "cell_type": "code",
   "execution_count": 14,
   "id": "e6697eb7",
   "metadata": {},
   "outputs": [
    {
     "name": "stdout",
     "output_type": "stream",
     "text": [
      "a-nı daxil edin:6\n"
     ]
    }
   ],
   "source": [
    "a = int(input(\"a-nı daxil edin:\"))"
   ]
  },
  {
   "cell_type": "code",
   "execution_count": 15,
   "id": "24d11ee7",
   "metadata": {},
   "outputs": [
    {
     "name": "stdout",
     "output_type": "stream",
     "text": [
      "24\n"
     ]
    }
   ],
   "source": [
    "print(a*4)"
   ]
  },
  {
   "cell_type": "markdown",
   "id": "b5287ab7",
   "metadata": {},
   "source": [
    "* Bundan əlavə proqramımızın tələbinə uyğun olaraq digər type casting metodlarından da istifadə edə bilərik. Məsələn float(), int(), str()"
   ]
  },
  {
   "cell_type": "code",
   "execution_count": null,
   "id": "98531947",
   "metadata": {},
   "outputs": [],
   "source": []
  }
 ],
 "metadata": {
  "kernelspec": {
   "display_name": "Python 3 (ipykernel)",
   "language": "python",
   "name": "python3"
  },
  "language_info": {
   "codemirror_mode": {
    "name": "ipython",
    "version": 3
   },
   "file_extension": ".py",
   "mimetype": "text/x-python",
   "name": "python",
   "nbconvert_exporter": "python",
   "pygments_lexer": "ipython3",
   "version": "3.9.9"
  }
 },
 "nbformat": 4,
 "nbformat_minor": 5
}
