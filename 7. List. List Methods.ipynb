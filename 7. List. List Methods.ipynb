{
 "cells": [
  {
   "cell_type": "markdown",
   "id": "f6060fdd",
   "metadata": {},
   "source": [
    "# List\n",
    "\n",
    "- Bu dərsdən artıq data structures bölməsinə keçid edirik. Bu başlıqda görəcəyimiz növbəti data type-mız list-dir.\n",
    "- Listlər stringlərə bənzəyirlər. Belə ki, stringlər kimi indekslənə bilirlər, parçalana bilirlər və üzərlərində bir sıra əməliyyatlar edə biləcəyimiz metodları vardır. Amma stringlərdən bir çox önəmli xüsusiyyətlərinə görə fərqlənirlər. Strginlər keçən bölmədə qeyd etdiyimiz kimi immutable idilər, yəni dəyişdirilə bilmirdilər. Listlər isə mutable-dır. Yəni dəyişdirilə bilirlər. Bundan əlavə Stringlər bildiyimiz kimi simvollar toplusu idi. Amma List-lər tərkibində məlumat tiplərini saxlayırlar. Bir listin tərkibi ancaq eyni data type-lardan ibarət ola biləcəyi kimi müxtəlix məlumat tiplərinin qarışıqından da ibarət ola bilər.\n",
    "\n",
    "**List təyin etmək**\n",
    "\n",
    "List təyin etmək üçün [] istifadə edirik."
   ]
  },
  {
   "cell_type": "code",
   "execution_count": 1,
   "id": "e9e0394d",
   "metadata": {},
   "outputs": [],
   "source": [
    "list1 = []"
   ]
  },
  {
   "cell_type": "markdown",
   "id": "00ccd145",
   "metadata": {},
   "source": [
    "Yuxarıda boş bir list təyin etmişik."
   ]
  },
  {
   "cell_type": "code",
   "execution_count": 2,
   "id": "85f59a1a",
   "metadata": {},
   "outputs": [],
   "source": [
    "cities = ['Baku', 'Istanbul', 'Lisbon', 'Tokio', 'Buxara']"
   ]
  },
  {
   "cell_type": "code",
   "execution_count": 3,
   "id": "2268e96c",
   "metadata": {},
   "outputs": [],
   "source": [
    "squares = [1, 4, 9, 16, 25]"
   ]
  },
  {
   "cell_type": "code",
   "execution_count": 4,
   "id": "b9e9ecc8",
   "metadata": {},
   "outputs": [],
   "source": [
    "a = ['Salam', 15.6, 45, True, [1, 4, 9, 16, 25]]"
   ]
  },
  {
   "cell_type": "markdown",
   "id": "48da613d",
   "metadata": {},
   "source": [
    "- Son misalda fikir versək qarışıq bir list təyin etmişik. Bundan əlavə gördüyümüz kimi list daxilində başqa bir list də təyin etmişik. **Belə ki, list də  bir məlumat tipi olduğu üçün hər hansısa bir listin elementi ola bilər.**"
   ]
  },
  {
   "cell_type": "markdown",
   "id": "eac50d7c",
   "metadata": {},
   "source": [
    "- Bundan əlavə olaraq list təyin etmək üçün list() metodundan da istifadə edə bilərik"
   ]
  },
  {
   "cell_type": "code",
   "execution_count": 5,
   "id": "272104fb",
   "metadata": {},
   "outputs": [
    {
     "name": "stdout",
     "output_type": "stream",
     "text": [
      "List 1 => []\n",
      "List 2 => []\n"
     ]
    }
   ],
   "source": [
    "list1 = list()\n",
    "print(f'List 1 => {list1}')\n",
    "list2 = []\n",
    "print(f'List 2 => {list2}')"
   ]
  },
  {
   "cell_type": "markdown",
   "id": "a7ff03ca",
   "metadata": {},
   "source": [
    "Gördüyümüz kimi hər ikisi də boş list-dir."
   ]
  },
  {
   "cell_type": "markdown",
   "id": "d98c3cec",
   "metadata": {},
   "source": [
    "- list() metodu vasitəsilə bir stringi listə çevirə bilərik."
   ]
  },
  {
   "cell_type": "code",
   "execution_count": 9,
   "id": "4a43214d",
   "metadata": {},
   "outputs": [
    {
     "name": "stdout",
     "output_type": "stream",
     "text": [
      "Salam\n",
      "['S', 'a', 'l', 'a', 'm']\n"
     ]
    }
   ],
   "source": [
    "sayHi = \"Salam\"\n",
    "print(sayHi)\n",
    "l = list(sayHi)\n",
    "print(l)"
   ]
  },
  {
   "cell_type": "markdown",
   "id": "d84b9adb",
   "metadata": {},
   "source": [
    "- Əslində bu üsulla yalnız stringləri çevirmirik. Həmçinin bütün iterable elementləri çevirə bilərik. Amma integer kimi iterable olmayan elementi çevirməyə cəhd etsək bizə xəta verəcək."
   ]
  },
  {
   "cell_type": "markdown",
   "id": "7df5a002",
   "metadata": {},
   "source": [
    "**List indexing and slicing**"
   ]
  },
  {
   "cell_type": "markdown",
   "id": "ce7f887f",
   "metadata": {},
   "source": [
    "- İndeksləmə və parçalama stringlərlə eynidir."
   ]
  },
  {
   "cell_type": "code",
   "execution_count": 10,
   "id": "cf6d6886",
   "metadata": {},
   "outputs": [
    {
     "name": "stdout",
     "output_type": "stream",
     "text": [
      "1\n"
     ]
    }
   ],
   "source": [
    "list1 = [1,2,3,4,5,6]\n",
    "print(list1[0])"
   ]
  },
  {
   "cell_type": "code",
   "execution_count": 11,
   "id": "2bc43013",
   "metadata": {},
   "outputs": [
    {
     "name": "stdout",
     "output_type": "stream",
     "text": [
      "3\n"
     ]
    }
   ],
   "source": [
    "print(list1[-4])"
   ]
  },
  {
   "cell_type": "code",
   "execution_count": 13,
   "id": "bc501b2e",
   "metadata": {
    "scrolled": true
   },
   "outputs": [
    {
     "name": "stdout",
     "output_type": "stream",
     "text": [
      "5\n"
     ]
    }
   ],
   "source": [
    "print(len(list1)-1)"
   ]
  },
  {
   "cell_type": "code",
   "execution_count": 16,
   "id": "06740296",
   "metadata": {},
   "outputs": [
    {
     "name": "stdout",
     "output_type": "stream",
     "text": [
      "6\n"
     ]
    }
   ],
   "source": [
    "print(list1[-1])"
   ]
  },
  {
   "cell_type": "code",
   "execution_count": 17,
   "id": "94aa935c",
   "metadata": {},
   "outputs": [
    {
     "name": "stdout",
     "output_type": "stream",
     "text": [
      "[1, 2, 3, 4, 5, 6]\n"
     ]
    }
   ],
   "source": [
    "print(list1[:])"
   ]
  },
  {
   "cell_type": "code",
   "execution_count": 18,
   "id": "4090263f",
   "metadata": {},
   "outputs": [
    {
     "name": "stdout",
     "output_type": "stream",
     "text": [
      "[1, 2, 3, 4, 5, 6]\n"
     ]
    }
   ],
   "source": [
    "print(list1[:8])"
   ]
  },
  {
   "cell_type": "code",
   "execution_count": 19,
   "id": "a3bfc535",
   "metadata": {},
   "outputs": [
    {
     "name": "stdout",
     "output_type": "stream",
     "text": [
      "[1, 3, 5]\n"
     ]
    }
   ],
   "source": [
    "print(list1[::2])"
   ]
  },
  {
   "cell_type": "code",
   "execution_count": 20,
   "id": "95c04c4b",
   "metadata": {},
   "outputs": [
    {
     "name": "stdout",
     "output_type": "stream",
     "text": [
      "[6, 5, 4, 3, 2, 1]\n"
     ]
    }
   ],
   "source": [
    "print(list1[::-1])"
   ]
  },
  {
   "cell_type": "markdown",
   "id": "eae300b4",
   "metadata": {},
   "source": [
    "- Listin uzunluğunu tapmaq üçün Stringlərdəki kimi len() metodundan istifadə edirik"
   ]
  },
  {
   "cell_type": "code",
   "execution_count": 21,
   "id": "473105f6",
   "metadata": {},
   "outputs": [
    {
     "name": "stdout",
     "output_type": "stream",
     "text": [
      "6\n"
     ]
    }
   ],
   "source": [
    "print(len(list1))"
   ]
  },
  {
   "cell_type": "markdown",
   "id": "e35e5fba",
   "metadata": {},
   "source": [
    "**List methods**"
   ]
  },
  {
   "cell_type": "markdown",
   "id": "900f955b",
   "metadata": {},
   "source": [
    "- 2 listi bir-birilə birləşdirmək üçün aşağıdakı üsuldan istifadə edə bilərik"
   ]
  },
  {
   "cell_type": "code",
   "execution_count": 22,
   "id": "770877f3",
   "metadata": {},
   "outputs": [
    {
     "name": "stdout",
     "output_type": "stream",
     "text": [
      "[1, 42, 34, 24, 5, 6, 7, 88, 92, 100]\n"
     ]
    }
   ],
   "source": [
    "list1 =  [1,42,34,24,5]\n",
    "list2 =  [6,7,88,92,100]\n",
    "print(list1 + list2)"
   ]
  },
  {
   "cell_type": "markdown",
   "id": "5edc0d58",
   "metadata": {},
   "source": [
    "- List-ə yeni bir element əlavə etmək üçün isə aşağıdaı kimi edə bilərik."
   ]
  },
  {
   "cell_type": "code",
   "execution_count": 27,
   "id": "edb832d8",
   "metadata": {},
   "outputs": [
    {
     "name": "stdout",
     "output_type": "stream",
     "text": [
      "[1, 42, 34, 24, 5, 'Salam']\n"
     ]
    }
   ],
   "source": [
    "list1 =  [1,42,34,24,5]\n",
    "list1 = list1 + [\"Salam\"]\n",
    "print(list1)"
   ]
  },
  {
   "cell_type": "code",
   "execution_count": 30,
   "id": "9cdc9779",
   "metadata": {},
   "outputs": [
    {
     "name": "stdout",
     "output_type": "stream",
     "text": [
      "[1, 42, 15, 24, 5, 'Salam']\n"
     ]
    }
   ],
   "source": [
    "list1[2] = 15\n",
    "print(list1)"
   ]
  },
  {
   "cell_type": "code",
   "execution_count": 33,
   "id": "45cfa8e5",
   "metadata": {},
   "outputs": [
    {
     "name": "stdout",
     "output_type": "stream",
     "text": [
      "[1, 21, 'Python', 45, 14, 24, 5, 'Salam']\n"
     ]
    }
   ],
   "source": [
    "list1[1:3] = [21, 'Python']\n",
    "print(list1)"
   ]
  },
  {
   "cell_type": "markdown",
   "id": "07f8d560",
   "metadata": {},
   "source": [
    "- Aşağıdakı koda fikir verin. Biz listin 1 və 2 ci indeksindəki elementləri dəyişəcəyimizi deyirik amma mənimsətdiyimiz zaman 2-dən daha çox element mənimsətmişik. Bu zaman python 1 və 2ci indeksləri yerləşdirir, qeyd etmədiyimiz indekslərə də sıra ilə yeni elementləri əlavə edir."
   ]
  },
  {
   "cell_type": "code",
   "execution_count": 34,
   "id": "2096e5dd",
   "metadata": {},
   "outputs": [
    {
     "name": "stdout",
     "output_type": "stream",
     "text": [
      "[1, 21, 'Python', 45, 14, 45, 14, 24, 5, 'Salam']\n"
     ]
    }
   ],
   "source": [
    "list1[1:3] = [21, 'Python', 45, 14]\n",
    "print(list1)"
   ]
  },
  {
   "cell_type": "markdown",
   "id": "0ffe6d2b",
   "metadata": {},
   "source": [
    "- Bir listi hər hansı bir tam ədədə vura bilərik. Stringlərdə olduğu kimi qeyd etdiyimiz ədəd qədər təkrar edəcək listin elementlərini"
   ]
  },
  {
   "cell_type": "code",
   "execution_count": 37,
   "id": "775a79d4",
   "metadata": {},
   "outputs": [
    {
     "name": "stdout",
     "output_type": "stream",
     "text": [
      "[1, 2, 3, 4, 5, 1, 2, 3, 4, 5, 1, 2, 3, 4, 5]\n"
     ]
    }
   ],
   "source": [
    "newList = [1,2,3,4,5]\n",
    "newList = newList * 3\n",
    "print(newList)"
   ]
  },
  {
   "cell_type": "code",
   "execution_count": 38,
   "id": "e6f7b965",
   "metadata": {},
   "outputs": [
    {
     "name": "stdout",
     "output_type": "stream",
     "text": [
      "[1, 2, 3, 4, 5, 1, 2, 3, 4, 5, 1, 2, 3, 4, 5]\n"
     ]
    }
   ],
   "source": [
    "# Həmçinin aşağıdakı kimi də yaza bilərik. Operatorlar dərsini yada salın\n",
    "newList = [1,2,3,4,5]\n",
    "newList *= 3\n",
    "print(newList)"
   ]
  },
  {
   "cell_type": "markdown",
   "id": "b2384908",
   "metadata": {},
   "source": [
    "**append metodu**\n",
    "- append() metodu listin sonuna yeni bir element əlavə edir"
   ]
  },
  {
   "cell_type": "code",
   "execution_count": 39,
   "id": "bb29f826",
   "metadata": {},
   "outputs": [
    {
     "name": "stdout",
     "output_type": "stream",
     "text": [
      "[3, 'test', 45.5, 6, 78]\n"
     ]
    }
   ],
   "source": [
    "list1 = [3,\"test\",45.5,6]\n",
    "list1.append(78)\n",
    "print(list1)"
   ]
  },
  {
   "cell_type": "markdown",
   "id": "1c9b1ffa",
   "metadata": {},
   "source": [
    "**extend metodu**\n",
    "- extend() metodu listimizə başqa bir listin elementlərini əlavə etməyə yarayır."
   ]
  },
  {
   "cell_type": "code",
   "execution_count": 40,
   "id": "ac3aa815",
   "metadata": {},
   "outputs": [
    {
     "name": "stdout",
     "output_type": "stream",
     "text": [
      "[3, 'test', 45.5, 6, 1, 2, 3, 4, 5]\n"
     ]
    }
   ],
   "source": [
    "list1 = [3,\"test\",45.5,6]\n",
    "list2 = [1,2,3,4,5]\n",
    "list1.extend(list2)\n",
    "print(list1)"
   ]
  },
  {
   "cell_type": "markdown",
   "id": "0c301d5c",
   "metadata": {},
   "source": [
    "**insert metodu**\n",
    "insert() metodu listin qeyd etdiyimiz indeksinə yeni bir element əlavə etməyimizə yarayır. Və verdiyimiz indeksdəki köhnə dəyəri bir indeks sağa sürüşdürür"
   ]
  },
  {
   "cell_type": "code",
   "execution_count": 42,
   "id": "7f4f2bd5",
   "metadata": {},
   "outputs": [
    {
     "name": "stdout",
     "output_type": "stream",
     "text": [
      "['apple', 'orange', 'banana', 'cherry']\n"
     ]
    }
   ],
   "source": [
    "fruits = ['apple', 'banana', 'cherry']\n",
    "\n",
    "fruits.insert(1, \"orange\")\n",
    "print(fruits)"
   ]
  },
  {
   "cell_type": "markdown",
   "id": "75502011",
   "metadata": {},
   "source": [
    "**pop metodu**\n",
    "- pop() metodu içinə heç bir dəyər verməsək listin son elementini silir, əgər bəlli bir indeks versək o indeksdəki elementi siləcək. Amma sildiyi elementi yox etmir, biz bu elementi hər hansısa bir dəyişənə mənimsədib istifadə edə bilərik."
   ]
  },
  {
   "cell_type": "code",
   "execution_count": 43,
   "id": "395583a7",
   "metadata": {},
   "outputs": [
    {
     "name": "stdout",
     "output_type": "stream",
     "text": [
      "banana\n"
     ]
    }
   ],
   "source": [
    "fruits = ['apple', 'banana', 'cherry']\n",
    "\n",
    "x = fruits.pop(1)\n",
    "print(x)"
   ]
  },
  {
   "cell_type": "markdown",
   "id": "e38ebf87",
   "metadata": {},
   "source": [
    "**remove metodu**\n",
    "- remove() metodu verdiyimiz elementi listən silməyə yarayır. pop-dan fərqli olaraq indeks yox elementi veririk. Əgər verdiyimiz element list-ə yoxdursa xəta alacayıq. Əgər verdiyimiz element listimizdə bir neçə dəfə qeyd olunubsa ilk tapdığını siləcək"
   ]
  },
  {
   "cell_type": "code",
   "execution_count": 44,
   "id": "b9b4754d",
   "metadata": {},
   "outputs": [
    {
     "name": "stdout",
     "output_type": "stream",
     "text": [
      "[2, 3, 5, 7, 11]\n"
     ]
    }
   ],
   "source": [
    "prime_numbers = [2, 3, 5, 7, 9, 11]\n",
    "prime_numbers.remove(9)\n",
    "print(prime_numbers)"
   ]
  },
  {
   "cell_type": "code",
   "execution_count": 45,
   "id": "03446ede",
   "metadata": {},
   "outputs": [
    {
     "ename": "ValueError",
     "evalue": "list.remove(x): x not in list",
     "output_type": "error",
     "traceback": [
      "\u001b[0;31m---------------------------------------------------------------------------\u001b[0m",
      "\u001b[0;31mValueError\u001b[0m                                Traceback (most recent call last)",
      "\u001b[0;32m/tmp/ipykernel_8750/2491378958.py\u001b[0m in \u001b[0;36m<module>\u001b[0;34m\u001b[0m\n\u001b[0;32m----> 1\u001b[0;31m \u001b[0mprime_numbers\u001b[0m\u001b[0;34m.\u001b[0m\u001b[0mremove\u001b[0m\u001b[0;34m(\u001b[0m\u001b[0;36m955445\u001b[0m\u001b[0;34m)\u001b[0m\u001b[0;34m\u001b[0m\u001b[0;34m\u001b[0m\u001b[0m\n\u001b[0m",
      "\u001b[0;31mValueError\u001b[0m: list.remove(x): x not in list"
     ]
    }
   ],
   "source": [
    "prime_numbers.remove(955445)"
   ]
  },
  {
   "cell_type": "code",
   "execution_count": 46,
   "id": "b8eb9bc1",
   "metadata": {},
   "outputs": [
    {
     "name": "stdout",
     "output_type": "stream",
     "text": [
      "['cat', 'dog', 'guinea pig', 'dog']\n"
     ]
    }
   ],
   "source": [
    "animals = ['cat', 'dog', 'dog', 'guinea pig', 'dog']\n",
    "animals.remove('dog')\n",
    "print(animals)"
   ]
  },
  {
   "cell_type": "markdown",
   "id": "bd1e8c3b",
   "metadata": {},
   "source": [
    "**clear metodu**\n",
    "\n",
    "- clear() metodu listin içini təmizləyir"
   ]
  },
  {
   "cell_type": "code",
   "execution_count": 47,
   "id": "a07eb86a",
   "metadata": {},
   "outputs": [
    {
     "name": "stdout",
     "output_type": "stream",
     "text": [
      "[]\n"
     ]
    }
   ],
   "source": [
    "prime_numbers = [2, 3, 5, 7, 9, 11]\n",
    "\n",
    "prime_numbers.clear()\n",
    "\n",
    "print(prime_numbers)"
   ]
  },
  {
   "cell_type": "markdown",
   "id": "9ec973cb",
   "metadata": {},
   "source": [
    "**del metodu**\n",
    "\n",
    "- del() metodu yalnız list-lərə məxsus deyil. del metoduna əgər indeksi bildirməsək dəyişəni ramdan silə bilirik. Əgər indeksi bildirsək indeksə uyğun gələn elementi siləcək"
   ]
  },
  {
   "cell_type": "code",
   "execution_count": 48,
   "id": "c2a658bf",
   "metadata": {},
   "outputs": [
    {
     "ename": "NameError",
     "evalue": "name 'list1' is not defined",
     "output_type": "error",
     "traceback": [
      "\u001b[0;31m---------------------------------------------------------------------------\u001b[0m",
      "\u001b[0;31mNameError\u001b[0m                                 Traceback (most recent call last)",
      "\u001b[0;32m/tmp/ipykernel_8750/2133128282.py\u001b[0m in \u001b[0;36m<module>\u001b[0;34m\u001b[0m\n\u001b[1;32m      1\u001b[0m \u001b[0mlist1\u001b[0m \u001b[0;34m=\u001b[0m \u001b[0;34m[\u001b[0m\u001b[0;34m\"banana\"\u001b[0m\u001b[0;34m,\u001b[0m \u001b[0;34m\"grape\"\u001b[0m\u001b[0;34m,\u001b[0m \u001b[0;34m\"cherry\"\u001b[0m\u001b[0;34m]\u001b[0m\u001b[0;34m\u001b[0m\u001b[0;34m\u001b[0m\u001b[0m\n\u001b[1;32m      2\u001b[0m \u001b[0;32mdel\u001b[0m \u001b[0mlist1\u001b[0m\u001b[0;34m\u001b[0m\u001b[0;34m\u001b[0m\u001b[0m\n\u001b[0;32m----> 3\u001b[0;31m \u001b[0mprint\u001b[0m\u001b[0;34m(\u001b[0m\u001b[0mlist1\u001b[0m\u001b[0;34m)\u001b[0m\u001b[0;34m\u001b[0m\u001b[0;34m\u001b[0m\u001b[0m\n\u001b[0m",
      "\u001b[0;31mNameError\u001b[0m: name 'list1' is not defined"
     ]
    }
   ],
   "source": [
    "list1 = [\"banana\", \"grape\", \"cherry\"] \n",
    "del list1\n",
    "print(list1)"
   ]
  },
  {
   "cell_type": "code",
   "execution_count": 49,
   "id": "71957485",
   "metadata": {},
   "outputs": [
    {
     "name": "stdout",
     "output_type": "stream",
     "text": [
      "['banana', 'cherry']\n"
     ]
    }
   ],
   "source": [
    "list1 = [\"banana\", \"grape\", \"cherry\"] \n",
    "del list1[1]\n",
    "print(list1)"
   ]
  },
  {
   "cell_type": "markdown",
   "id": "af5dea0b",
   "metadata": {},
   "source": [
    "**index metodu**\n",
    "\n",
    "- index() metodu verilən dəyərin başdan başlayaraq neçənci indeksdə olduğunu verir. Əgər element listə yoxdursa xəta verəcək"
   ]
  },
  {
   "cell_type": "code",
   "execution_count": 51,
   "id": "30ff08bf",
   "metadata": {},
   "outputs": [
    {
     "name": "stdout",
     "output_type": "stream",
     "text": [
      "1\n"
     ]
    }
   ],
   "source": [
    "animals = ['cat', 'dog', 'rabbit', 'horse']\n",
    "\n",
    "index = animals.index('dog')\n",
    "\n",
    "print(index)"
   ]
  },
  {
   "cell_type": "markdown",
   "id": "5d774cd7",
   "metadata": {},
   "source": [
    "**count metodu**\n",
    "- count() metodu isə verilən dəyərin listə neçə dəfə keçdiyini verir. Əgər həmin dəyər listə yoxdursa 0 qaytaracaq"
   ]
  },
  {
   "cell_type": "code",
   "execution_count": 52,
   "id": "1fee600f",
   "metadata": {},
   "outputs": [
    {
     "name": "stdout",
     "output_type": "stream",
     "text": [
      "3\n"
     ]
    }
   ],
   "source": [
    "numbers = [2, 3, 5, 2, 11, 2, 7]\n",
    "count = numbers.count(2)\n",
    "print(count)"
   ]
  },
  {
   "cell_type": "code",
   "execution_count": 53,
   "id": "c13fb59f",
   "metadata": {},
   "outputs": [
    {
     "name": "stdout",
     "output_type": "stream",
     "text": [
      "0\n"
     ]
    }
   ],
   "source": [
    "numbers = [2, 3, 5, 2, 11, 2, 7]\n",
    "count = numbers.count(455)\n",
    "print(count)"
   ]
  },
  {
   "cell_type": "markdown",
   "id": "fb163e2f",
   "metadata": {},
   "source": [
    "**sort metodu**\n",
    "- sort() metodu adından da göründüyü kimi sıralamaq işinə baxır. Əgər listimiz rəqəmlərdən ibarətdirsə azdan çoxa, əgər stringlərdən ibarətdirsə əlifba sırası ilə sıralayır, qarışıq listi sort ilə sıralamağa cəhd etsək xəta alacayıq. Əgər azdan çoxa deyil də əksinə sıralamaq istəsək reserved=True veririk. Bu həmçinin stringləridə əlifba sırasının əksinə sıralayır"
   ]
  },
  {
   "cell_type": "code",
   "execution_count": 54,
   "id": "8a50ed52",
   "metadata": {},
   "outputs": [
    {
     "name": "stdout",
     "output_type": "stream",
     "text": [
      "[2, 3, 5, 7, 11]\n"
     ]
    }
   ],
   "source": [
    "prime_numbers = [11, 3, 7, 5, 2]\n",
    "prime_numbers.sort()\n",
    "print(prime_numbers)"
   ]
  },
  {
   "cell_type": "code",
   "execution_count": 55,
   "id": "1646e3d0",
   "metadata": {},
   "outputs": [
    {
     "name": "stdout",
     "output_type": "stream",
     "text": [
      "['a', 'e', 'i', 'o', 'u']\n"
     ]
    }
   ],
   "source": [
    "vowels = ['e', 'a', 'u', 'o', 'i']\n",
    "vowels.sort()\n",
    "print(vowels)"
   ]
  },
  {
   "cell_type": "code",
   "execution_count": 56,
   "id": "ffdbefa8",
   "metadata": {},
   "outputs": [
    {
     "name": "stdout",
     "output_type": "stream",
     "text": [
      "Sorted list (in Descending): ['u', 'o', 'i', 'e', 'a']\n"
     ]
    }
   ],
   "source": [
    "vowels = ['e', 'a', 'u', 'o', 'i']\n",
    "vowels.sort(reverse=True)\n",
    "print('Sorted list (in Descending):', vowels)"
   ]
  },
  {
   "cell_type": "code",
   "execution_count": 57,
   "id": "bf401f97",
   "metadata": {},
   "outputs": [
    {
     "name": "stdout",
     "output_type": "stream",
     "text": [
      "[11, 7, 5, 3, 2]\n"
     ]
    }
   ],
   "source": [
    "prime_numbers = [11, 3, 7, 5, 2]\n",
    "prime_numbers.sort(reverse=True)\n",
    "print(prime_numbers)"
   ]
  },
  {
   "cell_type": "markdown",
   "id": "98203f28",
   "metadata": {},
   "source": [
    "- Bundan başqa min və max metodları ilə listin içindəki rəqəmlərdən ən böyük və ən kiçiyini uyğun olaraq tapa bilərik. min və max listə məxsus funksiya deyil. Sadəcə bu metodlar iterable element istəyir və listə iterable olduğu üçün listində əgər rəqəmlərdən ibarətdirsə min və max tapa bilərik"
   ]
  },
  {
   "cell_type": "code",
   "execution_count": 58,
   "id": "495a7384",
   "metadata": {},
   "outputs": [
    {
     "name": "stdout",
     "output_type": "stream",
     "text": [
      "minimum - 2\n",
      "maximum - 11\n"
     ]
    }
   ],
   "source": [
    "a = [11, 3, 7, 5, 2]\n",
    "print(f'minimum - {min(a)}')\n",
    "print(f'maximum - {max(a)}')"
   ]
  },
  {
   "cell_type": "code",
   "execution_count": null,
   "id": "bf8bf0d2",
   "metadata": {},
   "outputs": [],
   "source": []
  }
 ],
 "metadata": {
  "kernelspec": {
   "display_name": "Python 3 (ipykernel)",
   "language": "python",
   "name": "python3"
  },
  "language_info": {
   "codemirror_mode": {
    "name": "ipython",
    "version": 3
   },
   "file_extension": ".py",
   "mimetype": "text/x-python",
   "name": "python",
   "nbconvert_exporter": "python",
   "pygments_lexer": "ipython3",
   "version": "3.9.7"
  }
 },
 "nbformat": 4,
 "nbformat_minor": 5
}
