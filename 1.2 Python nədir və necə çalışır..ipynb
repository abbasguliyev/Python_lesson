{
 "cells": [
  {
   "cell_type": "markdown",
   "id": "fea3f516",
   "metadata": {},
   "source": [
    "# Python nədir və necə çalışır. İDE və Code Editorlar.\n",
    "\n",
    ">**Python** - Python high level(yüksək səviyyəli), open-source(açıq qaynaqlı), interpreterli, cross-platform və çox məqsədli proqramlaşdırma dilidir.  High level ve interpreterin nə olduğuna əvvəlki başlıqda toxunduq. Cross platform dedikdə yəni python bir əməliyyat sisteminə bağlı deyil deməkdir. Linux əməliyyat sistemində python kodu yazdıqda onu rahatlıqla windows və digər əməliyyar sistemində çalıştıra bilirik, həmçinin əksinə. Yəni 1 əməliyyat sisteminə bağlı deyil, hər sistemdə yazmaq olar. Çox məqsədli dedikdə isə pythonun bir çox sahədə istifadə olunduğu bildirilir. Python machine learning, Süni intelekt, data analistikası, web proqramlaşdırma, mobil və desktop proqramlaşdırma və s. sahələrdə işlədilir. Elə bu da pythonun hal hazırda ən məşhur dillərdən biri hətta 1-cisi olmasına gətirib çıxarır. Məşhur TIOBE saytında python 1-ci sıradadır.(daha ətraflı - https://statisticstimes.com/tech/top-computer-languages.php , https://www.tiobe.com/tiobe-index/)\n",
    "Python-un sintaksisi ingilis dilinə çox yaxın olduğu üçün öyrənilməsi asandır. Open Source dildir. Bu səbəblə çox böyük comunitysi var. Və bu səbəblədə çox sürətlə inkişaf etməkdə davam edir. Və daim yeni kitabxanalar çıxdığı üçündə kod yazarkən işimiz çox rahatlaşır. Və buda iş elanlarının artmasına şirkətlərin proyektlərini python ilə yazmasına gətirib çıxarır. Beləki Youtube İnstagram kimi şirkətlər backend olaraq python isitfadə edir. Pythonun digər üstünlüyü də təhlükəsisliyidir.\n",
    "\n",
    ">Adətən proqramlaşdırmaya təzə başlayanlar arasında pythonun sürətinin zəyif olduğu deyilir. Bəli buna səbəb pythonun interpreterli dil olmasıdır. Compilerli dillər interpreterli dillərə nisbətən daha sürətlidir. Amma python C dili üzərində qurulduöu üçün sürət məsləsini kitabxanalar vasitəsi ilə aradan qaldırır. Bundan əlavə yaxın zamanlarda yeni çıxacaq python versiyalarında sürət məsələsi tamamilə ortadan qalxacaq. Əslində sürət heç də problem demək deyil. Çünki 1 proqramlaşdırma dili 1 neçə xüsusiyyətinə görə analiz olunur. Bunlar sürət sintaksis və genişləyə bilməsidir dilin. Python sintaksis olaraq ən rahat dillərdəndir. Beləki başqa dillərdə yazılmış böyük kodları python ilə  1-2 sətirdə həll etmək olur. Elə buda bir proyektin daha sürətli ortaya çıxmasına səbəb olur. Sürət dedikdə 2 cür sürət nəzərdə tutulur. Bir proqramistin proyekti yazma sürəti və proqramın çalışma sürəti. Şirkətlər üçün önəmli olan məsələ proyektlərinin sürətli bir şəkildə yazılıb bazara çıxmaqlarıdır. Proqramın çalışma sürəti bizə sistem(məsələn əməliyyat sistemi) yazanda filan lazım olur. Bu zaman gedib C kimi dillərdən istifadə etmək daha məqsədə uyğundur. Amma digər sahələrdə python ən yaxşı seçimlərdəndir. Çünki bir proyekti daha sürətli ortaya çıxarmaq olur, Communitysi geniş olduğu üçün daim yeni kitabxanalar əlavə olunur. Ümumiyyətlə hər bir dilin bir birinə üstünlükləri var. Python öz istifadə sahələrində ən çox istifadə olunan dildir. Və dünyada ən çox vakansiyanın olduğu 2 dildən biridir. Həmçinin Azərbaycan bazarında da sürətlə yayılır. Qısaca pythonun üstünlükləri haqda bu qədər.\n",
    "\n",
    "> Python istifadə etmək üçün, Pythonda proqram yazmaq üçün Python interpreterinə  ehtiyacımız var. İnterpreter tərcüməçi deməkdir. Keçən başlıqda danışmışdıq bu haqda. Python-u pythonun rəsmi saytından yükləyirik.(https://www.python.org/downloads/). (**Yükləmə ekranında Add to Path seçimini seçməyi unutmayın**).\n",
    "Yükləmə bitdikdən sonra kompyuterimizdə terminal(CMD) ekranına gəlirik və python --version yazırıq. Əgər yükləmə normal qaydada olubsa ekranda python versiyamızı görəcəyik.\n",
    "\n",
    "> Python kodlarımızı yazmaq üçün bir neçə üsul var. Ən sadə formada terminal-a daxil oluruq. Linuxda Ctrl+Alt+T qısa yolu vasitəsilə, Windows əməliyyat sistemində isə axtarış hissəsində promt yazaraq command promta daxil oluruq.(Bayaq python --version yazdığımız yer). Burada python yazdırıq və Entere basırıq, python terminalına daxil olacayıq:\n",
    "![alt text](https://www.tutorialsteacher.com/Content/images/python/python-shell.png)\n",
    "Burada biz böyük proyektlər yaza bilməsəkdə, sürətli şəkildə kodlarımızı test edə bilərik və ya bəsit riyazi əməliyyatlar edə bilərik. Amma bizə daha güclü vasitələr lazımdır. Bu zaman köməyimizə Kod editorları və İDE-lər gəlir. Bizim kurs boyunca istifadə edəcəyimiz kod editoru Visual Studio Code-dur. Bunun səbəbi open-source olması, pulsuz olması, bir çox dili dəstəkləməsi, güclü communitysi sayəsində daim yenilənməsi yeni extensionslarının çıxmasıdır. Ümumiyyətlə İde və kod editorları bizə kod yazmağımızda yardımçı olan vasitələrdir. Avtomatik tamamlama, Syntaxsisdə xəta etdikdə anında bildirmə kimi köməkliklər göstərirlər. İDE olaraq Python da Pycharm-ı misal göstərmək olar, sadəcə bir mənfi cəhəti web lahiyələr yazdığımız zaman pullu versiyasından istifadə etməli olacayıq. İdelə kod editorundan fəqli olaraq daha ağırdırlar və hər şeyi ilə hazır gəlirlər. Məsələn biz Vs Code-da python kodu yazmaq üçün əlavə olaraq Python extensionu yükləməliyik. Vs Code-u rəsmi saytından yükləyə bilərik: https://code.visualstudio.com/ ."
   ]
  }
 ],
 "metadata": {
  "kernelspec": {
   "display_name": "Python 3 (ipykernel)",
   "language": "python",
   "name": "python3"
  },
  "language_info": {
   "codemirror_mode": {
    "name": "ipython",
    "version": 3
   },
   "file_extension": ".py",
   "mimetype": "text/x-python",
   "name": "python",
   "nbconvert_exporter": "python",
   "pygments_lexer": "ipython3",
   "version": "3.9.9"
  }
 },
 "nbformat": 4,
 "nbformat_minor": 5
}
