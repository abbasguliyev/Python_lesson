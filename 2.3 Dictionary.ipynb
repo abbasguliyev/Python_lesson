{
 "cells": [
  {
   "cell_type": "markdown",
   "id": "98d8e432",
   "metadata": {},
   "source": [
    "# Dictionary\n",
    "\n",
    "- bu məlumat tipi sıralanmamış elementlərdən ibarət məlumar tipidir. Hər bir elementin key/value su var. Yəni dictionarydə elementlər indeks ilə deyil key(açar) value(dəyər) ilə tutulur.\n",
    "- Dictionarylər key bilindiyi zaman valueları əldə etmək üçün optimallaşdırılıb"
   ]
  },
  {
   "cell_type": "markdown",
   "id": "0407da94",
   "metadata": {},
   "source": [
    "# dictionary düzəltmək\n",
    "\n",
    "- dictionary düzəltmək, {} içərisinə vergüllə ayrılmış elementlər əlavə etməklə mümkün olur. Bundan başqa təxmin etdiyimiz kimi dict() metodu ilə də boş bir dictionary düzəldə bilərik.\n",
    "- hər bir elementin key və value-su var\n",
    "- value-lar istənilən məlumat tipində ola bilər və təkrarlana bilər\n",
    "- key-lər isə dəyişməz tipdə olmalıdır. Yəni immutable type - (sring, number və ya tuple) və uniqe(unikal, tək) olmalıdır."
   ]
  },
  {
   "cell_type": "code",
   "execution_count": 6,
   "id": "d4798dc5",
   "metadata": {},
   "outputs": [],
   "source": [
    "# empty dictionary\n",
    "my_dict = {}\n",
    "\n",
    "my_dict = dict()\n",
    "\n",
    "# dictionary with integer keys\n",
    "my_dict = {1: 'apple', 2: 'ball'}\n",
    "\n",
    "# dictionary with mixed keys\n",
    "my_dict = {'name': 'John', 1: [2, 4, 3]}\n",
    "\n",
    "# using dict()\n",
    "my_dict = dict({1:'apple', 2:'ball'})\n",
    "\n",
    "# from sequence having each item as a pair\n",
    "my_dict = dict([(1,'apple'), (2,'ball')])"
   ]
  },
  {
   "cell_type": "markdown",
   "id": "56d29975",
   "metadata": {},
   "source": [
    "# dictionary elementlərinə əldə etmək\n",
    "\n",
    "- Dəyərləri əldə etmək üçün digər məlumat tipləri indexləmə istifadə etdiyi halda dictionarylər keyləri istifadə edir.\n",
    "- Key-lər [] və ya get() metodu ilə istifadə olunurlar.\n",
    "- Kvadrat mötərizələrdən [] istifadə etsək, dictionarydə açar tapılmadıqda KeyError alırıq. \n",
    "- get() metodu isə açarı tapmadıqda None qaytarır. get metodu 2 parametr alır 1-cisi key, 2-cisi isə value. value-nu vermək istəyə bağlıdır. Yəni biz əgər olmayan key versək və None qaytarmağını istəməsək özümüzdən value verə bilərik"
   ]
  },
  {
   "cell_type": "code",
   "execution_count": 56,
   "id": "8cdbd000",
   "metadata": {},
   "outputs": [
    {
     "name": "stdout",
     "output_type": "stream",
     "text": [
      "Jack\n",
      "26\n",
      "None\n",
      "Baku\n"
     ]
    },
    {
     "ename": "KeyError",
     "evalue": "'address'",
     "output_type": "error",
     "traceback": [
      "\u001b[0;31m---------------------------------------------------------------------------\u001b[0m",
      "\u001b[0;31mKeyError\u001b[0m                                  Traceback (most recent call last)",
      "\u001b[0;32m/tmp/ipykernel_40186/1779096729.py\u001b[0m in \u001b[0;36m<module>\u001b[0;34m\u001b[0m\n\u001b[1;32m     14\u001b[0m \u001b[0;34m\u001b[0m\u001b[0m\n\u001b[1;32m     15\u001b[0m \u001b[0;31m# KeyError\u001b[0m\u001b[0;34m\u001b[0m\u001b[0;34m\u001b[0m\u001b[0m\n\u001b[0;32m---> 16\u001b[0;31m \u001b[0mprint\u001b[0m\u001b[0;34m(\u001b[0m\u001b[0mmy_dict\u001b[0m\u001b[0;34m[\u001b[0m\u001b[0;34m'address'\u001b[0m\u001b[0;34m]\u001b[0m\u001b[0;34m)\u001b[0m\u001b[0;34m\u001b[0m\u001b[0;34m\u001b[0m\u001b[0m\n\u001b[0m",
      "\u001b[0;31mKeyError\u001b[0m: 'address'"
     ]
    }
   ],
   "source": [
    "# get vs [] for retrieving elements\n",
    "my_dict = {'name': 'Jack', 'age': 26}\n",
    "\n",
    "# Output: Jack\n",
    "print(my_dict['name'])\n",
    "\n",
    "# Output: 26\n",
    "print(my_dict.get('age'))\n",
    "\n",
    "# Trying to access keys which doesn't exist throws error\n",
    "# Output None\n",
    "print(my_dict.get('address'))\n",
    "print(my_dict.get('address', \"Baku\"))\n",
    "\n",
    "# KeyError\n",
    "print(my_dict['address'])"
   ]
  },
  {
   "cell_type": "code",
   "execution_count": 11,
   "id": "29ff87dd",
   "metadata": {},
   "outputs": [
    {
     "name": "stdout",
     "output_type": "stream",
     "text": [
      "[1, 2, 3, 4]\n",
      "4\n",
      "15\n"
     ]
    }
   ],
   "source": [
    "a = {\"bir\" : [1,2,3,4], \"iki\": [[1,2],[3,4],[5,6]],\"üç\" : 15}\n",
    "print(a[\"bir\"])\n",
    "print(a[\"iki\"][1][1])\n",
    "print(a[\"üç\"])"
   ]
  },
  {
   "cell_type": "markdown",
   "id": "1d833681",
   "metadata": {},
   "source": [
    "# Dictionary elementlərini dəyişdirmək və yeni element əlavə etmək\n",
    "\n",
    "- Dict-lər mutable-dırlar. Mənimsətmə operatorundan (=) istifadə edərək dict-ləri dəyişdirə və ya yeni element əlavə edə bilərik. Əgər key artıq təyin olunubsa mövcud value yenilənir."
   ]
  },
  {
   "cell_type": "code",
   "execution_count": 19,
   "id": "5252a105",
   "metadata": {},
   "outputs": [
    {
     "name": "stdout",
     "output_type": "stream",
     "text": [
      "{'name': 'Jack', 'age': 27}\n",
      "{'name': 'Jack', 'age': 27, 'address': 'Downtown'}\n"
     ]
    }
   ],
   "source": [
    "# Changing and adding Dictionary Elements\n",
    "my_dict = {'name': 'Jack', 'age': 26}\n",
    "\n",
    "# update value\n",
    "my_dict['age'] = 27\n",
    "\n",
    "#Output: {'age': 27, 'name': 'Jack'}\n",
    "print(my_dict)\n",
    "\n",
    "# add item\n",
    "my_dict['address'] = 'Downtown'\n",
    "\n",
    "\n",
    "# Output: {'address': 'Downtown', 'age': 27, 'name': 'Jack'}\n",
    "print(my_dict)"
   ]
  },
  {
   "cell_type": "markdown",
   "id": "7e344556",
   "metadata": {},
   "source": [
    "# Dict-dən element silmək\n",
    "\n",
    "- pop() metodundan istifadə edərək lüğətdəki müəyyən bir elementi silə bilərik. Bu üsul verilən key-ə uyğun elementi silir və dəyəri qaytarır.\n",
    "- popitem() metodu lüğətdən ixtiyari (key , value) element cütünü silmək və qaytarmaq üçün istifadə edilə bilər.\n",
    "- clear() metodundan istifadə etməklə bütün elementlər bir anda silinə bilər.\n",
    "- Biz həmçinin ayrı-ayrı elementləri və ya bütün dict-in özünü silmək üçün del keywordundan istifadə edə bilərik."
   ]
  },
  {
   "cell_type": "code",
   "execution_count": 20,
   "id": "9db96629",
   "metadata": {},
   "outputs": [
    {
     "name": "stdout",
     "output_type": "stream",
     "text": [
      "16\n",
      "{1: 1, 2: 4, 3: 9, 5: 25}\n",
      "(5, 25)\n",
      "{1: 1, 2: 4, 3: 9}\n",
      "{}\n"
     ]
    },
    {
     "ename": "NameError",
     "evalue": "name 'squares' is not defined",
     "output_type": "error",
     "traceback": [
      "\u001b[0;31m---------------------------------------------------------------------------\u001b[0m",
      "\u001b[0;31mNameError\u001b[0m                                 Traceback (most recent call last)",
      "\u001b[0;32m/tmp/ipykernel_40186/1968832105.py\u001b[0m in \u001b[0;36m<module>\u001b[0;34m\u001b[0m\n\u001b[1;32m     28\u001b[0m \u001b[0;34m\u001b[0m\u001b[0m\n\u001b[1;32m     29\u001b[0m \u001b[0;31m# Throws Error\u001b[0m\u001b[0;34m\u001b[0m\u001b[0;34m\u001b[0m\u001b[0m\n\u001b[0;32m---> 30\u001b[0;31m \u001b[0mprint\u001b[0m\u001b[0;34m(\u001b[0m\u001b[0msquares\u001b[0m\u001b[0;34m)\u001b[0m\u001b[0;34m\u001b[0m\u001b[0;34m\u001b[0m\u001b[0m\n\u001b[0m",
      "\u001b[0;31mNameError\u001b[0m: name 'squares' is not defined"
     ]
    }
   ],
   "source": [
    "# Removing elements from a dictionary\n",
    "\n",
    "# create a dictionary\n",
    "squares = {1: 1, 2: 4, 3: 9, 4: 16, 5: 25}\n",
    "\n",
    "# remove a particular item, returns its value\n",
    "# Output: 16\n",
    "print(squares.pop(4))\n",
    "\n",
    "# Output: {1: 1, 2: 4, 3: 9, 5: 25}\n",
    "print(squares)\n",
    "\n",
    "# remove an arbitrary item, return (key,value)\n",
    "# Output: (5, 25)\n",
    "print(squares.popitem())\n",
    "\n",
    "# Output: {1: 1, 2: 4, 3: 9}\n",
    "print(squares)\n",
    "\n",
    "# remove all items\n",
    "squares.clear()\n",
    "\n",
    "# Output: {}\n",
    "print(squares)\n",
    "\n",
    "# delete the dictionary itself\n",
    "del squares\n",
    "\n",
    "# Throws Error\n",
    "print(squares)"
   ]
  },
  {
   "cell_type": "markdown",
   "id": "b6a51f82",
   "metadata": {},
   "source": [
    "# Python Dictionary Methods\n",
    "\n",
    "- Yuxarıda bəzi dict metodlarına baxdıq. İndi isə digər metodlara baxaq."
   ]
  },
  {
   "cell_type": "markdown",
   "id": "1d451c66",
   "metadata": {},
   "source": [
    "# copy()\n",
    "\n",
    "- copy() - dictionary-nin kopyasını geri qaytarır.\n",
    "- heç bir arqument almır"
   ]
  },
  {
   "cell_type": "code",
   "execution_count": 22,
   "id": "adebb908",
   "metadata": {},
   "outputs": [
    {
     "name": "stdout",
     "output_type": "stream",
     "text": [
      "Original Marks: {'Physics': 67, 'Maths': 87}\n",
      "Copied Marks: {'Physics': 67, 'Maths': 87}\n"
     ]
    }
   ],
   "source": [
    "original_marks = {'Physics':67, 'Maths':87}\n",
    "\n",
    "copied_marks = original_marks.copy()\n",
    "\n",
    "\n",
    "print('Original Marks:', original_marks)\n",
    "print('Copied Marks:', copied_marks)"
   ]
  },
  {
   "cell_type": "code",
   "execution_count": 28,
   "id": "9bfffdd3",
   "metadata": {},
   "outputs": [
    {
     "name": "stdout",
     "output_type": "stream",
     "text": [
      "Orignal:  {1: 'one', 2: 'two'}\n",
      "New:  {1: 'one', 2: 'two'}\n"
     ]
    }
   ],
   "source": [
    "original = {1:'one', 2:'two'}\n",
    "new = original.copy()\n",
    "\n",
    "print('Orignal: ', original)\n",
    "print('New: ', new)"
   ]
  },
  {
   "cell_type": "markdown",
   "id": "72dcb2de",
   "metadata": {},
   "source": [
    "# Dictionary copy() Method Vs = Operator\n",
    "\n",
    "- copy() metodundan istifadə edildikdə, orijinal dictionary-nin kopyası təyin olunur. Amma yaddaşda ayrı ayrı yerlərdə olurlar. Və kopyalanmış variableda dəyişiklik etdikdə digər value-ya təsir etmir\n",
    "\n",
    "- = operatorundan istifadə edildikdə, orijinal lüğətə yeni istinad təyin olunur. Yəni yaddaşda eyni yerə baxırlar. Və bu zaman kopyalanmış variableda dəyişiklik etdikdə digər value-da dəyişir"
   ]
  },
  {
   "cell_type": "code",
   "execution_count": 42,
   "id": "7cf0935c",
   "metadata": {},
   "outputs": [
    {
     "name": "stdout",
     "output_type": "stream",
     "text": [
      "139729654819968\n",
      "139729654820160\n",
      "new:  {}\n",
      "original:  {1: 'one', 2: 'two'}\n"
     ]
    }
   ],
   "source": [
    "original = {1:'one', 2:'two'}\n",
    "new = original.copy()\n",
    "print(id(new))\n",
    "print(id(original))\n",
    "\n",
    "# removing all elements from the list\n",
    "new.clear()\n",
    "\n",
    "print('new: ', new)\n",
    "print('original: ', original)"
   ]
  },
  {
   "cell_type": "code",
   "execution_count": 44,
   "id": "b5be6418",
   "metadata": {},
   "outputs": [
    {
     "name": "stdout",
     "output_type": "stream",
     "text": [
      "139729654816832\n",
      "139729654816832\n",
      "new:  {}\n",
      "original:  {}\n"
     ]
    }
   ],
   "source": [
    "original = {1:'one', 2:'two'}\n",
    "new = original\n",
    "print(id(new))\n",
    "print(id(original))\n",
    "\n",
    "# removing all elements from the list\n",
    "new.clear()\n",
    "\n",
    "print('new: ', new)\n",
    "print('original: ', original)"
   ]
  },
  {
   "cell_type": "markdown",
   "id": "ad4097ef",
   "metadata": {},
   "source": [
    "# fromkeys() \n",
    "\n",
    "- fromkeys() metodu istifadəçi tərəfindən verilən dəyərlə verilmiş elementlər ardıcıllığından yeni dict düzəldir.\n",
    "\n",
    "\n",
    "- dictionary.fromkeys(sequence[, value])\n",
    "- fromkeys() parametrləri. fromkeys() metodu iki parametr alır:\n",
    "\n",
    "1. sequence - yeni lüğət üçün açar kimi istifadə ediləcək elementlərin ardıcıllığı\n",
    "2. value (İstəyə bağlı) - lüğətin hər bir elementi üçün təyin olunan dəyər. Verilməsə value-lar None olur"
   ]
  },
  {
   "cell_type": "code",
   "execution_count": 53,
   "id": "c4afdd64",
   "metadata": {},
   "outputs": [
    {
     "name": "stdout",
     "output_type": "stream",
     "text": [
      "{'a': None, 'e': None, 'i': None, 'o': None, 'u': None}\n"
     ]
    }
   ],
   "source": [
    "# vowels keys\n",
    "keys = ['a', 'e', 'i', 'o', 'u' ]\n",
    "\n",
    "vowels = dict.fromkeys(keys)\n",
    "print(vowels)"
   ]
  },
  {
   "cell_type": "code",
   "execution_count": 54,
   "id": "9650ad67",
   "metadata": {},
   "outputs": [
    {
     "name": "stdout",
     "output_type": "stream",
     "text": [
      "{'a': 'vowel', 'e': 'vowel', 'i': 'vowel', 'o': 'vowel', 'u': 'vowel'}\n"
     ]
    }
   ],
   "source": [
    "# vowels keys\n",
    "keys = ['a', 'e', 'i', 'o', 'u' ]\n",
    "value = 'vowel'\n",
    "\n",
    "vowels = dict.fromkeys(keys, value)\n",
    "print(vowels)"
   ]
  },
  {
   "cell_type": "code",
   "execution_count": 55,
   "id": "d2007cab",
   "metadata": {},
   "outputs": [
    {
     "name": "stdout",
     "output_type": "stream",
     "text": [
      "{'a': [1], 'e': [1], 'i': [1], 'o': [1], 'u': [1]}\n",
      "{'a': [1, 2], 'e': [1, 2], 'i': [1, 2], 'o': [1, 2], 'u': [1, 2]}\n"
     ]
    }
   ],
   "source": [
    "# vowels keys\n",
    "keys = ['a', 'e', 'i', 'o', 'u' ]\n",
    "value = [1]\n",
    "\n",
    "vowels = dict.fromkeys(keys, value)\n",
    "print(vowels)\n",
    "\n",
    "# updating the value\n",
    "value.append(2)\n",
    "print(vowels)"
   ]
  },
  {
   "cell_type": "markdown",
   "id": "73e9b4dd",
   "metadata": {},
   "source": [
    "# items()\n",
    "\n",
    "- Bu metod list içərisində dict-in key\\value cütlərini tuple formasında dict_items view object-i qaytarır."
   ]
  },
  {
   "cell_type": "code",
   "execution_count": 63,
   "id": "3e8d4232",
   "metadata": {},
   "outputs": [
    {
     "name": "stdout",
     "output_type": "stream",
     "text": [
      "dict_items([('Physics', 67), ('Maths', 87)])\n"
     ]
    }
   ],
   "source": [
    "marks = {'Physics':67, 'Maths':87}\n",
    "print(marks.items())"
   ]
  },
  {
   "cell_type": "markdown",
   "id": "b18d9262",
   "metadata": {},
   "source": [
    "**items metodu əgər dict update olunarsa o da avtomatik yenilənir**"
   ]
  },
  {
   "cell_type": "code",
   "execution_count": 65,
   "id": "22aab70b",
   "metadata": {},
   "outputs": [
    {
     "name": "stdout",
     "output_type": "stream",
     "text": [
      "Original items: dict_items([('apple', 2), ('orange', 3), ('grapes', 4)])\n",
      "Updated items: dict_items([('orange', 3), ('grapes', 4)])\n"
     ]
    }
   ],
   "source": [
    "# random sales dictionary\n",
    "sales = { 'apple': 2, 'orange': 3, 'grapes': 4 }\n",
    "\n",
    "items = sales.items()\n",
    "\n",
    "print('Original items:', items)\n",
    "\n",
    "# delete an item from dictionary\n",
    "del[sales['apple']]\n",
    "\n",
    "print('Updated items:', items)\n"
   ]
  },
  {
   "cell_type": "markdown",
   "id": "5d23f4d9",
   "metadata": {},
   "source": [
    "# keys()\n",
    "\n",
    "- Bu metod dict-in key-lərini view object-də list olaraq qaytarır\n",
    "- keys() metodu da items() metodu kimi dict update olduqda avtomatik dəyişilir"
   ]
  },
  {
   "cell_type": "code",
   "execution_count": 67,
   "id": "dc675cfa",
   "metadata": {},
   "outputs": [
    {
     "name": "stdout",
     "output_type": "stream",
     "text": [
      "dict_keys(['name', 'age', 'salary'])\n",
      "dict_keys([])\n"
     ]
    }
   ],
   "source": [
    "person = {'name': 'Phill', 'age': 22, 'salary': 3500.0}\n",
    "print(person.keys())\n",
    "\n",
    "empty_dict = {}\n",
    "print(empty_dict.keys())"
   ]
  },
  {
   "cell_type": "code",
   "execution_count": 68,
   "id": "cefb87fc",
   "metadata": {},
   "outputs": [
    {
     "name": "stdout",
     "output_type": "stream",
     "text": [
      "Before dictionary is updated\n",
      "dict_keys(['name', 'age'])\n",
      "\n",
      "After dictionary is updated\n",
      "dict_keys(['name', 'age', 'salary'])\n"
     ]
    }
   ],
   "source": [
    "person = {'name': 'Phill', 'age': 22, }\n",
    "\n",
    "print('Before dictionary is updated')\n",
    "keys = person.keys()\n",
    "print(keys)\n",
    "\n",
    "# adding an element to the dictionary\n",
    "person.update({'salary': 3500.0})\n",
    "print('\\nAfter dictionary is updated')\n",
    "print(keys)"
   ]
  },
  {
   "cell_type": "markdown",
   "id": "d2583c1c",
   "metadata": {},
   "source": [
    "# values()\n",
    "\n",
    "- Bu metod isə view object içində dict-in value-lərini list olaraq qaytarır.\n",
    "- Bu metod da həmçinin dict update olduqda avtomatik yenilənir"
   ]
  },
  {
   "cell_type": "code",
   "execution_count": 69,
   "id": "dab549f4",
   "metadata": {},
   "outputs": [
    {
     "name": "stdout",
     "output_type": "stream",
     "text": [
      "dict_values([67, 87])\n"
     ]
    }
   ],
   "source": [
    "marks = {'Physics':67, 'Maths':87}\n",
    "\n",
    "print(marks.values())"
   ]
  },
  {
   "cell_type": "code",
   "execution_count": 70,
   "id": "f5371382",
   "metadata": {},
   "outputs": [
    {
     "name": "stdout",
     "output_type": "stream",
     "text": [
      "Original items: dict_values([2, 3, 4])\n",
      "Updated items: dict_values([3, 4])\n"
     ]
    }
   ],
   "source": [
    "# random sales dictionary\n",
    "sales = { 'apple': 2, 'orange': 3, 'grapes': 4 }\n",
    "\n",
    "values = sales.values()\n",
    "\n",
    "print('Original items:', values)\n",
    "\n",
    "# delete an item from dictionary\n",
    "del[sales['apple']]\n",
    "\n",
    "print('Updated items:', values)"
   ]
  },
  {
   "cell_type": "markdown",
   "id": "7f99b97b",
   "metadata": {},
   "source": [
    "# setdefault()\n",
    "\n",
    "- setdefault() metodu keyin value-sini qaytarır (əgər key dictionarydə varsa). \n",
    "- Əgər belə deyilsə, o, value olan keyi dictionary-ə daxil edir. Bu hal da biz value-ni də default olaraq setdefault() metoduna verə bilərik."
   ]
  },
  {
   "cell_type": "code",
   "execution_count": 74,
   "id": "7d61a473",
   "metadata": {},
   "outputs": [
    {
     "name": "stdout",
     "output_type": "stream",
     "text": [
      "person =  {'name': 'Əhməd', 'age': 22}\n",
      "Age =  22\n"
     ]
    }
   ],
   "source": [
    "person = {'name': 'Əhməd', 'age': 22}\n",
    "\n",
    "age = person.setdefault('age')\n",
    "print('person = ',person)\n",
    "print('Age = ',age)"
   ]
  },
  {
   "cell_type": "code",
   "execution_count": 73,
   "id": "467de094",
   "metadata": {},
   "outputs": [
    {
     "name": "stdout",
     "output_type": "stream",
     "text": [
      "person =  {'name': 'Phill', 'salary': None}\n",
      "salary =  None\n",
      "person =  {'name': 'Phill', 'salary': None, 'age': 22}\n",
      "age =  22\n"
     ]
    }
   ],
   "source": [
    "person = {'name': 'Phill'}\n",
    "\n",
    "# key is not in the dictionary\n",
    "salary = person.setdefault('salary')\n",
    "print('person = ',person)\n",
    "print('salary = ',salary)\n",
    "\n",
    "# key is not in the dictionary\n",
    "# default_value is provided\n",
    "age = person.setdefault('age', 22)\n",
    "print('person = ',person)\n",
    "print('age = ',age)"
   ]
  },
  {
   "cell_type": "markdown",
   "id": "536976ba",
   "metadata": {},
   "source": [
    "# update()\n",
    "\n",
    "- update() metodu dict-i başqa dict obyektindən və ya tuple içində key/value cütlüyünün elementləri ilə yeniləyir."
   ]
  },
  {
   "cell_type": "code",
   "execution_count": 82,
   "id": "1b8bf2aa",
   "metadata": {},
   "outputs": [
    {
     "name": "stdout",
     "output_type": "stream",
     "text": [
      "{'Physics': 67, 'Maths': 87, 'Practical': 48}\n"
     ]
    }
   ],
   "source": [
    "marks = {'Physics':67, 'Maths':87}\n",
    "internal_marks = {'Practical':48}\n",
    "\n",
    "marks.update(internal_marks)\n",
    "\n",
    "\n",
    "print(marks)"
   ]
  },
  {
   "cell_type": "code",
   "execution_count": 83,
   "id": "3d23e6ef",
   "metadata": {},
   "outputs": [
    {
     "name": "stdout",
     "output_type": "stream",
     "text": [
      "{1: 'one', 2: 'two'}\n",
      "{1: 'one', 2: 'two', 3: 'three'}\n"
     ]
    }
   ],
   "source": [
    "d = {1: \"one\", 2: \"three\"}\n",
    "d1 = {2: \"two\"}\n",
    "\n",
    "# updates the value of key 2\n",
    "d.update(d1)\n",
    "\n",
    "print(d)\n",
    "\n",
    "d1 = {3: \"three\"}\n",
    "\n",
    "# adds element with key 3\n",
    "d.update(d1)\n",
    "\n",
    "print(d)\n"
   ]
  },
  {
   "cell_type": "code",
   "execution_count": 84,
   "id": "a22b78e2",
   "metadata": {},
   "outputs": [
    {
     "name": "stdout",
     "output_type": "stream",
     "text": [
      "{'x': 2, 'y': 3, 'z': 0}\n"
     ]
    }
   ],
   "source": [
    "d = {'x': 2}\n",
    "\n",
    "d.update(y = 3, z = 0)\n",
    "\n",
    "print(d)"
   ]
  },
  {
   "cell_type": "markdown",
   "id": "10a4d7d9",
   "metadata": {},
   "source": [
    "# Built in Functions\n",
    "\n",
    "- len() funksiyası digər iterable data typlarda olduğu kimi dictionary və tuple-da da var.\n",
    "- sorted() bu metod-da həmçinin digər iterable data typelarda olduğu kimi dict və tuple-da da var."
   ]
  },
  {
   "cell_type": "code",
   "execution_count": 87,
   "id": "e6da64c5",
   "metadata": {},
   "outputs": [
    {
     "name": "stdout",
     "output_type": "stream",
     "text": [
      "6\n",
      "[0, 1, 3, 5, 7, 9]\n",
      "[9, 7, 5, 3, 1, 0]\n"
     ]
    }
   ],
   "source": [
    "squares = {0: 0, 1: 1, 3: 9, 5: 25, 7: 49, 9: 81}\n",
    "\n",
    "print(len(squares))\n",
    "print(sorted(squares))\n",
    "print(sorted(squares, reverse=True))"
   ]
  },
  {
   "cell_type": "code",
   "execution_count": null,
   "id": "07b56832",
   "metadata": {},
   "outputs": [],
   "source": []
  }
 ],
 "metadata": {
  "kernelspec": {
   "display_name": "Python 3 (ipykernel)",
   "language": "python",
   "name": "python3"
  },
  "language_info": {
   "codemirror_mode": {
    "name": "ipython",
    "version": 3
   },
   "file_extension": ".py",
   "mimetype": "text/x-python",
   "name": "python",
   "nbconvert_exporter": "python",
   "pygments_lexer": "ipython3",
   "version": "3.9.9"
  }
 },
 "nbformat": 4,
 "nbformat_minor": 5
}
