{
 "cells": [
  {
   "cell_type": "markdown",
   "id": "5951f0e8",
   "metadata": {},
   "source": [
    "# Strings\n",
    "\n",
    "- Python-da öyrəndiyimiz digər data type Stringdir. String simvollar toplusu deməkdir. Yəni \"Salam\" Stringi \"S\", \"a\", \"l\", \"a\", \"m\" simvollarının birləşməsindən ibarətdir. Simvol dedikdə təkcə hərflər nəzərdə tutulmur. ! , . ? @ # % ^ & * ( ) { } [ ] < > və s. hamısı simvoldur. Ümumiyyətlə dırnaq işarəsi arasında yazdığımız hər şey Stringdir. Rəqəmləri belə dırnaq işarələri arasında yazdıqda bu String olur. Məsələn \"7\" bir stringdir. String düzəltmək üçün ya tək dırnaqlardan ya da cüt dırnaqlardan istifadə edirik. Əsas məsələ tək dırnaq ilə başlamışıqsa tək dırnaqla da bitirməkdir. Həmçinin əksinə. Hansı ilə başlamısansa onunla da bitirmək lazımdır. Yəni 'Test\" bu yazılış doğru deyil, proqramı çalışdırdıqda bizə xəta verəcək. Bundan əlavə olaraq Stringlər üç dırnaq işarəsi ilə də yazıla bilirlər. Üç dırnaq işarəsi ilə yazılış çox istifadə olunmur. Bunu yalnız bir necə çətirlik String yazacayıqsa istifadə edirik."
   ]
  },
  {
   "cell_type": "code",
   "execution_count": 4,
   "id": "750d0995",
   "metadata": {},
   "outputs": [
    {
     "name": "stdout",
     "output_type": "stream",
     "text": [
      "This is a string in Python\n",
      "This is a string in Python\n"
     ]
    }
   ],
   "source": [
    "str1='This is a string in Python' \n",
    "print(str1)\n",
    "str2=\"This is a string in Python\" \n",
    "print(str2)"
   ]
  },
  {
   "cell_type": "code",
   "execution_count": 7,
   "id": "317095cd",
   "metadata": {},
   "outputs": [
    {
     "name": "stdout",
     "output_type": "stream",
     "text": [
      "This is \n",
      "the first\n",
      "Multi-line string.\n",
      "\n"
     ]
    }
   ],
   "source": [
    "str1='''This is \n",
    "the first\n",
    "Multi-line string.\n",
    "'''\n",
    "print(str1)"
   ]
  },
  {
   "cell_type": "code",
   "execution_count": 6,
   "id": "ecd5bc3f",
   "metadata": {
    "scrolled": true
   },
   "outputs": [
    {
     "name": "stdout",
     "output_type": "stream",
     "text": [
      "This is\n",
      "the second\n",
      "Multi-line\n",
      "string.\n"
     ]
    }
   ],
   "source": [
    "str2=\"\"\"This is\n",
    "the second\n",
    "Multi-line\n",
    "string.\"\"\"\n",
    "print(str2)"
   ]
  },
  {
   "cell_type": "markdown",
   "id": "9b23c6a4",
   "metadata": {},
   "source": [
    "- Əgər siz yazacağınız cümlədə də dırnaq işarəsi istifadə etməlisinizsə, bu zaman əgər String 2 dırnaq ilə yazmısınızsa içəridə tək dırnaqdan və həmçinin də əksinə istifadə etməlisiniz:"
   ]
  },
  {
   "cell_type": "code",
   "execution_count": 9,
   "id": "85a00150",
   "metadata": {},
   "outputs": [
    {
     "name": "stdout",
     "output_type": "stream",
     "text": [
      "You are't a enginer\n"
     ]
    }
   ],
   "source": [
    "new_str = \"You are't a enginer\"\n",
    "print(new_str)"
   ]
  },
  {
   "cell_type": "markdown",
   "id": "9d7fa105",
   "metadata": {},
   "source": [
    "Əgər aşağıdakı formada yazsa idik xəta alacaqdıq."
   ]
  },
  {
   "cell_type": "code",
   "execution_count": 10,
   "id": "1b872761",
   "metadata": {},
   "outputs": [
    {
     "ename": "SyntaxError",
     "evalue": "invalid syntax (3276851351.py, line 1)",
     "output_type": "error",
     "traceback": [
      "\u001b[0;36m  File \u001b[0;32m\"/tmp/ipykernel_20116/3276851351.py\"\u001b[0;36m, line \u001b[0;32m1\u001b[0m\n\u001b[0;31m    new_str = \"You are\"t a enginer\u001b[0m\n\u001b[0m                       ^\u001b[0m\n\u001b[0;31mSyntaxError\u001b[0m\u001b[0;31m:\u001b[0m invalid syntax\n"
     ]
    }
   ],
   "source": [
    "new_str = \"You are\"t a enginer\n",
    "print(new_str)"
   ]
  },
  {
   "cell_type": "code",
   "execution_count": 11,
   "id": "b3811bee",
   "metadata": {},
   "outputs": [
    {
     "ename": "SyntaxError",
     "evalue": "invalid syntax (1670716798.py, line 1)",
     "output_type": "error",
     "traceback": [
      "\u001b[0;36m  File \u001b[0;32m\"/tmp/ipykernel_20116/1670716798.py\"\u001b[0;36m, line \u001b[0;32m1\u001b[0m\n\u001b[0;31m    new_str = 'You are't a enginer'\u001b[0m\n\u001b[0m                       ^\u001b[0m\n\u001b[0;31mSyntaxError\u001b[0m\u001b[0;31m:\u001b[0m invalid syntax\n"
     ]
    }
   ],
   "source": [
    "new_str = 'You are't a enginer'\n",
    "print(new_str)"
   ]
  },
  {
   "cell_type": "markdown",
   "id": "0b45315c",
   "metadata": {},
   "source": [
    "Və yaxud Escape character(qaçış simvolları) istifadə edə bilərik. Bu zaman məsələn string-i tək dırnaqlarla təyi etmisinizsə və içəridə də tək dırnaq istifadə etmək istəyirsinizsə escape simvollar köməyimizə çatacaq. Həmçinin cüt dırnaqla təyin etdikdə də problem yaranmır."
   ]
  },
  {
   "cell_type": "code",
   "execution_count": 47,
   "id": "18559d44",
   "metadata": {},
   "outputs": [
    {
     "name": "stdout",
     "output_type": "stream",
     "text": [
      "Welcome to 'Python Tutorial' on ItemAcademy\n"
     ]
    }
   ],
   "source": [
    "str1='Welcome to \\'Python Tutorial\\' on ItemAcademy'\n",
    "print(str1)"
   ]
  },
  {
   "cell_type": "markdown",
   "id": "ac48df8a",
   "metadata": {},
   "source": [
    "**String indeksləmə**"
   ]
  },
  {
   "cell_type": "markdown",
   "id": "37ffc20b",
   "metadata": {},
   "source": [
    "- Stringlərin simvol toplusu olduğunu dedik. Hər bir simvolun string daxilində bir yeri, indeksi var. Məsələn \"salam\" stringində s, a, l, a, m simvollarının yerlərinə indeks deyilir. Python və digər proqramlaşdırma dillərinin demək olar hamısında indekslənmə 0-dan başlayır."
   ]
  },
  {
   "cell_type": "code",
   "execution_count": 12,
   "id": "276ded94",
   "metadata": {},
   "outputs": [
    {
     "name": "stdout",
     "output_type": "stream",
     "text": [
      "salam\n"
     ]
    }
   ],
   "source": [
    "str = \"salam\"\n",
    "print(str)"
   ]
  },
  {
   "cell_type": "code",
   "execution_count": 14,
   "id": "cd174c39",
   "metadata": {},
   "outputs": [
    {
     "name": "stdout",
     "output_type": "stream",
     "text": [
      "s\n"
     ]
    }
   ],
   "source": [
    "print(str[0])"
   ]
  },
  {
   "cell_type": "code",
   "execution_count": 16,
   "id": "30026521",
   "metadata": {},
   "outputs": [
    {
     "name": "stdout",
     "output_type": "stream",
     "text": [
      "l\n"
     ]
    }
   ],
   "source": [
    "print(str[2])"
   ]
  },
  {
   "cell_type": "markdown",
   "id": "4ad20dad",
   "metadata": {},
   "source": [
    "- Pythonda stringlər başdan olduğu kimi sondan da indekslənə bilirlər."
   ]
  },
  {
   "cell_type": "code",
   "execution_count": 17,
   "id": "a65d2264",
   "metadata": {},
   "outputs": [
    {
     "name": "stdout",
     "output_type": "stream",
     "text": [
      "m\n"
     ]
    }
   ],
   "source": [
    "print(str[-1])"
   ]
  },
  {
   "cell_type": "code",
   "execution_count": 18,
   "id": "c36cde48",
   "metadata": {},
   "outputs": [
    {
     "name": "stdout",
     "output_type": "stream",
     "text": [
      "a\n"
     ]
    }
   ],
   "source": [
    "print(str[-2])"
   ]
  },
  {
   "cell_type": "code",
   "execution_count": 19,
   "id": "f94c4666",
   "metadata": {},
   "outputs": [
    {
     "name": "stdout",
     "output_type": "stream",
     "text": [
      "l\n"
     ]
    }
   ],
   "source": [
    "print(str[-3])"
   ]
  },
  {
   "cell_type": "markdown",
   "id": "3c5a392a",
   "metadata": {},
   "source": [
    "- Bəs uzun bir stringin sadəcə müəyyən bir hissəsini necə ala bilərik? Bunun üçün formulumuz aşağıdakı formada olacaq:\n",
    "\n",
    "[baslama deyeri : bitis deyere : atlama deyeri]"
   ]
  },
  {
   "cell_type": "code",
   "execution_count": 20,
   "id": "49b814b1",
   "metadata": {},
   "outputs": [],
   "source": [
    "a = \"Python programming language\""
   ]
  },
  {
   "cell_type": "code",
   "execution_count": 22,
   "id": "096c3312",
   "metadata": {},
   "outputs": [
    {
     "name": "stdout",
     "output_type": "stream",
     "text": [
      "Python pro\n"
     ]
    }
   ],
   "source": [
    "# Başdan başla 10-cu indeksə qədər(daxil deyil)\n",
    "print(a[0:10])"
   ]
  },
  {
   "cell_type": "code",
   "execution_count": 23,
   "id": "ccec1524",
   "metadata": {},
   "outputs": [
    {
     "name": "stdout",
     "output_type": "stream",
     "text": [
      "on program\n"
     ]
    }
   ],
   "source": [
    "print(a[4:14])"
   ]
  },
  {
   "cell_type": "code",
   "execution_count": 24,
   "id": "ee52e500",
   "metadata": {},
   "outputs": [
    {
     "name": "stdout",
     "output_type": "stream",
     "text": [
      "Python pro\n"
     ]
    }
   ],
   "source": [
    "# Başlanğıc dəyəri bildirilməyibsə ən başdan başlayaraq hesablayır\n",
    "print(a[:10])"
   ]
  },
  {
   "cell_type": "code",
   "execution_count": 25,
   "id": "96a4e570",
   "metadata": {},
   "outputs": [
    {
     "name": "stdout",
     "output_type": "stream",
     "text": [
      "thon programming language\n"
     ]
    }
   ],
   "source": [
    "# Həmçinin bitiş dəyəridə bildirilmədikdə ən sonuncu da daxil olmaqla alır\n",
    "print(a[2:])"
   ]
  },
  {
   "cell_type": "code",
   "execution_count": 26,
   "id": "3dda57ba",
   "metadata": {
    "scrolled": true
   },
   "outputs": [
    {
     "name": "stdout",
     "output_type": "stream",
     "text": [
      "Python programming language\n"
     ]
    }
   ],
   "source": [
    "# Əgər hər 2-si də bildirilməsə bütün stringi alır\n",
    "print(a[:])"
   ]
  },
  {
   "cell_type": "code",
   "execution_count": 29,
   "id": "a6f6bfdf",
   "metadata": {},
   "outputs": [
    {
     "name": "stdout",
     "output_type": "stream",
     "text": [
      "Python programming languag\n"
     ]
    }
   ],
   "source": [
    "# Son simvola qədər almağını istəyiriksə və son simvolun neçənsi indeksdə olduğunu bilmiriksə,\n",
    "# aşağıdakı kimi ala bilərik\n",
    "\n",
    "print(a[:-1])"
   ]
  },
  {
   "cell_type": "code",
   "execution_count": 30,
   "id": "6eb52315",
   "metadata": {},
   "outputs": [
    {
     "name": "stdout",
     "output_type": "stream",
     "text": [
      "Pto rgamn agae\n"
     ]
    }
   ],
   "source": [
    "# Başdan sona 2 dəyər atlıyaraq\n",
    "print(a[::2])"
   ]
  },
  {
   "cell_type": "code",
   "execution_count": 32,
   "id": "fe697fc0",
   "metadata": {},
   "outputs": [
    {
     "name": "stdout",
     "output_type": "stream",
     "text": [
      "egaugnal gnimmargorp nohtyP\n"
     ]
    }
   ],
   "source": [
    "# Başdan sona -1 atlıyaraq stringi al. (String tərs çevirmə)\n",
    "print(a[::-1])"
   ]
  },
  {
   "cell_type": "code",
   "execution_count": 34,
   "id": "e9fff707",
   "metadata": {},
   "outputs": [
    {
     "name": "stdout",
     "output_type": "stream",
     "text": [
      "hnpor\n"
     ]
    }
   ],
   "source": [
    "print(a[3:13:2])"
   ]
  },
  {
   "cell_type": "markdown",
   "id": "b604a189",
   "metadata": {},
   "source": [
    "**len() funksiyası**\n",
    "- Stringin uzunluğunu tapmaq üçün bu funksiyadan istifadə edirik. Stringdə neçə simvol olduğunu verir"
   ]
  },
  {
   "cell_type": "code",
   "execution_count": 35,
   "id": "f4558fcc",
   "metadata": {},
   "outputs": [
    {
     "name": "stdout",
     "output_type": "stream",
     "text": [
      "5\n"
     ]
    }
   ],
   "source": [
    "a = \"salam\"\n",
    "print(len(a))"
   ]
  },
  {
   "cell_type": "code",
   "execution_count": 36,
   "id": "0afa6077",
   "metadata": {},
   "outputs": [
    {
     "name": "stdout",
     "output_type": "stream",
     "text": [
      "27\n"
     ]
    }
   ],
   "source": [
    "print(len('Python programming language'))"
   ]
  },
  {
   "cell_type": "markdown",
   "id": "e48a4b98",
   "metadata": {},
   "source": [
    "- Bundan əlavə Stringlər immutable-dır. Yəni hər hansı bir simvolu dəyişdirilə bilməz"
   ]
  },
  {
   "cell_type": "code",
   "execution_count": 37,
   "id": "2cf9e82f",
   "metadata": {},
   "outputs": [
    {
     "name": "stdout",
     "output_type": "stream",
     "text": [
      "Python\n"
     ]
    }
   ],
   "source": [
    "s1 = \"Python\"\n",
    "print(s1)"
   ]
  },
  {
   "cell_type": "code",
   "execution_count": 38,
   "id": "d15b2a5b",
   "metadata": {},
   "outputs": [
    {
     "ename": "TypeError",
     "evalue": "'str' object does not support item assignment",
     "output_type": "error",
     "traceback": [
      "\u001b[0;31m---------------------------------------------------------------------------\u001b[0m",
      "\u001b[0;31mTypeError\u001b[0m                                 Traceback (most recent call last)",
      "\u001b[0;32m/tmp/ipykernel_20116/1243172372.py\u001b[0m in \u001b[0;36m<module>\u001b[0;34m\u001b[0m\n\u001b[0;32m----> 1\u001b[0;31m \u001b[0ms1\u001b[0m\u001b[0;34m[\u001b[0m\u001b[0;36m0\u001b[0m\u001b[0;34m]\u001b[0m \u001b[0;34m=\u001b[0m \u001b[0;34m\"J\"\u001b[0m\u001b[0;34m\u001b[0m\u001b[0;34m\u001b[0m\u001b[0m\n\u001b[0m",
      "\u001b[0;31mTypeError\u001b[0m: 'str' object does not support item assignment"
     ]
    }
   ],
   "source": [
    "s1[0] = \"J\""
   ]
  },
  {
   "cell_type": "markdown",
   "id": "bb4e50a4",
   "metadata": {},
   "source": [
    "Gördüyümüz kimi xəta aldıq."
   ]
  },
  {
   "cell_type": "markdown",
   "id": "60b7332b",
   "metadata": {},
   "source": [
    "**String Operators**\n",
    "\n",
    "Iki stringi bir biri ilə birləşdirmək üçün + operatorundan istifadə edirik. Bu zaman bu operator numbersdəki kimi toplama prosesi etmir, stringləri birləşdirir. "
   ]
  },
  {
   "cell_type": "code",
   "execution_count": 48,
   "id": "eda0f1e3",
   "metadata": {},
   "outputs": [
    {
     "name": "stdout",
     "output_type": "stream",
     "text": [
      "Salam,Necesen?\n"
     ]
    }
   ],
   "source": [
    "str1 = \"Salam,\"\n",
    "str2 = \"Necesen?\"\n",
    "print(str1+str2)"
   ]
  },
  {
   "cell_type": "markdown",
   "id": "ebcfb2e4",
   "metadata": {},
   "source": [
    "Bundan başqa stringlərdə * operatoruda var. Gəlin onun nə iş gördüyünə baxaq:"
   ]
  },
  {
   "cell_type": "code",
   "execution_count": 52,
   "id": "640a3103",
   "metadata": {},
   "outputs": [
    {
     "name": "stdout",
     "output_type": "stream",
     "text": [
      "PythonPythonPython\n"
     ]
    }
   ],
   "source": [
    "print(\"Python\"*3)"
   ]
  },
  {
   "cell_type": "markdown",
   "id": "1a05a933",
   "metadata": {},
   "source": [
    "Gördüyümüz kimi neçəyə vururuqsa Stringi o qədər təkrar edir. Bunu **3*\"Python\"** formasında da yaza bilərdik. Yenə eyni nəticəni verəcək."
   ]
  },
  {
   "cell_type": "code",
   "execution_count": 54,
   "id": "35f75a69",
   "metadata": {},
   "outputs": [
    {
     "name": "stdout",
     "output_type": "stream",
     "text": [
      "Programming languageProgramming languageProgramming language\n"
     ]
    }
   ],
   "source": [
    "s = \"Programming language\"\n",
    "print(3*s)"
   ]
  },
  {
   "cell_type": "markdown",
   "id": "cac711ae",
   "metadata": {},
   "source": [
    "- Əgər print funksiyasında stringdən əvvəl * qoyularsa bu zaman String simvollarını ayıracaq və hər bir simvola ayrı string kimi davranılacaq."
   ]
  },
  {
   "cell_type": "code",
   "execution_count": 1,
   "id": "7e1b172d",
   "metadata": {},
   "outputs": [
    {
     "name": "stdout",
     "output_type": "stream",
     "text": [
      "P y t h o n\n"
     ]
    }
   ],
   "source": [
    "str = \"Python\"\n",
    "print(*str)"
   ]
  },
  {
   "cell_type": "markdown",
   "id": "e3f413cf",
   "metadata": {},
   "source": [
    "# String metodları\n",
    "\n",
    "**Bütün string metodlarına baxmaq üçün -> https://docs.python.org/3/library/stdtypes.html#string-methods**"
   ]
  },
  {
   "cell_type": "markdown",
   "id": "6dfd7d5a",
   "metadata": {},
   "source": [
    "# upper() və lower()\n",
    "\n",
    "- upper() -> adından da göründüyü kimi bütün hərfləri böyük hərfə çevirir və yeni string qaytarır. Orginal stringə toxunmur\n",
    "- lower() -> bütün hərfləri kiçik hərfə çevirir və yeni string qaytarır. Orginal stringə toxunmur"
   ]
  },
  {
   "cell_type": "code",
   "execution_count": 3,
   "id": "34f91825",
   "metadata": {},
   "outputs": [
    {
     "name": "stdout",
     "output_type": "stream",
     "text": [
      "İTEM\n"
     ]
    }
   ],
   "source": [
    "print(\"Item\".upper())"
   ]
  },
  {
   "cell_type": "code",
   "execution_count": 5,
   "id": "21ac6da9",
   "metadata": {},
   "outputs": [
    {
     "name": "stdout",
     "output_type": "stream",
     "text": [
      "item\n"
     ]
    }
   ],
   "source": [
    "print(\"ITeM\".lower())"
   ]
  },
  {
   "cell_type": "code",
   "execution_count": 53,
   "id": "84d234fe",
   "metadata": {},
   "outputs": [
    {
     "name": "stdout",
     "output_type": "stream",
     "text": [
      "python is fun\n",
      "PYTHON IS FUN\n"
     ]
    }
   ],
   "source": [
    "message = 'PYTHON IS FUN'\n",
    "\n",
    "# convert message to lowercase\n",
    "print(message.lower())\n",
    "print(message)\n",
    "\n",
    "# Output: python is fun"
   ]
  },
  {
   "cell_type": "markdown",
   "id": "64fc7a75",
   "metadata": {},
   "source": [
    "# capitalize()\n",
    "- Bu metod Stringin birinci simvolunu böyük hərfə çevirir, əgər bundan başqa böyük simvol varsa hamısını kiçik hərfə çevirib bizə yeni bir string qaytarır. Orginal stringimizi dəyişmir.\n",
    "- capitalize() metodu heç bir parametr almır"
   ]
  },
  {
   "cell_type": "code",
   "execution_count": 8,
   "id": "01096cac",
   "metadata": {
    "scrolled": true
   },
   "outputs": [
    {
     "name": "stdout",
     "output_type": "stream",
     "text": [
      "Python is awesome.\n"
     ]
    }
   ],
   "source": [
    "my_string = \"python is AWesome.\"\n",
    "\n",
    "capitalized_string = my_string.capitalize()\n",
    "print(capitalized_string)"
   ]
  },
  {
   "cell_type": "markdown",
   "id": "8f0ba2ed",
   "metadata": {},
   "source": [
    "# count()\n",
    "\n",
    "- Bu metod verilmiş dəyərin string içində neçə dəfə keçdiyini sayır.Əgər tapmasa 0 qaytarır\n",
    "- string.count(substring, start=..., end=...)\n",
    "- substring bizim verdiyimiz dəyərdir. Bundan başqa start və end parametrlərini verərək hansı indekslər arasında axtarmasınıda deyə bilərik. Əgər start və endi deməsək başdan sona bütün stringdə axtaracaq"
   ]
  },
  {
   "cell_type": "code",
   "execution_count": 11,
   "id": "7ef421a7",
   "metadata": {},
   "outputs": [
    {
     "name": "stdout",
     "output_type": "stream",
     "text": [
      "Number of occurrence of p: 4\n"
     ]
    }
   ],
   "source": [
    "message = 'python is popular programming language'\n",
    "print('Number of occurrence of p:', message.count('p'))"
   ]
  },
  {
   "cell_type": "code",
   "execution_count": 15,
   "id": "43e7ce07",
   "metadata": {},
   "outputs": [
    {
     "name": "stdout",
     "output_type": "stream",
     "text": [
      "The count is: 1\n"
     ]
    }
   ],
   "source": [
    "string = \"Python is awesome, isn't it?\"\n",
    "substring = \"is\"\n",
    "\n",
    "count = string.count(substring, 8, 25)\n",
    "\n",
    "print(\"The count is:\", count)"
   ]
  },
  {
   "cell_type": "markdown",
   "id": "5b440b00",
   "metadata": {},
   "source": [
    "# index()\n",
    "\n",
    "- index() metodu verdiyimiz dəyərin stringdə hansı indeksdə olduğunu deyir və tapdığı ilk nəticəni verir.\n",
    "- Əgər tapmazsa xəta verir.\n",
    "- str.index(sub[, start[, end]] ) -> Bu metod da start və end parametrləri ala bilir. Əgər start və end indekslərini verməsək ütün stringdə axtaracaq."
   ]
  },
  {
   "cell_type": "code",
   "execution_count": 37,
   "id": "fd50df52",
   "metadata": {},
   "outputs": [
    {
     "name": "stdout",
     "output_type": "stream",
     "text": [
      "5\n"
     ]
    }
   ],
   "source": [
    "text = 'Python is fun'\n",
    "\n",
    "result = text.index('n')\n",
    "print(result)"
   ]
  },
  {
   "cell_type": "code",
   "execution_count": 20,
   "id": "aa4b42b5",
   "metadata": {},
   "outputs": [
    {
     "ename": "ValueError",
     "evalue": "substring not found",
     "output_type": "error",
     "traceback": [
      "\u001b[0;31m---------------------------------------------------------------------------\u001b[0m",
      "\u001b[0;31mValueError\u001b[0m                                Traceback (most recent call last)",
      "\u001b[0;32m/tmp/ipykernel_18881/3897345275.py\u001b[0m in \u001b[0;36m<module>\u001b[0;34m\u001b[0m\n\u001b[1;32m      1\u001b[0m \u001b[0msentence\u001b[0m \u001b[0;34m=\u001b[0m \u001b[0;34m'Python programming is fun.'\u001b[0m\u001b[0;34m\u001b[0m\u001b[0;34m\u001b[0m\u001b[0m\n\u001b[0;32m----> 2\u001b[0;31m \u001b[0mresult\u001b[0m \u001b[0;34m=\u001b[0m \u001b[0msentence\u001b[0m\u001b[0;34m.\u001b[0m\u001b[0mindex\u001b[0m\u001b[0;34m(\u001b[0m\u001b[0;34m'Java'\u001b[0m\u001b[0;34m)\u001b[0m\u001b[0;34m\u001b[0m\u001b[0;34m\u001b[0m\u001b[0m\n\u001b[0m\u001b[1;32m      3\u001b[0m \u001b[0mprint\u001b[0m\u001b[0;34m(\u001b[0m\u001b[0;34m\"Substring 'Java':\"\u001b[0m\u001b[0;34m,\u001b[0m \u001b[0mresult\u001b[0m\u001b[0;34m)\u001b[0m\u001b[0;34m\u001b[0m\u001b[0;34m\u001b[0m\u001b[0m\n",
      "\u001b[0;31mValueError\u001b[0m: substring not found"
     ]
    }
   ],
   "source": [
    "sentence = 'Python programming is fun.'\n",
    "result = sentence.index('Java')\n",
    "print(\"Substring 'Java':\", result)"
   ]
  },
  {
   "cell_type": "code",
   "execution_count": 21,
   "id": "8be50e79",
   "metadata": {},
   "outputs": [
    {
     "name": "stdout",
     "output_type": "stream",
     "text": [
      "15\n",
      "17\n"
     ]
    },
    {
     "ename": "ValueError",
     "evalue": "substring not found",
     "output_type": "error",
     "traceback": [
      "\u001b[0;31m---------------------------------------------------------------------------\u001b[0m",
      "\u001b[0;31mValueError\u001b[0m                                Traceback (most recent call last)",
      "\u001b[0;32m/tmp/ipykernel_18881/4073780997.py\u001b[0m in \u001b[0;36m<module>\u001b[0;34m\u001b[0m\n\u001b[1;32m      8\u001b[0m \u001b[0;34m\u001b[0m\u001b[0m\n\u001b[1;32m      9\u001b[0m \u001b[0;31m# Substring is searched in 'programming'\u001b[0m\u001b[0;34m\u001b[0m\u001b[0;34m\u001b[0m\u001b[0m\n\u001b[0;32m---> 10\u001b[0;31m \u001b[0mprint\u001b[0m\u001b[0;34m(\u001b[0m\u001b[0msentence\u001b[0m\u001b[0;34m.\u001b[0m\u001b[0mindex\u001b[0m\u001b[0;34m(\u001b[0m\u001b[0;34m'fun'\u001b[0m\u001b[0;34m,\u001b[0m \u001b[0;36m7\u001b[0m\u001b[0;34m,\u001b[0m \u001b[0;36m18\u001b[0m\u001b[0;34m)\u001b[0m\u001b[0;34m)\u001b[0m\u001b[0;34m\u001b[0m\u001b[0;34m\u001b[0m\u001b[0m\n\u001b[0m",
      "\u001b[0;31mValueError\u001b[0m: substring not found"
     ]
    }
   ],
   "source": [
    "sentence = 'Python programming is fun.'\n",
    "\n",
    "# Substring is searched in 'gramming is fun.'\n",
    "print(sentence.index('ing', 10))\n",
    "\n",
    "# Substring is searched in 'gramming is '\n",
    "print(sentence.index('g is', 10, -4))\n",
    "\n",
    "# Substring is searched in 'programming'\n",
    "print(sentence.index('fun', 7, 18))"
   ]
  },
  {
   "cell_type": "markdown",
   "id": "eaba524e",
   "metadata": {},
   "source": [
    "# replace()\n",
    "\n",
    "replace(a,b)\n",
    "\n",
    "- Bu metod stringdəki a dəyərlərini b ilə dəyişdirir\n",
    "\n",
    "str.replace(a, b, count) ->  count müəyyən sayda dəyərin dəyişməsini istəsək qeyd edirik."
   ]
  },
  {
   "cell_type": "code",
   "execution_count": 22,
   "id": "3a4f075d",
   "metadata": {},
   "outputs": [
    {
     "name": "stdout",
     "output_type": "stream",
     "text": [
      "cat call\n"
     ]
    }
   ],
   "source": [
    "text = 'bat ball'\n",
    "\n",
    "# replace b with c\n",
    "replaced_text = text.replace('b', 'c')\n",
    "print(replaced_text)"
   ]
  },
  {
   "cell_type": "code",
   "execution_count": 25,
   "id": "6aceddc8",
   "metadata": {},
   "outputs": [
    {
     "name": "stdout",
     "output_type": "stream",
     "text": [
      "hurt, hurt heart\n",
      "Let it be, don't let it be, don't let it be, let it be\n"
     ]
    }
   ],
   "source": [
    "song = 'cold, cold heart'\n",
    "\n",
    "# replacing 'cold' with 'hurt'\n",
    "print(song.replace('cold', 'hurt'))\n",
    "\n",
    "song = 'Let it be, let it be, let it be, let it be'\n",
    "\n",
    "# replacing only two occurences of 'let'\n",
    "# Burda birinci Let-i dəyişməyəcək, çünki biz kiçik hərflə yazılmış let-ləri dəyişdirməyi qeyd etmişik.\n",
    "print(song.replace('let', \"don't let\", 2))"
   ]
  },
  {
   "cell_type": "code",
   "execution_count": 26,
   "id": "46669524",
   "metadata": {},
   "outputs": [
    {
     "name": "stdout",
     "output_type": "stream",
     "text": [
      "Python-Programming-Language\n"
     ]
    }
   ],
   "source": [
    "print(\"Python Programming Language\".replace(\" \",\"-\"))"
   ]
  },
  {
   "cell_type": "markdown",
   "id": "eaab45ce",
   "metadata": {},
   "source": [
    "# startswith()\n",
    "\n",
    "- Əgər string parametr olaraq verdiyimiz dəyərlə başlayırsa True, başlamırsa False qaytaracaq bu metod.\n",
    "- str.startswith(prefix[, start[, end]]), Bu metodda da spesifik olaraq bizim verdiyimiz indekslər arasında yoxlamağını qeyd edə bilərik"
   ]
  },
  {
   "cell_type": "code",
   "execution_count": 27,
   "id": "b5ad9524",
   "metadata": {},
   "outputs": [
    {
     "name": "stdout",
     "output_type": "stream",
     "text": [
      "True\n"
     ]
    }
   ],
   "source": [
    "message = 'Python is fun'\n",
    "\n",
    "# check if the message starts with Python\n",
    "print(message.startswith('Python'))\n",
    "\n",
    "# Output: True\n"
   ]
  },
  {
   "cell_type": "code",
   "execution_count": 28,
   "id": "022ee722",
   "metadata": {},
   "outputs": [
    {
     "name": "stdout",
     "output_type": "stream",
     "text": [
      "False\n",
      "True\n",
      "True\n"
     ]
    }
   ],
   "source": [
    "text = \"Python is easy to learn.\"\n",
    "\n",
    "result = text.startswith('is easy')\n",
    "# returns False\n",
    "print(result)\n",
    "\n",
    "result = text.startswith('Python is ')\n",
    "# returns True\n",
    "print(result)\n",
    "\n",
    "result = text.startswith('Python is easy to learn.')\n",
    "# returns True\n",
    "print(result)"
   ]
  },
  {
   "cell_type": "code",
   "execution_count": 31,
   "id": "a6bf5464",
   "metadata": {},
   "outputs": [
    {
     "name": "stdout",
     "output_type": "stream",
     "text": [
      "True\n",
      "False\n",
      "True\n"
     ]
    }
   ],
   "source": [
    "# Parametr olaraq mötərizə içində bir neçə stringdə verə bilərik\n",
    "\n",
    "text = \"Python programming is easy.\"\n",
    "\n",
    "# start parameter: 7\n",
    "# 'programming is easy.' string is searched\n",
    "result = text.startswith('programming is', 7)\n",
    "print(result)\n",
    "\n",
    "# start: 7, end: 18\n",
    "# 'programming' string is searched\n",
    "result = text.startswith('programming is', 7, 18)\n",
    "print(result)\n",
    "\n",
    "result = text.startswith('program', 7, 18)\n",
    "print(result)"
   ]
  },
  {
   "cell_type": "code",
   "execution_count": 32,
   "id": "3efc8d8b",
   "metadata": {},
   "outputs": [
    {
     "name": "stdout",
     "output_type": "stream",
     "text": [
      "True\n",
      "False\n",
      "False\n"
     ]
    }
   ],
   "source": [
    "text = \"programming is easy\"\n",
    "result = text.startswith(('python', 'programming'))\n",
    "\n",
    "# prints True\n",
    "print(result)\n",
    "\n",
    "result = text.startswith(('is', 'easy', 'java'))\n",
    "\n",
    "# prints False\n",
    "print(result)\n",
    "\n",
    "# With start and end parameter\n",
    "# 'is easy' string is checked\n",
    "result = text.startswith(('programming', 'easy'), 12, 19)\n",
    "\n",
    "# prints False\n",
    "print(result)"
   ]
  },
  {
   "cell_type": "markdown",
   "id": "501dac9c",
   "metadata": {},
   "source": [
    "# endswith()\n",
    "\n",
    "- startswith() metodundan fərqi endswith stringin parametr olaraq verdiyimiz dəyərlə bitib bitmədiyini yoxlayır"
   ]
  },
  {
   "cell_type": "code",
   "execution_count": 33,
   "id": "ce3b3efb",
   "metadata": {},
   "outputs": [
    {
     "name": "stdout",
     "output_type": "stream",
     "text": [
      "True\n"
     ]
    }
   ],
   "source": [
    "message = 'Python is fun'\n",
    "\n",
    "# check if the message ends with fun\n",
    "print(message.endswith('fun'))\n",
    "\n",
    "# Output: True"
   ]
  },
  {
   "cell_type": "code",
   "execution_count": 34,
   "id": "2e1a2e7a",
   "metadata": {},
   "outputs": [
    {
     "name": "stdout",
     "output_type": "stream",
     "text": [
      "False\n",
      "True\n",
      "True\n"
     ]
    }
   ],
   "source": [
    "text = \"Python is easy to learn.\"\n",
    "\n",
    "result = text.endswith('to learn')\n",
    "# returns False\n",
    "print(result)\n",
    "\n",
    "result = text.endswith('to learn.')\n",
    "# returns True\n",
    "print(result)\n",
    "\n",
    "result = text.endswith('Python is easy to learn.')\n",
    "# returns True\n",
    "print(result)"
   ]
  },
  {
   "cell_type": "code",
   "execution_count": 35,
   "id": "fbd977e0",
   "metadata": {},
   "outputs": [
    {
     "name": "stdout",
     "output_type": "stream",
     "text": [
      "True\n",
      "False\n",
      "True\n"
     ]
    }
   ],
   "source": [
    "text = \"Python programming is easy to learn.\"\n",
    "\n",
    "# start parameter: 7\n",
    "# \"programming is easy to learn.\" string is searched\n",
    "result = text.endswith('learn.', 7)\n",
    "print(result)\n",
    "\n",
    "# Both start and end is provided\n",
    "# start: 7, end: 26\n",
    "# \"programming is easy\" string is searched\n",
    "\n",
    "result = text.endswith('is', 7, 26)\n",
    "# Returns False\n",
    "print(result)\n",
    "\n",
    "result = text.endswith('easy', 7, 26)\n",
    "# returns True\n",
    "print(result)"
   ]
  },
  {
   "cell_type": "code",
   "execution_count": 36,
   "id": "8e08843c",
   "metadata": {},
   "outputs": [
    {
     "name": "stdout",
     "output_type": "stream",
     "text": [
      "False\n",
      "True\n",
      "True\n"
     ]
    }
   ],
   "source": [
    "text = \"programming is easy\"\n",
    "result = text.endswith(('programming', 'python'))\n",
    "\n",
    "# prints False\n",
    "print(result)\n",
    "\n",
    "result = text.endswith(('python', 'easy', 'java'))\n",
    "\n",
    "#prints True\n",
    "print(result)\n",
    "\n",
    "# With start and end parameter\n",
    "# 'programming is' string is checked\n",
    "result = text.endswith(('is', 'an'), 0, 14)\n",
    "\n",
    "# prints True\n",
    "print(result)"
   ]
  },
  {
   "cell_type": "markdown",
   "id": "a4a5206b",
   "metadata": {},
   "source": [
    "# find()\n",
    "\n",
    "- Parametr olaraq verdiyimiz dəyəri başdan başlayaraq string içində axtarır və tapdığı ilk indeksi qaytarır. Əgər tapmasa -1 qaytarır.\n",
    "- str.find(sub[, start[, end]] ) -> Əgər istəsək spesifik olaraq başlanğıc və bitiş indeksləri verib onlar arasında da axtarışı reallaşdıra bilərik. Əgər start və end verməsək bütün string boyunca axtaracaq"
   ]
  },
  {
   "cell_type": "code",
   "execution_count": 38,
   "id": "94360af4",
   "metadata": {},
   "outputs": [
    {
     "name": "stdout",
     "output_type": "stream",
     "text": [
      "12\n"
     ]
    }
   ],
   "source": [
    "message = 'Python is a fun programming language'\n",
    "\n",
    "# check the index of 'fun'\n",
    "print(message.find('fun'))\n",
    "\n",
    "# Output: 12"
   ]
  },
  {
   "cell_type": "code",
   "execution_count": 40,
   "id": "f549a236",
   "metadata": {},
   "outputs": [
    {
     "name": "stdout",
     "output_type": "stream",
     "text": [
      "Substring 'let it': 11\n",
      "Substring 'small ': -1\n"
     ]
    }
   ],
   "source": [
    "quote = 'Let it be, let it be, let it be'\n",
    "\n",
    "# böyük kiçik hərflərə qarşı həssasdır. ilk Let böyük hərflə olduğu üçün onu keçəcək\n",
    "result = quote.find('let it')\n",
    "print(\"Substring 'let it':\", result)\n",
    "\n",
    "# find returns -1 if substring not found\n",
    "result = quote.find('small')\n",
    "print(\"Substring 'small ':\", result)"
   ]
  },
  {
   "cell_type": "code",
   "execution_count": 44,
   "id": "e69cce6d",
   "metadata": {},
   "outputs": [
    {
     "name": "stdout",
     "output_type": "stream",
     "text": [
      "14\n",
      "-1\n",
      "3\n",
      "-1\n",
      "9\n"
     ]
    }
   ],
   "source": [
    "quote = 'Do small things with great love'\n",
    "\n",
    "# Substring is searched in 'hings with great love'\n",
    "print(quote.find('s', 10))\n",
    "\n",
    "print(quote.find('small things', 10))\n",
    "\n",
    "# Substring is searched in ' small things with great love' \n",
    "print(quote.find('small things', 2))\n",
    "\n",
    "# Substring is searched in 'hings with great lov'\n",
    "print(quote.find('o small ', 10, -1))\n",
    "\n",
    "# Substring is searched in 'll things with'\n",
    "print(quote.find('things ', 6, 20))"
   ]
  },
  {
   "cell_type": "markdown",
   "id": "34c231b2",
   "metadata": {},
   "source": [
    "# rfind()\n",
    "\n",
    "- find() metodundan fərqli olaraq sondan başlayaraq yoxlayır. Qalan hər şey eynidir."
   ]
  },
  {
   "cell_type": "code",
   "execution_count": 46,
   "id": "c12de01c",
   "metadata": {},
   "outputs": [
    {
     "name": "stdout",
     "output_type": "stream",
     "text": [
      "6\n"
     ]
    }
   ],
   "source": [
    "print(\"home work\".rfind(\"o\"))"
   ]
  },
  {
   "cell_type": "markdown",
   "id": "9d23e29d",
   "metadata": {},
   "source": [
    "# join()\n",
    "\n",
    "- string.join(iterable)\n",
    "\n",
    "- Bu metod verdiyimiz string-i iterable data type-ın (list, tuple, dictionary, set, string) bütün elementləri ilə birləşdirərək yeni bir string qaytarır"
   ]
  },
  {
   "cell_type": "code",
   "execution_count": 47,
   "id": "df9fd9c3",
   "metadata": {},
   "outputs": [
    {
     "name": "stdout",
     "output_type": "stream",
     "text": [
      "Python is a fun programming language\n"
     ]
    }
   ],
   "source": [
    "text = ['Python', 'is', 'a', 'fun', 'programming', 'language']\n",
    "\n",
    "# join elements of text with space\n",
    "print(' '.join(text))\n",
    "\n",
    "# Output: Python is a fun programming language"
   ]
  },
  {
   "cell_type": "code",
   "execution_count": 48,
   "id": "9c862069",
   "metadata": {},
   "outputs": [
    {
     "name": "stdout",
     "output_type": "stream",
     "text": [
      "1, 2, 3, 4\n",
      "1, 2, 3, 4\n",
      "s1.join(s2): 1abc2abc3\n",
      "s2.join(s1): a123b123c\n"
     ]
    }
   ],
   "source": [
    "# .join() with lists\n",
    "numList = ['1', '2', '3', '4']\n",
    "separator = ', '\n",
    "print(separator.join(numList))\n",
    "\n",
    "# .join() with tuples\n",
    "numTuple = ('1', '2', '3', '4')\n",
    "print(separator.join(numTuple))\n",
    "\n",
    "s1 = 'abc'\n",
    "s2 = '123'\n",
    "\n",
    "# each element of s2 is separated by s1\n",
    "# '1'+ 'abc'+ '2'+ 'abc'+ '3'\n",
    "print('s1.join(s2):', s1.join(s2))\n",
    "\n",
    "# each element of s1 is separated by s2\n",
    "# 'a'+ '123'+ 'b'+ '123'+ 'b'\n",
    "print('s2.join(s1):', s2.join(s1))"
   ]
  },
  {
   "cell_type": "code",
   "execution_count": 51,
   "id": "6ec199dd",
   "metadata": {},
   "outputs": [
    {
     "name": "stdout",
     "output_type": "stream",
     "text": [
      "18/10/2022\n"
     ]
    }
   ],
   "source": [
    "date = [\"18\",\"10\",\"2022\"]\n",
    "print(\"/\".join(date))"
   ]
  },
  {
   "cell_type": "markdown",
   "id": "5008449b",
   "metadata": {},
   "source": [
    "# swapcase()\n",
    "\n",
    "- Bu metodu bütün kiçik hərfləri böyük hərfə, böyükləri isə kiçik hərfə çevirir və yeni string qaytarır, orginal stringi dəyişdirmir"
   ]
  },
  {
   "cell_type": "code",
   "execution_count": 56,
   "id": "60f2bd41",
   "metadata": {},
   "outputs": [
    {
     "name": "stdout",
     "output_type": "stream",
     "text": [
      "this should all be lowercase.\n",
      "THIS SHOULD ALL BE UPPERCASE.\n",
      "tHiS sHoUlD bE mIxEd CaSeD.\n"
     ]
    }
   ],
   "source": [
    "# example string\n",
    "string = \"THIS SHOULD ALL BE LOWERCASE.\"\n",
    "print(string.swapcase())\n",
    "\n",
    "string = \"this should all be uppercase.\"\n",
    "print(string.swapcase())\n",
    "\n",
    "string = \"ThIs ShOuLd Be MiXeD cAsEd.\"\n",
    "print(string.swapcase())"
   ]
  },
  {
   "cell_type": "markdown",
   "id": "635b7a12",
   "metadata": {},
   "source": [
    "# strip()\n",
    "\n",
    "- string.strip([chars])\n",
    "- Strgin başından və sonundan parametr olaraq verdiyimiz simvolu silir. Əgər parametr verməsək default olaraq boşluq simvolunu siləcək\n",
    "- Bu metod da yeni string qaytarır. Orginal stringə toxunmur"
   ]
  },
  {
   "cell_type": "code",
   "execution_count": 68,
   "id": "0d68a8a0",
   "metadata": {},
   "outputs": [
    {
     "name": "stdout",
     "output_type": "stream",
     "text": [
      "Learn Python\n"
     ]
    }
   ],
   "source": [
    "message = '     Learn Python  '\n",
    "\n",
    "# remove leading and trailing whitespaces\n",
    "print(message.strip())"
   ]
  },
  {
   "cell_type": "code",
   "execution_count": 69,
   "id": "8990eb89",
   "metadata": {},
   "outputs": [
    {
     "name": "stdout",
     "output_type": "stream",
     "text": [
      "xoxo love xoxo\n",
      "lov\n",
      "  xoxo love xoxo   \n",
      "droid is awesome\n"
     ]
    }
   ],
   "source": [
    "string = '  xoxo love xoxo   '\n",
    "\n",
    "# Leading and trailing whitespaces are removed\n",
    "print(string.strip())\n",
    "\n",
    "# Bütün boşluq,x,o,e simvollarını siləcək\n",
    "# and right of string are removed\n",
    "print(string.strip(' xoe'))\n",
    "\n",
    "# Əgər tapmasa heçnə etmir\n",
    "print(string.strip('stx'))\n",
    "\n",
    "string = 'android is awesome'\n",
    "print(string.strip('an'))"
   ]
  },
  {
   "cell_type": "markdown",
   "id": "743a57ae",
   "metadata": {},
   "source": [
    "# lstrip() və rstrip()\n",
    "\n",
    "- lstrip ancaq  başdakıları silir.\n",
    "- rstrip isə ancaq sondakıkarı silir"
   ]
  },
  {
   "cell_type": "code",
   "execution_count": 71,
   "id": "9526658a",
   "metadata": {},
   "outputs": [
    {
     "name": "stdout",
     "output_type": "stream",
     "text": [
      "this is good\n",
      "this is good\n",
      "this is g\n",
      "www.programiz.co\n"
     ]
    }
   ],
   "source": [
    "random_string = 'this is good    '\n",
    "\n",
    "# Trailing whitespace are removed\n",
    "print(random_string.rstrip())\n",
    "\n",
    "# 'si oo' are not trailing characters so nothing is removed\n",
    "print(random_string.rstrip('si oo'))\n",
    "\n",
    "# in 'sid oo', 'd oo' are the trailing characters, 'ood' is removed from the string\n",
    "print(random_string.rstrip('sid oo'))\n",
    "\n",
    "website = 'www.programiz.com/' \n",
    "\n",
    "print(website.rstrip('m/.'))"
   ]
  },
  {
   "cell_type": "code",
   "execution_count": 73,
   "id": "c9e556e2",
   "metadata": {},
   "outputs": [
    {
     "name": "stdout",
     "output_type": "stream",
     "text": [
      "this is good \n",
      "   this is good \n",
      "his is good \n",
      "www.programiz.com/\n"
     ]
    }
   ],
   "source": [
    "random_string = '   this is good '\n",
    "\n",
    "# Leading whitepsace are removed\n",
    "print(random_string.lstrip())\n",
    "\n",
    "# Argument doesn't contain space\n",
    "# No characters are removed.\n",
    "print(random_string.lstrip('sti'))\n",
    "\n",
    "print(random_string.lstrip('s ti'))\n",
    "\n",
    "website = 'https://www.programiz.com/'\n",
    "print(website.lstrip('htps:/.'))"
   ]
  },
  {
   "cell_type": "markdown",
   "id": "b638df37",
   "metadata": {},
   "source": [
    "# split()\n",
    "\n",
    "- Bu metod verilən dəyərə görə stringi parçalayır və hər bir parça listə əlavə olunur "
   ]
  },
  {
   "cell_type": "code",
   "execution_count": 74,
   "id": "23a38011",
   "metadata": {},
   "outputs": [
    {
     "name": "stdout",
     "output_type": "stream",
     "text": [
      "['Python', 'is', 'a', 'fun', 'programming', 'language']\n"
     ]
    }
   ],
   "source": [
    "text = 'Python is a fun programming language'\n",
    "\n",
    "# split the text from space\n",
    "print(text.split(' '))\n",
    "\n",
    "# Output: ['Python', 'is', 'a', 'fun', 'programming', 'language']"
   ]
  },
  {
   "cell_type": "markdown",
   "id": "545e3c5d",
   "metadata": {},
   "source": [
    "- **str.split(separator, maxsplit)**\n",
    "- seperator hansı dəyərə görə dəyişmək istədiyimizi bildirən parametrdir. Əgər qeyd etməsək default olaraq boşluq simvoluna görə parçalayır. Əgər verdiyimiz dəyər stringdə yoxdursa, stringi bütövlükdə listə atır\n",
    "- maxsplit isə qeyd etdiyimiz qədər ayırma prosesini edir, əgər maxsplit qeyd etməsək bütün stringi parçalayacaq"
   ]
  },
  {
   "cell_type": "code",
   "execution_count": 80,
   "id": "02430bcb",
   "metadata": {},
   "outputs": [
    {
     "name": "stdout",
     "output_type": "stream",
     "text": [
      "['Baky', 'is', 'beautiful', 'city']\n",
      "['Milk', 'Chicken', 'Bread']\n",
      "['Milk, Chicken, Bread']\n"
     ]
    }
   ],
   "source": [
    "text= 'Baky is beautiful city'\n",
    "\n",
    "# splits at space\n",
    "print(text.split())\n",
    "\n",
    "grocery = 'Milk, Chicken, Bread'\n",
    "\n",
    "# splits at ','\n",
    "print(grocery.split(', '))\n",
    "\n",
    "# Splits at ':'\n",
    "print(grocery.split(':'))"
   ]
  },
  {
   "cell_type": "code",
   "execution_count": 81,
   "id": "bcc6161e",
   "metadata": {},
   "outputs": [
    {
     "name": "stdout",
     "output_type": "stream",
     "text": [
      "['Milk', 'Chicken', 'Bread, Butter']\n",
      "['Baky', 'is beautiful city']\n",
      "['Milk', 'Chicken', 'Bread', 'Butter']\n",
      "['Milk, Chicken, Bread, Butter']\n"
     ]
    }
   ],
   "source": [
    "grocery = 'Milk, Chicken, Bread, Butter'\n",
    "text= 'Baky is beautiful city'\n",
    "\n",
    "# maxsplit: 2\n",
    "print(grocery.split(', ', 2))\n",
    "\n",
    "# maxsplit: 1\n",
    "print(text.split(' ', 1))\n",
    "\n",
    "# maxsplit: 5\n",
    "print(grocery.split(', ', 5))\n",
    "\n",
    "# maxsplit: 0\n",
    "print(grocery.split(', ', 0))"
   ]
  },
  {
   "cell_type": "code",
   "execution_count": null,
   "id": "12ea574d",
   "metadata": {},
   "outputs": [],
   "source": []
  }
 ],
 "metadata": {
  "kernelspec": {
   "display_name": "Python 3 (ipykernel)",
   "language": "python",
   "name": "python3"
  },
  "language_info": {
   "codemirror_mode": {
    "name": "ipython",
    "version": 3
   },
   "file_extension": ".py",
   "mimetype": "text/x-python",
   "name": "python",
   "nbconvert_exporter": "python",
   "pygments_lexer": "ipython3",
   "version": "3.9.9"
  }
 },
 "nbformat": 4,
 "nbformat_minor": 5
}
