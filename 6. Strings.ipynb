{
 "cells": [
  {
   "cell_type": "markdown",
   "id": "5951f0e8",
   "metadata": {},
   "source": [
    "# Strings\n",
    "\n",
    "- Python-da öyrəndiyimiz digər data type Stringdir. String simvollar toplusu deməkdir. Yəni \"Salam\" Stringi \"S\", \"a\", \"l\", \"a\", \"m\" simvollarının birləşməsindən ibarətdir. Simvol dedikdə təkcə hərflər nəzərdə tutulmur. ! , . ? @ # % ^ & * ( ) { } [ ] < > və s. hamısı simvoldur. Ümumiyyətlə dırnaq işarəsi arasında yazdığımız hər şey Stringdir. Rəqəmləri belə dırnaq işarələri arasında yazdıqda bu String olur. Məsələn \"7\" bir stringdir. String düzəltmək üçün ya tək dırnaqlardan ya da cüt dırnaqlardan istifadə edirik. Əsas məsələ tək dırnaq ilə başlamışıqsa tək dırnaqla da bitirməkdir. Həmçinin əksinə. Hansı ilə başlamısansa onunla da bitirmək lazımdır. Yəni 'Test\" bu yazılış doğru deyil, proqramı çalışdırdıqda bizə xəta verəcək. Bundan əlavə olaraq Stringlər üç dırnaq işarəsi ilə də yazıla bilirlər. Üç dırnaq işarəsi ilə yazılış çox istifadə olunmur. Bunu yalnız bir necə çətirlik String yazacayıqsa istifadə edirik."
   ]
  },
  {
   "cell_type": "code",
   "execution_count": 4,
   "id": "750d0995",
   "metadata": {},
   "outputs": [
    {
     "name": "stdout",
     "output_type": "stream",
     "text": [
      "This is a string in Python\n",
      "This is a string in Python\n"
     ]
    }
   ],
   "source": [
    "str1='This is a string in Python' \n",
    "print(str1)\n",
    "str2=\"This is a string in Python\" \n",
    "print(str2)"
   ]
  },
  {
   "cell_type": "code",
   "execution_count": 7,
   "id": "317095cd",
   "metadata": {},
   "outputs": [
    {
     "name": "stdout",
     "output_type": "stream",
     "text": [
      "This is \n",
      "the first\n",
      "Multi-line string.\n",
      "\n"
     ]
    }
   ],
   "source": [
    "str1='''This is \n",
    "the first\n",
    "Multi-line string.\n",
    "'''\n",
    "print(str1)"
   ]
  },
  {
   "cell_type": "code",
   "execution_count": 6,
   "id": "ecd5bc3f",
   "metadata": {
    "scrolled": true
   },
   "outputs": [
    {
     "name": "stdout",
     "output_type": "stream",
     "text": [
      "This is\n",
      "the second\n",
      "Multi-line\n",
      "string.\n"
     ]
    }
   ],
   "source": [
    "str2=\"\"\"This is\n",
    "the second\n",
    "Multi-line\n",
    "string.\"\"\"\n",
    "print(str2)"
   ]
  },
  {
   "cell_type": "markdown",
   "id": "9b23c6a4",
   "metadata": {},
   "source": [
    "- Əgər siz yazacağınız cümlədə də dırnaq işarəsi istifadə etməlisinizsə, bu zaman əgər String 2 dırnaq ilə yazmısınızsa içəridə tək dırnaqdan və həmçinin də əksinə istifadə etməlisiniz:"
   ]
  },
  {
   "cell_type": "code",
   "execution_count": 9,
   "id": "85a00150",
   "metadata": {},
   "outputs": [
    {
     "name": "stdout",
     "output_type": "stream",
     "text": [
      "You are't a enginer\n"
     ]
    }
   ],
   "source": [
    "new_str = \"You are't a enginer\"\n",
    "print(new_str)"
   ]
  },
  {
   "cell_type": "markdown",
   "id": "9d7fa105",
   "metadata": {},
   "source": [
    "Əgər aşağıdakı formada yazsa idik xəta alacaqdıq."
   ]
  },
  {
   "cell_type": "code",
   "execution_count": 10,
   "id": "1b872761",
   "metadata": {},
   "outputs": [
    {
     "ename": "SyntaxError",
     "evalue": "invalid syntax (3276851351.py, line 1)",
     "output_type": "error",
     "traceback": [
      "\u001b[0;36m  File \u001b[0;32m\"/tmp/ipykernel_20116/3276851351.py\"\u001b[0;36m, line \u001b[0;32m1\u001b[0m\n\u001b[0;31m    new_str = \"You are\"t a enginer\u001b[0m\n\u001b[0m                       ^\u001b[0m\n\u001b[0;31mSyntaxError\u001b[0m\u001b[0;31m:\u001b[0m invalid syntax\n"
     ]
    }
   ],
   "source": [
    "new_str = \"You are\"t a enginer\n",
    "print(new_str)"
   ]
  },
  {
   "cell_type": "code",
   "execution_count": 11,
   "id": "b3811bee",
   "metadata": {},
   "outputs": [
    {
     "ename": "SyntaxError",
     "evalue": "invalid syntax (1670716798.py, line 1)",
     "output_type": "error",
     "traceback": [
      "\u001b[0;36m  File \u001b[0;32m\"/tmp/ipykernel_20116/1670716798.py\"\u001b[0;36m, line \u001b[0;32m1\u001b[0m\n\u001b[0;31m    new_str = 'You are't a enginer'\u001b[0m\n\u001b[0m                       ^\u001b[0m\n\u001b[0;31mSyntaxError\u001b[0m\u001b[0;31m:\u001b[0m invalid syntax\n"
     ]
    }
   ],
   "source": [
    "new_str = 'You are't a enginer'\n",
    "print(new_str)"
   ]
  },
  {
   "cell_type": "markdown",
   "id": "0b45315c",
   "metadata": {},
   "source": [
    "Və yaxud Escape character(qaçış simvolları) istifadə edə bilərik. Bu zaman məsələn string-i tək dırnaqlarla təyi etmisinizsə və içəridə də tək dırnaq istifadə etmək istəyirsinizsə escape simvollar köməyimizə çatacaq. Həmçinin cüt dırnaqla təyin etdikdə də problem yaranmır."
   ]
  },
  {
   "cell_type": "code",
   "execution_count": 47,
   "id": "18559d44",
   "metadata": {},
   "outputs": [
    {
     "name": "stdout",
     "output_type": "stream",
     "text": [
      "Welcome to 'Python Tutorial' on ItemAcademy\n"
     ]
    }
   ],
   "source": [
    "str1='Welcome to \\'Python Tutorial\\' on ItemAcademy'\n",
    "print(str1)"
   ]
  },
  {
   "cell_type": "markdown",
   "id": "ac48df8a",
   "metadata": {},
   "source": [
    "**String indeksləmə**"
   ]
  },
  {
   "cell_type": "markdown",
   "id": "37ffc20b",
   "metadata": {},
   "source": [
    "- Stringlərin simvol toplusu olduğunu dedik. Hər bir simvolun string daxilində bir yeri, indeksi var. Məsələn \"salam\" stringində s, a, l, a, m simvollarının yerlərinə indeks deyilir. Python və digər proqramlaşdırma dillərinin demək olar hamısında indekslənmə 0-dan başlayır."
   ]
  },
  {
   "cell_type": "code",
   "execution_count": 12,
   "id": "276ded94",
   "metadata": {},
   "outputs": [
    {
     "name": "stdout",
     "output_type": "stream",
     "text": [
      "salam\n"
     ]
    }
   ],
   "source": [
    "str = \"salam\"\n",
    "print(str)"
   ]
  },
  {
   "cell_type": "code",
   "execution_count": 14,
   "id": "cd174c39",
   "metadata": {},
   "outputs": [
    {
     "name": "stdout",
     "output_type": "stream",
     "text": [
      "s\n"
     ]
    }
   ],
   "source": [
    "print(str[0])"
   ]
  },
  {
   "cell_type": "code",
   "execution_count": 16,
   "id": "30026521",
   "metadata": {},
   "outputs": [
    {
     "name": "stdout",
     "output_type": "stream",
     "text": [
      "l\n"
     ]
    }
   ],
   "source": [
    "print(str[2])"
   ]
  },
  {
   "cell_type": "markdown",
   "id": "4ad20dad",
   "metadata": {},
   "source": [
    "- Pythonda stringlər başdan olduğu kimi sondan da indekslənə bilirlər."
   ]
  },
  {
   "cell_type": "code",
   "execution_count": 17,
   "id": "a65d2264",
   "metadata": {},
   "outputs": [
    {
     "name": "stdout",
     "output_type": "stream",
     "text": [
      "m\n"
     ]
    }
   ],
   "source": [
    "print(str[-1])"
   ]
  },
  {
   "cell_type": "code",
   "execution_count": 18,
   "id": "c36cde48",
   "metadata": {},
   "outputs": [
    {
     "name": "stdout",
     "output_type": "stream",
     "text": [
      "a\n"
     ]
    }
   ],
   "source": [
    "print(str[-2])"
   ]
  },
  {
   "cell_type": "code",
   "execution_count": 19,
   "id": "f94c4666",
   "metadata": {},
   "outputs": [
    {
     "name": "stdout",
     "output_type": "stream",
     "text": [
      "l\n"
     ]
    }
   ],
   "source": [
    "print(str[-3])"
   ]
  },
  {
   "cell_type": "markdown",
   "id": "3c5a392a",
   "metadata": {},
   "source": [
    "- Bəs uzun bir stringin sadəcə müəyyən bir hissəsini necə ala bilərik? Bunun üçün formulumuz aşağıdakı formada olacaq:\n",
    "\n",
    "[baslama deyeri : bitis deyere : atlama deyeri]"
   ]
  },
  {
   "cell_type": "code",
   "execution_count": 20,
   "id": "49b814b1",
   "metadata": {},
   "outputs": [],
   "source": [
    "a = \"Python programming language\""
   ]
  },
  {
   "cell_type": "code",
   "execution_count": 22,
   "id": "096c3312",
   "metadata": {},
   "outputs": [
    {
     "name": "stdout",
     "output_type": "stream",
     "text": [
      "Python pro\n"
     ]
    }
   ],
   "source": [
    "# Başdan başla 10-cu indeksə qədər(daxil deyil)\n",
    "print(a[0:10])"
   ]
  },
  {
   "cell_type": "code",
   "execution_count": 23,
   "id": "ccec1524",
   "metadata": {},
   "outputs": [
    {
     "name": "stdout",
     "output_type": "stream",
     "text": [
      "on program\n"
     ]
    }
   ],
   "source": [
    "print(a[4:14])"
   ]
  },
  {
   "cell_type": "code",
   "execution_count": 24,
   "id": "ee52e500",
   "metadata": {},
   "outputs": [
    {
     "name": "stdout",
     "output_type": "stream",
     "text": [
      "Python pro\n"
     ]
    }
   ],
   "source": [
    "# Başlanğıc dəyəri bildirilməyibsə ən başdan başlayaraq hesablayır\n",
    "print(a[:10])"
   ]
  },
  {
   "cell_type": "code",
   "execution_count": 25,
   "id": "96a4e570",
   "metadata": {},
   "outputs": [
    {
     "name": "stdout",
     "output_type": "stream",
     "text": [
      "thon programming language\n"
     ]
    }
   ],
   "source": [
    "# Həmçinin bitiş dəyəridə bildirilmədikdə ən sonuncu da daxil olmaqla alır\n",
    "print(a[2:])"
   ]
  },
  {
   "cell_type": "code",
   "execution_count": 26,
   "id": "3dda57ba",
   "metadata": {
    "scrolled": true
   },
   "outputs": [
    {
     "name": "stdout",
     "output_type": "stream",
     "text": [
      "Python programming language\n"
     ]
    }
   ],
   "source": [
    "# Əgər hər 2-si də bildirilməsə bütün stringi alır\n",
    "print(a[:])"
   ]
  },
  {
   "cell_type": "code",
   "execution_count": 29,
   "id": "a6f6bfdf",
   "metadata": {},
   "outputs": [
    {
     "name": "stdout",
     "output_type": "stream",
     "text": [
      "Python programming languag\n"
     ]
    }
   ],
   "source": [
    "# Son simvola qədər almağını istəyiriksə və son simvolun neçənsi indeksdə olduğunu bilmiriksə,\n",
    "# aşağıdakı kimi ala bilərik\n",
    "\n",
    "print(a[:-1])"
   ]
  },
  {
   "cell_type": "code",
   "execution_count": 30,
   "id": "6eb52315",
   "metadata": {},
   "outputs": [
    {
     "name": "stdout",
     "output_type": "stream",
     "text": [
      "Pto rgamn agae\n"
     ]
    }
   ],
   "source": [
    "# Başdan sona 2 dəyər atlıyaraq\n",
    "print(a[::2])"
   ]
  },
  {
   "cell_type": "code",
   "execution_count": 32,
   "id": "fe697fc0",
   "metadata": {},
   "outputs": [
    {
     "name": "stdout",
     "output_type": "stream",
     "text": [
      "egaugnal gnimmargorp nohtyP\n"
     ]
    }
   ],
   "source": [
    "# Başdan sona -1 atlıyaraq stringi al. (String tərs çevirmə)\n",
    "print(a[::-1])"
   ]
  },
  {
   "cell_type": "code",
   "execution_count": 34,
   "id": "e9fff707",
   "metadata": {},
   "outputs": [
    {
     "name": "stdout",
     "output_type": "stream",
     "text": [
      "hnpor\n"
     ]
    }
   ],
   "source": [
    "print(a[3:13:2])"
   ]
  },
  {
   "cell_type": "markdown",
   "id": "b604a189",
   "metadata": {},
   "source": [
    "**len() funksiyası**\n",
    "- Stringin uzunluğunu tapmaq üçün bu funksiyadan istifadə edirik. Stringdə neçə simvol olduğunu verir"
   ]
  },
  {
   "cell_type": "code",
   "execution_count": 35,
   "id": "f4558fcc",
   "metadata": {},
   "outputs": [
    {
     "name": "stdout",
     "output_type": "stream",
     "text": [
      "5\n"
     ]
    }
   ],
   "source": [
    "a = \"salam\"\n",
    "print(len(a))"
   ]
  },
  {
   "cell_type": "code",
   "execution_count": 36,
   "id": "0afa6077",
   "metadata": {},
   "outputs": [
    {
     "name": "stdout",
     "output_type": "stream",
     "text": [
      "27\n"
     ]
    }
   ],
   "source": [
    "print(len('Python programming language'))"
   ]
  },
  {
   "cell_type": "markdown",
   "id": "e48a4b98",
   "metadata": {},
   "source": [
    "- Bundan əlavə Stringlər immutable-dır. Yəni hər hansı bir simvolu dəyişdirilə bilməz"
   ]
  },
  {
   "cell_type": "code",
   "execution_count": 37,
   "id": "2cf9e82f",
   "metadata": {},
   "outputs": [
    {
     "name": "stdout",
     "output_type": "stream",
     "text": [
      "Python\n"
     ]
    }
   ],
   "source": [
    "s1 = \"Python\"\n",
    "print(s1)"
   ]
  },
  {
   "cell_type": "code",
   "execution_count": 38,
   "id": "d15b2a5b",
   "metadata": {},
   "outputs": [
    {
     "ename": "TypeError",
     "evalue": "'str' object does not support item assignment",
     "output_type": "error",
     "traceback": [
      "\u001b[0;31m---------------------------------------------------------------------------\u001b[0m",
      "\u001b[0;31mTypeError\u001b[0m                                 Traceback (most recent call last)",
      "\u001b[0;32m/tmp/ipykernel_20116/1243172372.py\u001b[0m in \u001b[0;36m<module>\u001b[0;34m\u001b[0m\n\u001b[0;32m----> 1\u001b[0;31m \u001b[0ms1\u001b[0m\u001b[0;34m[\u001b[0m\u001b[0;36m0\u001b[0m\u001b[0;34m]\u001b[0m \u001b[0;34m=\u001b[0m \u001b[0;34m\"J\"\u001b[0m\u001b[0;34m\u001b[0m\u001b[0;34m\u001b[0m\u001b[0m\n\u001b[0m",
      "\u001b[0;31mTypeError\u001b[0m: 'str' object does not support item assignment"
     ]
    }
   ],
   "source": [
    "s1[0] = \"J\""
   ]
  },
  {
   "cell_type": "markdown",
   "id": "bb4e50a4",
   "metadata": {},
   "source": [
    "Gördüyümüz kimi xəta aldıq."
   ]
  },
  {
   "cell_type": "markdown",
   "id": "60b7332b",
   "metadata": {},
   "source": [
    "**String Operators**\n",
    "\n",
    "Iki stringi bir biri ilə birləşdirmək üçün + operatorundan istifadə edirik. Bu zaman bu operator numbersdəki kimi toplama prosesi etmir, stringləri birləşdirir. "
   ]
  },
  {
   "cell_type": "code",
   "execution_count": 48,
   "id": "eda0f1e3",
   "metadata": {},
   "outputs": [
    {
     "name": "stdout",
     "output_type": "stream",
     "text": [
      "Salam,Necesen?\n"
     ]
    }
   ],
   "source": [
    "str1 = \"Salam,\"\n",
    "str2 = \"Necesen?\"\n",
    "print(str1+str2)"
   ]
  },
  {
   "cell_type": "markdown",
   "id": "ebcfb2e4",
   "metadata": {},
   "source": [
    "Bundan başqa stringlərdə * operatoruda var. Gəlin onun nə iş gördüyünə baxaq:"
   ]
  },
  {
   "cell_type": "code",
   "execution_count": 52,
   "id": "640a3103",
   "metadata": {},
   "outputs": [
    {
     "name": "stdout",
     "output_type": "stream",
     "text": [
      "PythonPythonPython\n"
     ]
    }
   ],
   "source": [
    "print(\"Python\"*3)"
   ]
  },
  {
   "cell_type": "markdown",
   "id": "1a05a933",
   "metadata": {},
   "source": [
    "Gördüyümüz kimi neçəyə vururuqsa Stringi o qədər təkrar edir. Bunu **3*\"Python\"** formasında da yaza bilərdik. Yenə eyni nəticəni verəcək."
   ]
  },
  {
   "cell_type": "code",
   "execution_count": 54,
   "id": "35f75a69",
   "metadata": {},
   "outputs": [
    {
     "name": "stdout",
     "output_type": "stream",
     "text": [
      "Programming languageProgramming languageProgramming language\n"
     ]
    }
   ],
   "source": [
    "s = \"Programming language\"\n",
    "print(3*s)"
   ]
  },
  {
   "cell_type": "markdown",
   "id": "cac711ae",
   "metadata": {},
   "source": [
    "- Əgər print funksiyasında stringdən əvvəl * qoyularsa bu zaman String simvollarını ayıracaq və hər bir simvola ayrı string kimi davranılacaq."
   ]
  },
  {
   "cell_type": "code",
   "execution_count": 57,
   "id": "7e1b172d",
   "metadata": {},
   "outputs": [
    {
     "name": "stdout",
     "output_type": "stream",
     "text": [
      "P y t h o n\n"
     ]
    }
   ],
   "source": [
    "str = \"Python\"\n",
    "print(*str)"
   ]
  }
 ],
 "metadata": {
  "kernelspec": {
   "display_name": "Python 3 (ipykernel)",
   "language": "python",
   "name": "python3"
  },
  "language_info": {
   "codemirror_mode": {
    "name": "ipython",
    "version": 3
   },
   "file_extension": ".py",
   "mimetype": "text/x-python",
   "name": "python",
   "nbconvert_exporter": "python",
   "pygments_lexer": "ipython3",
   "version": "3.9.7"
  }
 },
 "nbformat": 4,
 "nbformat_minor": 5
}
