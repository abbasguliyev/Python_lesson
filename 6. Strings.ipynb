{
 "cells": [
  {
   "cell_type": "markdown",
   "id": "0caf98d8",
   "metadata": {},
   "source": [
    "# Strings\n",
    "\n",
    "- Python-da öyrəndiyimiz digər data type Stringdir. String simvollar toplusu deməkdir. Yəni \"Salam\" Stringi \"S\", \"a\", \"l\", \"a\", \"m\" simvollarının birləşməsindən ibarətdir. Simvol dedikdə təkcə hərflər nəzərdə tutulmur. ! , . ? @ # % ^ & * ( ) { } [ ] < > və s. hamısı simvoldur. Ümumiyyətlə dırnaq işarəsi arasında yazdığımız hər şey Stringdir. Rəqəmləri belə dırnaq işarələri arasında yazdıqda bu String olur. Məsələn \"7\" bir stringdir. String düzəltmək üçün ya tək dırnaqlardan ya da cüt dırnaqlardan istifadə edirik. Əsas məsələ tək dırnaq ilə başlamışıqsa tək dırnaqla da bitirməkdir. Həmçinin əksinə. Hansı ilə başlamısansa onunla da bitirmək lazımdır. Yəni 'Test\" bu yazılış doğru deyil, proqramı çalışdırdıqda bizə xəta verəcək. Bundan əlavə olaraq Stringlər üç dırnaq işarəsi ilə də yazıla bilirlər. Üç dırnaq işarəsi ilə yazılış çox istifadə olunmur. Bunu yalnız bir necə çətirlik String yazacayıqsa istifadə edirik."
   ]
  },
  {
   "cell_type": "code",
   "execution_count": 4,
   "id": "a3aa0f3e",
   "metadata": {},
   "outputs": [
    {
     "name": "stdout",
     "output_type": "stream",
     "text": [
      "This is a string in Python\n",
      "This is a string in Python\n"
     ]
    }
   ],
   "source": [
    "str1='This is a string in Python' \n",
    "print(str1)\n",
    "str2=\"This is a string in Python\" \n",
    "print(str2)"
   ]
  },
  {
   "cell_type": "code",
   "execution_count": 7,
   "id": "67087056",
   "metadata": {},
   "outputs": [
    {
     "name": "stdout",
     "output_type": "stream",
     "text": [
      "This is \n",
      "the first\n",
      "Multi-line string.\n",
      "\n"
     ]
    }
   ],
   "source": [
    "str1='''This is \n",
    "the first\n",
    "Multi-line string.\n",
    "'''\n",
    "print(str1)"
   ]
  },
  {
   "cell_type": "code",
   "execution_count": 6,
   "id": "20e58da4",
   "metadata": {},
   "outputs": [
    {
     "name": "stdout",
     "output_type": "stream",
     "text": [
      "This is\n",
      "the second\n",
      "Multi-line\n",
      "string.\n"
     ]
    }
   ],
   "source": [
    "str2=\"\"\"This is\n",
    "the second\n",
    "Multi-line\n",
    "string.\"\"\"\n",
    "print(str2)"
   ]
  },
  {
   "cell_type": "markdown",
   "id": "b37e808d",
   "metadata": {},
   "source": [
    "- Əgər siz yazacağınız cümlədə də dırnaq işarəsi istifadə etməlisinizsə, bu zaman əgər String 2 dırnaq ilə yazmısınızsa içəridə tək dırnaqdan və həmçinin də əksinə istifadə etməlisiniz:"
   ]
  },
  {
   "cell_type": "code",
   "execution_count": 9,
   "id": "940ecdfb",
   "metadata": {},
   "outputs": [
    {
     "name": "stdout",
     "output_type": "stream",
     "text": [
      "You are't a enginer\n"
     ]
    }
   ],
   "source": [
    "new_str = \"You are't a enginer\"\n",
    "print(new_str)"
   ]
  },
  {
   "cell_type": "markdown",
   "id": "05a350a1",
   "metadata": {},
   "source": [
    "Əgər aşağıdakı formada yazsa idik xəta alacaqdıq."
   ]
  },
  {
   "cell_type": "code",
   "execution_count": 10,
   "id": "cfbae7e2",
   "metadata": {},
   "outputs": [
    {
     "ename": "SyntaxError",
     "evalue": "invalid syntax (3276851351.py, line 1)",
     "output_type": "error",
     "traceback": [
      "\u001b[0;36m  File \u001b[0;32m\"/tmp/ipykernel_20116/3276851351.py\"\u001b[0;36m, line \u001b[0;32m1\u001b[0m\n\u001b[0;31m    new_str = \"You are\"t a enginer\u001b[0m\n\u001b[0m                       ^\u001b[0m\n\u001b[0;31mSyntaxError\u001b[0m\u001b[0;31m:\u001b[0m invalid syntax\n"
     ]
    }
   ],
   "source": [
    "new_str = \"You are\"t a enginer\n",
    "print(new_str)"
   ]
  },
  {
   "cell_type": "code",
   "execution_count": 11,
   "id": "7da99b77",
   "metadata": {},
   "outputs": [
    {
     "ename": "SyntaxError",
     "evalue": "invalid syntax (1670716798.py, line 1)",
     "output_type": "error",
     "traceback": [
      "\u001b[0;36m  File \u001b[0;32m\"/tmp/ipykernel_20116/1670716798.py\"\u001b[0;36m, line \u001b[0;32m1\u001b[0m\n\u001b[0;31m    new_str = 'You are't a enginer'\u001b[0m\n\u001b[0m                       ^\u001b[0m\n\u001b[0;31mSyntaxError\u001b[0m\u001b[0;31m:\u001b[0m invalid syntax\n"
     ]
    }
   ],
   "source": [
    "new_str = 'You are't a enginer'\n",
    "print(new_str)"
   ]
  },
  {
   "cell_type": "markdown",
   "id": "708a69dc",
   "metadata": {},
   "source": [
    "**String indeksləmə**"
   ]
  },
  {
   "cell_type": "markdown",
   "id": "98d92974",
   "metadata": {},
   "source": [
    "- Stringlərin simvol toplusu olduğunu dedik. Hər bir simvolun string daxilində bir yeri, indeksi var. Məsələn \"salam\" stringində s, a, l, a, m simvollarının yerlərinə indeks deyilir. Python və digər proqramlaşdırma dillərinin demək olar hamısında indekslənmə 0-dan başlayır."
   ]
  },
  {
   "cell_type": "code",
   "execution_count": 12,
   "id": "d0be0f49",
   "metadata": {},
   "outputs": [
    {
     "name": "stdout",
     "output_type": "stream",
     "text": [
      "salam\n"
     ]
    }
   ],
   "source": [
    "str = \"salam\"\n",
    "print(str)"
   ]
  },
  {
   "cell_type": "code",
   "execution_count": 14,
   "id": "0208414a",
   "metadata": {},
   "outputs": [
    {
     "name": "stdout",
     "output_type": "stream",
     "text": [
      "s\n"
     ]
    }
   ],
   "source": [
    "print(str[0])"
   ]
  },
  {
   "cell_type": "code",
   "execution_count": 16,
   "id": "ecaa0f6f",
   "metadata": {},
   "outputs": [
    {
     "name": "stdout",
     "output_type": "stream",
     "text": [
      "l\n"
     ]
    }
   ],
   "source": [
    "print(str[2])"
   ]
  },
  {
   "cell_type": "markdown",
   "id": "0866eab8",
   "metadata": {},
   "source": [
    "- Pythonda stringlər başdan olduğu kimi sondan da indekslənə bilirlər."
   ]
  },
  {
   "cell_type": "code",
   "execution_count": 17,
   "id": "42600cc4",
   "metadata": {},
   "outputs": [
    {
     "name": "stdout",
     "output_type": "stream",
     "text": [
      "m\n"
     ]
    }
   ],
   "source": [
    "print(str[-1])"
   ]
  },
  {
   "cell_type": "code",
   "execution_count": 18,
   "id": "7dcd5289",
   "metadata": {},
   "outputs": [
    {
     "name": "stdout",
     "output_type": "stream",
     "text": [
      "a\n"
     ]
    }
   ],
   "source": [
    "print(str[-2])"
   ]
  },
  {
   "cell_type": "code",
   "execution_count": 19,
   "id": "350dbcb9",
   "metadata": {},
   "outputs": [
    {
     "name": "stdout",
     "output_type": "stream",
     "text": [
      "l\n"
     ]
    }
   ],
   "source": [
    "print(str[-3])"
   ]
  },
  {
   "cell_type": "markdown",
   "id": "ec926986",
   "metadata": {},
   "source": [
    "- Bəs uzun bir stringin sadəcə müəyyən bir hissəsini necə ala bilərik? Bunun üçün formulumuz aşağıdakı formada olacaq:\n",
    "\n",
    "[baslama deyeri : bitis deyere : atlama deyeri]"
   ]
  },
  {
   "cell_type": "code",
   "execution_count": 20,
   "id": "56235ec8",
   "metadata": {},
   "outputs": [],
   "source": [
    "a = \"Python programming language\""
   ]
  },
  {
   "cell_type": "code",
   "execution_count": 22,
   "id": "c4665496",
   "metadata": {},
   "outputs": [
    {
     "name": "stdout",
     "output_type": "stream",
     "text": [
      "Python pro\n"
     ]
    }
   ],
   "source": [
    "# Başdan başla 10-cu indeksə qədər(daxil deyil)\n",
    "print(a[0:10])"
   ]
  },
  {
   "cell_type": "code",
   "execution_count": 23,
   "id": "5477d0b1",
   "metadata": {},
   "outputs": [
    {
     "name": "stdout",
     "output_type": "stream",
     "text": [
      "on program\n"
     ]
    }
   ],
   "source": [
    "print(a[4:14])"
   ]
  },
  {
   "cell_type": "code",
   "execution_count": 24,
   "id": "8d961672",
   "metadata": {},
   "outputs": [
    {
     "name": "stdout",
     "output_type": "stream",
     "text": [
      "Python pro\n"
     ]
    }
   ],
   "source": [
    "# Başlanğıc dəyəri bildirilməyibsə ən başdan başlayaraq hesablayır\n",
    "print(a[:10])"
   ]
  },
  {
   "cell_type": "code",
   "execution_count": 25,
   "id": "6de80935",
   "metadata": {},
   "outputs": [
    {
     "name": "stdout",
     "output_type": "stream",
     "text": [
      "thon programming language\n"
     ]
    }
   ],
   "source": [
    "# Həmçinin bitiş dəyəridə bildirilmədikdə ən sonuncu da daxil olmaqla alır\n",
    "print(a[2:])"
   ]
  },
  {
   "cell_type": "code",
   "execution_count": 26,
   "id": "e5af7d70",
   "metadata": {
    "scrolled": true
   },
   "outputs": [
    {
     "name": "stdout",
     "output_type": "stream",
     "text": [
      "Python programming language\n"
     ]
    }
   ],
   "source": [
    "# Əgər hər 2-si də bildirilməsə bütün stringi alır\n",
    "print(a[:])"
   ]
  },
  {
   "cell_type": "code",
   "execution_count": 29,
   "id": "47d9a17d",
   "metadata": {},
   "outputs": [
    {
     "name": "stdout",
     "output_type": "stream",
     "text": [
      "Python programming languag\n"
     ]
    }
   ],
   "source": [
    "# Son simvola qədər almağını istəyiriksə və son simvolun neçənsi indeksdə olduğunu bilmiriksə,\n",
    "# aşağıdakı kimi ala bilərik\n",
    "\n",
    "print(a[:-1])"
   ]
  },
  {
   "cell_type": "code",
   "execution_count": 30,
   "id": "40d5fd4f",
   "metadata": {},
   "outputs": [
    {
     "name": "stdout",
     "output_type": "stream",
     "text": [
      "Pto rgamn agae\n"
     ]
    }
   ],
   "source": [
    "# Başdan sona 2 dəyər atlıyaraq\n",
    "print(a[::2])"
   ]
  },
  {
   "cell_type": "code",
   "execution_count": 32,
   "id": "6b171d7e",
   "metadata": {},
   "outputs": [
    {
     "name": "stdout",
     "output_type": "stream",
     "text": [
      "egaugnal gnimmargorp nohtyP\n"
     ]
    }
   ],
   "source": [
    "# Başdan sona -1 atlıyaraq stringi al. (String tərs çevirmə)\n",
    "print(a[::-1])"
   ]
  },
  {
   "cell_type": "code",
   "execution_count": 34,
   "id": "ffba53b4",
   "metadata": {},
   "outputs": [
    {
     "name": "stdout",
     "output_type": "stream",
     "text": [
      "hnpor\n"
     ]
    }
   ],
   "source": [
    "print(a[3:13:2])"
   ]
  },
  {
   "cell_type": "code",
   "execution_count": null,
   "id": "9be40781",
   "metadata": {},
   "outputs": [],
   "source": []
  }
 ],
 "metadata": {
  "kernelspec": {
   "display_name": "Python 3 (ipykernel)",
   "language": "python",
   "name": "python3"
  },
  "language_info": {
   "codemirror_mode": {
    "name": "ipython",
    "version": 3
   },
   "file_extension": ".py",
   "mimetype": "text/x-python",
   "name": "python",
   "nbconvert_exporter": "python",
   "pygments_lexer": "ipython3",
   "version": "3.9.7"
  }
 },
 "nbformat": 4,
 "nbformat_minor": 5
}
