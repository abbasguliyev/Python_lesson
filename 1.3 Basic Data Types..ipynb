{
 "cells": [
  {
   "cell_type": "markdown",
   "id": "8927be2c",
   "metadata": {},
   "source": [
    "# 3. Basic data types.\n",
    "- Pythonda və digər proqramlaşdırma dillərində kompyuterə əmrlər vermək üçün məlumatları onun anladığı formada göndərməliyik. Bu məqsədlədə ilk olaraq Pythondakı ilkin məlumat tiplərinə(Basic data types) baxacayıq.\n",
    "\n",
    "**İntegers (tam ədədlər)**\n",
    "\n",
    "- Proqramlaşdırmada integer tam ədədləri ifadə edir. (1, 2, 3, 26 və s.)\n"
   ]
  },
  {
   "cell_type": "code",
   "execution_count": 1,
   "id": "eb1ed0c9",
   "metadata": {},
   "outputs": [
    {
     "data": {
      "text/plain": [
       "5"
      ]
     },
     "execution_count": 1,
     "metadata": {},
     "output_type": "execute_result"
    }
   ],
   "source": [
    "5"
   ]
  },
  {
   "cell_type": "markdown",
   "id": "c851b9d1",
   "metadata": {},
   "source": [
    "- integerlər mənfi dəyərlər də ala bilirlər"
   ]
  },
  {
   "cell_type": "code",
   "execution_count": 2,
   "id": "c4cda6ef",
   "metadata": {},
   "outputs": [
    {
     "data": {
      "text/plain": [
       "-6"
      ]
     },
     "execution_count": 2,
     "metadata": {},
     "output_type": "execute_result"
    }
   ],
   "source": [
    "-6"
   ]
  },
  {
   "cell_type": "markdown",
   "id": "dc528f82",
   "metadata": {},
   "source": [
    "- Tam rəqəmlərlə toplama çıxma kimi əməliyyatlar etdiyimiz kimi integerlər ilə də edə bilirik"
   ]
  },
  {
   "cell_type": "code",
   "execution_count": 3,
   "id": "0c6d0c77",
   "metadata": {},
   "outputs": [
    {
     "data": {
      "text/plain": [
       "4"
      ]
     },
     "execution_count": 3,
     "metadata": {},
     "output_type": "execute_result"
    }
   ],
   "source": [
    "2+2"
   ]
  },
  {
   "cell_type": "code",
   "execution_count": 4,
   "id": "a37c76a9",
   "metadata": {},
   "outputs": [
    {
     "data": {
      "text/plain": [
       "4"
      ]
     },
     "execution_count": 4,
     "metadata": {},
     "output_type": "execute_result"
    }
   ],
   "source": [
    "9-5"
   ]
  },
  {
   "cell_type": "code",
   "execution_count": 5,
   "id": "e02d7b94",
   "metadata": {},
   "outputs": [
    {
     "data": {
      "text/plain": [
       "108"
      ]
     },
     "execution_count": 5,
     "metadata": {},
     "output_type": "execute_result"
    }
   ],
   "source": [
    "4*27"
   ]
  },
  {
   "cell_type": "code",
   "execution_count": 6,
   "id": "ee2ec377",
   "metadata": {},
   "outputs": [
    {
     "data": {
      "text/plain": [
       "9.0"
      ]
     },
     "execution_count": 6,
     "metadata": {},
     "output_type": "execute_result"
    }
   ],
   "source": [
    "81/9"
   ]
  },
  {
   "cell_type": "markdown",
   "id": "d4ccbec7",
   "metadata": {},
   "source": [
    "**Float (Onluq ədədlər)**\n",
    "\n",
    "- Float riyaziyyatdakı onluq ədədlərdi, yeni vergüllü ədədlər. Proqramlaşdırmada vergül əvəzinə . istifadə olunur. Məsələn: 2.6 4.8 156.78 və s. Bundan başqa əgər 3.0 5.0 və s. yazarsaq bu da Float olur. Baxmayaraqki nöqtədən sonra 0 qoymuşuq, nöqtə istifadə etdiyimiz üçün python bunu float olaraq qəbul edir. Həmçinin Float-lar da mənfi dəyər ala bilirlər və riyazi proseslərdə istifadə edilirlər"
   ]
  },
  {
   "cell_type": "code",
   "execution_count": 7,
   "id": "3dbf96f4",
   "metadata": {},
   "outputs": [
    {
     "data": {
      "text/plain": [
       "2.6"
      ]
     },
     "execution_count": 7,
     "metadata": {},
     "output_type": "execute_result"
    }
   ],
   "source": [
    "2.6"
   ]
  },
  {
   "cell_type": "code",
   "execution_count": 8,
   "id": "4ff70107",
   "metadata": {},
   "outputs": [
    {
     "data": {
      "text/plain": [
       "3.4"
      ]
     },
     "execution_count": 8,
     "metadata": {},
     "output_type": "execute_result"
    }
   ],
   "source": [
    "3.4"
   ]
  },
  {
   "cell_type": "code",
   "execution_count": 9,
   "id": "7aa558d6",
   "metadata": {},
   "outputs": [
    {
     "data": {
      "text/plain": [
       "134.79"
      ]
     },
     "execution_count": 9,
     "metadata": {},
     "output_type": "execute_result"
    }
   ],
   "source": [
    "134.79"
   ]
  },
  {
   "cell_type": "code",
   "execution_count": 10,
   "id": "03e2f694",
   "metadata": {},
   "outputs": [
    {
     "data": {
      "text/plain": [
       "-45.6"
      ]
     },
     "execution_count": 10,
     "metadata": {},
     "output_type": "execute_result"
    }
   ],
   "source": [
    "-45.6"
   ]
  },
  {
   "cell_type": "code",
   "execution_count": 11,
   "id": "32e8407d",
   "metadata": {},
   "outputs": [
    {
     "data": {
      "text/plain": [
       "14.4"
      ]
     },
     "execution_count": 11,
     "metadata": {},
     "output_type": "execute_result"
    }
   ],
   "source": [
    "4.6+9.8"
   ]
  },
  {
   "cell_type": "code",
   "execution_count": 12,
   "id": "25fdb5bf",
   "metadata": {},
   "outputs": [
    {
     "data": {
      "text/plain": [
       "2.1"
      ]
     },
     "execution_count": 12,
     "metadata": {},
     "output_type": "execute_result"
    }
   ],
   "source": [
    "2.7-0.6"
   ]
  },
  {
   "cell_type": "code",
   "execution_count": 13,
   "id": "0af93db9",
   "metadata": {},
   "outputs": [
    {
     "data": {
      "text/plain": [
       "73.072"
      ]
     },
     "execution_count": 13,
     "metadata": {},
     "output_type": "execute_result"
    }
   ],
   "source": [
    "1.6*45.67"
   ]
  },
  {
   "cell_type": "code",
   "execution_count": 24,
   "id": "fd3b9df0",
   "metadata": {},
   "outputs": [
    {
     "data": {
      "text/plain": [
       "8.071434463416645"
      ]
     },
     "execution_count": 24,
     "metadata": {},
     "output_type": "execute_result"
    }
   ],
   "source": [
    "97.85/12.123"
   ]
  },
  {
   "cell_type": "markdown",
   "id": "a13075cd",
   "metadata": {},
   "source": [
    "\n",
    "\n",
    "**String**\n",
    "\n",
    "- Python-da sözlər cümlələr simvollar yazmaq üçün String-lərdən istifadə edirik. Stringlər tək dırnaq ('') və ya cüt dırnaq(\"\") arasında yazılır. Dırnaq işarəsi arasında yazılan hər şey Stringdir. Stringlər simvollar toplusudur. Simvol dedikdə klaviaturada gördüyümüz hər şeyi aid edə bilərik. Məsələn ! . , ? a b s və s. Əgər rəqəmləridə dırnaq arasında yazsaq bu da String olacaqdır. Bundan əlavə dırnaq arasında boşluq buraxsaq bu da python-da String olaraq qəbul edilir halbu ki heç bir şey yazmamışıq sadəcə boşluq buraxmışıq. Stringlər haqqında daha ətraflı növbəti dərsdə danışacayıq."
   ]
  },
  {
   "cell_type": "code",
   "execution_count": 25,
   "id": "7bf81af1",
   "metadata": {},
   "outputs": [
    {
     "data": {
      "text/plain": [
       "'salam'"
      ]
     },
     "execution_count": 25,
     "metadata": {},
     "output_type": "execute_result"
    }
   ],
   "source": [
    "\"salam\""
   ]
  },
  {
   "cell_type": "code",
   "execution_count": 26,
   "id": "805c9afb",
   "metadata": {},
   "outputs": [
    {
     "data": {
      "text/plain": [
       "'!'"
      ]
     },
     "execution_count": 26,
     "metadata": {},
     "output_type": "execute_result"
    }
   ],
   "source": [
    "\"!\""
   ]
  },
  {
   "cell_type": "code",
   "execution_count": 27,
   "id": "e4fec569",
   "metadata": {},
   "outputs": [
    {
     "data": {
      "text/plain": [
       "'5'"
      ]
     },
     "execution_count": 27,
     "metadata": {},
     "output_type": "execute_result"
    }
   ],
   "source": [
    "'5'"
   ]
  },
  {
   "cell_type": "code",
   "execution_count": 28,
   "id": "280a1adc",
   "metadata": {},
   "outputs": [
    {
     "data": {
      "text/plain": [
       "'s'"
      ]
     },
     "execution_count": 28,
     "metadata": {},
     "output_type": "execute_result"
    }
   ],
   "source": [
    "\"s\""
   ]
  },
  {
   "cell_type": "code",
   "execution_count": 29,
   "id": "5d03823d",
   "metadata": {},
   "outputs": [
    {
     "data": {
      "text/plain": [
       "'a'"
      ]
     },
     "execution_count": 29,
     "metadata": {},
     "output_type": "execute_result"
    }
   ],
   "source": [
    "'a'"
   ]
  },
  {
   "cell_type": "code",
   "execution_count": 30,
   "id": "702aa1a1",
   "metadata": {},
   "outputs": [
    {
     "data": {
      "text/plain": [
       "'5+6'"
      ]
     },
     "execution_count": 30,
     "metadata": {},
     "output_type": "execute_result"
    }
   ],
   "source": [
    "\"5+6\""
   ]
  },
  {
   "cell_type": "code",
   "execution_count": 31,
   "id": "7d7c612e",
   "metadata": {},
   "outputs": [
    {
     "data": {
      "text/plain": [
       "'asdsa12321321asdads'"
      ]
     },
     "execution_count": 31,
     "metadata": {},
     "output_type": "execute_result"
    }
   ],
   "source": [
    "'asdsa12321321asdads'"
   ]
  },
  {
   "cell_type": "markdown",
   "id": "cd9bbdcc",
   "metadata": {},
   "source": [
    "**Boolean**\n",
    " - Boolean True və False dəyərləri alır. Növbəti dərslərdə if else məntiqini keçdiyimizdə Boolean-ı daha yaxşı anlayacayıq. Hələlik bu qədər məlumat yetərlidir."
   ]
  },
  {
   "cell_type": "code",
   "execution_count": 15,
   "id": "9f3f653b",
   "metadata": {},
   "outputs": [
    {
     "data": {
      "text/plain": [
       "True"
      ]
     },
     "execution_count": 15,
     "metadata": {},
     "output_type": "execute_result"
    }
   ],
   "source": [
    "2<3"
   ]
  },
  {
   "cell_type": "code",
   "execution_count": 16,
   "id": "b41bfc74",
   "metadata": {},
   "outputs": [
    {
     "data": {
      "text/plain": [
       "False"
      ]
     },
     "execution_count": 16,
     "metadata": {},
     "output_type": "execute_result"
    }
   ],
   "source": [
    "4.5>9"
   ]
  },
  {
   "cell_type": "markdown",
   "id": "7c172822",
   "metadata": {},
   "source": [
    "\n",
    "\n",
    "\n",
    "**type()**\n",
    "\n",
    "- Bu keçdiyimiz məlumatların tiplərinə baxmaq üçün type funksiyasından istifadə edirik.(Funksiyanın nə olduğunu da növbəti dərslərimizdə keçəcəyik, sadəcə bəzi funksiyaları öyrənməli olduğuz üçün məsələn type() funksiyası kimi, onları indi keçirik)"
   ]
  },
  {
   "cell_type": "code",
   "execution_count": 17,
   "id": "b2c3ade8",
   "metadata": {},
   "outputs": [
    {
     "data": {
      "text/plain": [
       "int"
      ]
     },
     "execution_count": 17,
     "metadata": {},
     "output_type": "execute_result"
    }
   ],
   "source": [
    "type(4)"
   ]
  },
  {
   "cell_type": "code",
   "execution_count": 18,
   "id": "e617305c",
   "metadata": {},
   "outputs": [
    {
     "data": {
      "text/plain": [
       "float"
      ]
     },
     "execution_count": 18,
     "metadata": {},
     "output_type": "execute_result"
    }
   ],
   "source": [
    "type(6.7)"
   ]
  },
  {
   "cell_type": "code",
   "execution_count": 19,
   "id": "d722d8fe",
   "metadata": {},
   "outputs": [
    {
     "data": {
      "text/plain": [
       "float"
      ]
     },
     "execution_count": 19,
     "metadata": {},
     "output_type": "execute_result"
    }
   ],
   "source": [
    "type(3.0)"
   ]
  },
  {
   "cell_type": "code",
   "execution_count": 20,
   "id": "3fe6675e",
   "metadata": {},
   "outputs": [
    {
     "data": {
      "text/plain": [
       "bool"
      ]
     },
     "execution_count": 20,
     "metadata": {},
     "output_type": "execute_result"
    }
   ],
   "source": [
    "type(True)"
   ]
  },
  {
   "cell_type": "code",
   "execution_count": 21,
   "id": "336e3b89",
   "metadata": {},
   "outputs": [
    {
     "data": {
      "text/plain": [
       "bool"
      ]
     },
     "execution_count": 21,
     "metadata": {},
     "output_type": "execute_result"
    }
   ],
   "source": [
    "type(False)"
   ]
  },
  {
   "cell_type": "code",
   "execution_count": 22,
   "id": "62abe9b7",
   "metadata": {},
   "outputs": [
    {
     "data": {
      "text/plain": [
       "bool"
      ]
     },
     "execution_count": 22,
     "metadata": {},
     "output_type": "execute_result"
    }
   ],
   "source": [
    "type(3>8)"
   ]
  },
  {
   "cell_type": "code",
   "execution_count": 23,
   "id": "470fe83a",
   "metadata": {},
   "outputs": [
    {
     "data": {
      "text/plain": [
       "bool"
      ]
     },
     "execution_count": 23,
     "metadata": {},
     "output_type": "execute_result"
    }
   ],
   "source": [
    "type(3<8)"
   ]
  },
  {
   "cell_type": "code",
   "execution_count": 32,
   "id": "64068508",
   "metadata": {},
   "outputs": [
    {
     "data": {
      "text/plain": [
       "str"
      ]
     },
     "execution_count": 32,
     "metadata": {},
     "output_type": "execute_result"
    }
   ],
   "source": [
    "type(\"salam\")"
   ]
  },
  {
   "cell_type": "code",
   "execution_count": 33,
   "id": "9b28214c",
   "metadata": {},
   "outputs": [
    {
     "data": {
      "text/plain": [
       "str"
      ]
     },
     "execution_count": 33,
     "metadata": {},
     "output_type": "execute_result"
    }
   ],
   "source": [
    "type(\"!\")"
   ]
  },
  {
   "cell_type": "code",
   "execution_count": 34,
   "id": "f689220f",
   "metadata": {},
   "outputs": [
    {
     "data": {
      "text/plain": [
       "str"
      ]
     },
     "execution_count": 34,
     "metadata": {},
     "output_type": "execute_result"
    }
   ],
   "source": [
    "type(\"5\")"
   ]
  },
  {
   "cell_type": "code",
   "execution_count": 35,
   "id": "79568bf6",
   "metadata": {},
   "outputs": [
    {
     "data": {
      "text/plain": [
       "str"
      ]
     },
     "execution_count": 35,
     "metadata": {},
     "output_type": "execute_result"
    }
   ],
   "source": [
    "type('4.6')"
   ]
  }
 ],
 "metadata": {
  "kernelspec": {
   "display_name": "Python 3 (ipykernel)",
   "language": "python",
   "name": "python3"
  },
  "language_info": {
   "codemirror_mode": {
    "name": "ipython",
    "version": 3
   },
   "file_extension": ".py",
   "mimetype": "text/x-python",
   "name": "python",
   "nbconvert_exporter": "python",
   "pygments_lexer": "ipython3",
   "version": "3.9.9"
  }
 },
 "nbformat": 4,
 "nbformat_minor": 5
}
