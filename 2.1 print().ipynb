{
 "cells": [
  {
   "cell_type": "markdown",
   "id": "7dd80bf6",
   "metadata": {},
   "source": [
    "- print funksiyası bildiyimiz kimi verilmiş dəyərləri çap etmək üçün istifadə olunurdu\n",
    "- print funksiyası bir və daha çox parametr ala bilir. Parametrləri vergül ilə bir birindən ayıraraq veririk"
   ]
  },
  {
   "cell_type": "code",
   "execution_count": 1,
   "id": "809fc505",
   "metadata": {},
   "outputs": [
    {
     "name": "stdout",
     "output_type": "stream",
     "text": [
      "salam\n"
     ]
    }
   ],
   "source": [
    "print(\"salam\")"
   ]
  },
  {
   "cell_type": "code",
   "execution_count": 2,
   "id": "c70fee12",
   "metadata": {},
   "outputs": [
    {
     "name": "stdout",
     "output_type": "stream",
     "text": [
      "5\n"
     ]
    }
   ],
   "source": [
    "a = 5\n",
    "print(a)"
   ]
  },
  {
   "cell_type": "code",
   "execution_count": 3,
   "id": "61fe9315",
   "metadata": {},
   "outputs": [
    {
     "name": "stdout",
     "output_type": "stream",
     "text": [
      "5 6 test\n"
     ]
    }
   ],
   "source": [
    "a = 5\n",
    "b = 6\n",
    "c = \"test\"\n",
    "print(a,b,c)"
   ]
  },
  {
   "cell_type": "code",
   "execution_count": 4,
   "id": "1a5c2a58",
   "metadata": {},
   "outputs": [
    {
     "name": "stdout",
     "output_type": "stream",
     "text": [
      "salam necesen 15 65.2 True\n"
     ]
    }
   ],
   "source": [
    "print(\"salam\", \"necesen\", 15, 65.2, True)"
   ]
  },
  {
   "cell_type": "markdown",
   "id": "373d8c35",
   "metadata": {},
   "source": [
    "- Burda bir məsələ diqqətimizi çəkir. Biz bir neçə parametr verdiyimiz zaman onlar arasında avtomatik olaraq boşluq qoyur. Bəs yaxşı bunu necə edir biz axı heç bir əlavə parametr veməmişik.\n",
    "\n",
    "- Bunu etməsinə səbəb print funksiyasının daxili parametrləridir."
   ]
  },
  {
   "cell_type": "markdown",
   "id": "79f40d2e",
   "metadata": {},
   "source": [
    "# sep parametri\n",
    "\n",
    "- sep parametri print funkisyasına verilən parametrlər arasına simvol qoymaq üçün istifadə olunur. Default dəyəri boşluq simvoludur. Yəni biz print funksiyasını yazdıqda sep parametrini xüsusi olaraq qeyd etməsəkdə o özü avtomatik olaraq boşluq buraxır. Biz print funksiyası daxilində sep parametrini xüsusi olaraq qeyd etməklə bu boşluq işarəsini başqa simvolla dəyişə bilərik. Amma sep parametri ancaq string dəyər alır. Başqa tipdə dəyər ala bilməz. sep də parametr olduğu üçün digər parametrlərdən vergül işarəsi ilə ayrılır."
   ]
  },
  {
   "cell_type": "code",
   "execution_count": 8,
   "id": "47a50be9",
   "metadata": {},
   "outputs": [
    {
     "name": "stdout",
     "output_type": "stream",
     "text": [
      "salam necesen\n",
      "salam necesen\n"
     ]
    }
   ],
   "source": [
    "print(\"salam\", \"necesen\")\n",
    "# Bu ile asagidaki formada yazilis eynidir\n",
    "print(\"salam\", \"necesen\", sep=\" \")"
   ]
  },
  {
   "cell_type": "code",
   "execution_count": 9,
   "id": "48ad7029",
   "metadata": {},
   "outputs": [
    {
     "name": "stdout",
     "output_type": "stream",
     "text": [
      "salam-necesen\n"
     ]
    }
   ],
   "source": [
    "print(\"salam\", \"necesen\", sep=\"-\")"
   ]
  },
  {
   "cell_type": "markdown",
   "id": "d00bcb98",
   "metadata": {},
   "source": [
    "# end parametri\n",
    "\n",
    "- printin digər default parametri isə end parametridir. Bu parametrin default dəyəri \"\\n\" -dir. Bildiyimiz kimi \\n 1 sətr aşağı düşmə işi görürdü. Biz fikir versək print funksiyasından sonra bir işlər gördüyümüz zaman aşağı sətirdən başlayır. Buna səbəb end parametri idi. sep kimi end parametrini də print içərisində xüsusi olaraq qeyd edərək onun dəyərini dəyişə bilərik"
   ]
  },
  {
   "cell_type": "code",
   "execution_count": 10,
   "id": "661941b1",
   "metadata": {},
   "outputs": [
    {
     "name": "stdout",
     "output_type": "stream",
     "text": [
      "salam\n",
      "necesen\n"
     ]
    }
   ],
   "source": [
    "print(\"salam\")\n",
    "print(\"necesen\")"
   ]
  },
  {
   "cell_type": "code",
   "execution_count": 11,
   "id": "f411d696",
   "metadata": {},
   "outputs": [
    {
     "name": "stdout",
     "output_type": "stream",
     "text": [
      "salam\n",
      "necesen\n"
     ]
    }
   ],
   "source": [
    "print(\"salam\", end=\"\\n\")\n",
    "print(\"necesen\", end=\"\\n\")"
   ]
  },
  {
   "cell_type": "code",
   "execution_count": 12,
   "id": "899677be",
   "metadata": {},
   "outputs": [
    {
     "name": "stdout",
     "output_type": "stream",
     "text": [
      "salamnecesen\n"
     ]
    }
   ],
   "source": [
    "print(\"salam\", end=\"\")\n",
    "print(\"necesen\", end=\"\\n\")"
   ]
  },
  {
   "cell_type": "code",
   "execution_count": 13,
   "id": "da0342be",
   "metadata": {},
   "outputs": [
    {
     "name": "stdout",
     "output_type": "stream",
     "text": [
      "salam!!!!necesen\n"
     ]
    }
   ],
   "source": [
    "print(\"salam\", end=\"!!!!\")\n",
    "print(\"necesen\", end=\"\\n\")"
   ]
  },
  {
   "cell_type": "code",
   "execution_count": 15,
   "id": "7171d8e5",
   "metadata": {},
   "outputs": [
    {
     "name": "stdout",
     "output_type": "stream",
     "text": [
      "salam-necesen!!!!yaxsiyam????"
     ]
    }
   ],
   "source": [
    "print(\"salam\", \"necesen\", sep=\"-\", end=\"!!!!\")\n",
    "print(\"yaxsiyam\", end=\"????\")"
   ]
  },
  {
   "cell_type": "code",
   "execution_count": null,
   "id": "fdda8b34",
   "metadata": {},
   "outputs": [],
   "source": []
  }
 ],
 "metadata": {
  "kernelspec": {
   "display_name": "Python 3 (ipykernel)",
   "language": "python",
   "name": "python3"
  },
  "language_info": {
   "codemirror_mode": {
    "name": "ipython",
    "version": 3
   },
   "file_extension": ".py",
   "mimetype": "text/x-python",
   "name": "python",
   "nbconvert_exporter": "python",
   "pygments_lexer": "ipython3",
   "version": "3.9.9"
  }
 },
 "nbformat": 4,
 "nbformat_minor": 5
}
