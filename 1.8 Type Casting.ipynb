{
 "cells": [
  {
   "cell_type": "markdown",
   "id": "685f5414",
   "metadata": {},
   "source": [
    "# Type casting (Tip çevrilmələri)"
   ]
  },
  {
   "cell_type": "markdown",
   "id": "8eb41682",
   "metadata": {},
   "source": [
    "# float()\n",
    "\n",
    "- float metodu ilə biz float təyin edə bilirik. Bu zaman onun dəyəri 0.0 olur.\n",
    "- Bundan əlavə olaraq float metodu ilə tam ədədləri və stringləri(Əgər string rəqəmlərdən ibarətdirsə) float-a çevirə bilirik"
   ]
  },
  {
   "cell_type": "code",
   "execution_count": 1,
   "id": "a73a9541",
   "metadata": {},
   "outputs": [
    {
     "name": "stdout",
     "output_type": "stream",
     "text": [
      "0.0\n",
      "<class 'float'>\n"
     ]
    }
   ],
   "source": [
    "a = float()\n",
    "print(a)\n",
    "print(type(a))"
   ]
  },
  {
   "cell_type": "code",
   "execution_count": 7,
   "id": "f669fad4",
   "metadata": {},
   "outputs": [
    {
     "name": "stdout",
     "output_type": "stream",
     "text": [
      "1-ci ədəd: 5\n",
      "1-ci ədədin tipi: <class 'int'>\n",
      "2-ci ədəd: 5.0\n",
      "2-ci ədədin tipi: <class 'float'>\n"
     ]
    }
   ],
   "source": [
    "num1 = 5\n",
    "print(f'1-ci ədəd: {num1}')\n",
    "print(f'1-ci ədədin tipi: {type(num1)}')\n",
    "num2 = float(num1)\n",
    "print(f'2-ci ədəd: {num2}')\n",
    "print(f'2-ci ədədin tipi: {type(num2)}')"
   ]
  },
  {
   "cell_type": "markdown",
   "id": "df2a9da1",
   "metadata": {},
   "source": [
    "- **Amma bu zaman əvvəlki ədədin qiymətini dəyişmir. Yəni çevirməni edir və biz onu başqa bir dəyişənə mənimsədim istifadə edə bilirik**"
   ]
  },
  {
   "cell_type": "code",
   "execution_count": 8,
   "id": "7231701c",
   "metadata": {},
   "outputs": [
    {
     "name": "stdout",
     "output_type": "stream",
     "text": [
      "5\n"
     ]
    }
   ],
   "source": [
    "print(num1)"
   ]
  },
  {
   "cell_type": "markdown",
   "id": "38c3fdc6",
   "metadata": {},
   "source": [
    "- Gördüyümüz kimi num1 hələ də integer-dir"
   ]
  },
  {
   "cell_type": "code",
   "execution_count": 11,
   "id": "4a712548",
   "metadata": {},
   "outputs": [
    {
     "name": "stdout",
     "output_type": "stream",
     "text": [
      "54.0\n",
      "45.0\n"
     ]
    }
   ],
   "source": [
    "print(float(\"54\"))\n",
    "\n",
    "a = \"45\"\n",
    "print(float(a))"
   ]
  },
  {
   "cell_type": "markdown",
   "id": "e4b59f2f",
   "metadata": {},
   "source": [
    "Gördüyümüz kimi string içərisində rəqəm yazdıqda da string olmasına baxmayaraq onun rəqəmlərdən ibarət olduğunu anlayıb float-a çevirə bilir. Amma əgər hərf və ya hər hansısa başqa bir simvol olarsa xəta verəcək"
   ]
  },
  {
   "cell_type": "code",
   "execution_count": 13,
   "id": "3aeb5c60",
   "metadata": {},
   "outputs": [
    {
     "ename": "ValueError",
     "evalue": "could not convert string to float: 'Hello54'",
     "output_type": "error",
     "traceback": [
      "\u001b[0;31m---------------------------------------------------------------------------\u001b[0m",
      "\u001b[0;31mValueError\u001b[0m                                Traceback (most recent call last)",
      "\u001b[0;32m/tmp/ipykernel_30641/1218291583.py\u001b[0m in \u001b[0;36m<module>\u001b[0;34m\u001b[0m\n\u001b[1;32m      1\u001b[0m \u001b[0msay_hi\u001b[0m \u001b[0;34m=\u001b[0m \u001b[0;34m\"Hello54\"\u001b[0m\u001b[0;34m\u001b[0m\u001b[0;34m\u001b[0m\u001b[0m\n\u001b[0;32m----> 2\u001b[0;31m \u001b[0mprint\u001b[0m\u001b[0;34m(\u001b[0m\u001b[0mfloat\u001b[0m\u001b[0;34m(\u001b[0m\u001b[0msay_hi\u001b[0m\u001b[0;34m)\u001b[0m\u001b[0;34m)\u001b[0m\u001b[0;34m\u001b[0m\u001b[0;34m\u001b[0m\u001b[0m\n\u001b[0m",
      "\u001b[0;31mValueError\u001b[0m: could not convert string to float: 'Hello54'"
     ]
    }
   ],
   "source": [
    "say_hi = \"Hello54\"\n",
    "print(float(say_hi))"
   ]
  },
  {
   "cell_type": "markdown",
   "id": "a3c3cb70",
   "metadata": {},
   "source": [
    "# int()\n",
    "\n",
    "- Bu metod isə kəsr ədədləri tam ədədə çevirir. Bundan əlavə olaraq əgər string tam ədəddən təşkil olunmuş olarsa onu da integerə çevirir. Əgər string içərisində float və ya hərf və ya hər hansı başqa simvol olarsa xəta verəcək."
   ]
  },
  {
   "cell_type": "code",
   "execution_count": 15,
   "id": "4089ae8f",
   "metadata": {},
   "outputs": [
    {
     "name": "stdout",
     "output_type": "stream",
     "text": [
      "1-ci ədəd: 54.2\n",
      "1-ci ədədin tipi: <class 'float'>\n",
      "2-ci ədəd: 54\n",
      "2-ci ədədin tipi: <class 'int'>\n"
     ]
    }
   ],
   "source": [
    "num1 = 54.2\n",
    "print(f'1-ci ədəd: {num1}')\n",
    "print(f'1-ci ədədin tipi: {type(num1)}')\n",
    "num2 = int(num1)\n",
    "print(f'2-ci ədəd: {num2}')\n",
    "print(f'2-ci ədədin tipi: {type(num2)}')"
   ]
  },
  {
   "cell_type": "code",
   "execution_count": 19,
   "id": "f97edcf7",
   "metadata": {
    "scrolled": true
   },
   "outputs": [
    {
     "name": "stdout",
     "output_type": "stream",
     "text": [
      "45\n",
      "<class 'str'>\n",
      "45\n",
      "<class 'int'>\n"
     ]
    }
   ],
   "source": [
    "a = '45'\n",
    "print(a)\n",
    "print(type(a))\n",
    "b = int(a)\n",
    "print(b)\n",
    "print(type(b))"
   ]
  },
  {
   "cell_type": "code",
   "execution_count": 22,
   "id": "f58626f9",
   "metadata": {},
   "outputs": [
    {
     "ename": "ValueError",
     "evalue": "invalid literal for int() with base 10: '12.3'",
     "output_type": "error",
     "traceback": [
      "\u001b[0;31m---------------------------------------------------------------------------\u001b[0m",
      "\u001b[0;31mValueError\u001b[0m                                Traceback (most recent call last)",
      "\u001b[0;32m/tmp/ipykernel_30641/3595238302.py\u001b[0m in \u001b[0;36m<module>\u001b[0;34m\u001b[0m\n\u001b[1;32m      1\u001b[0m \u001b[0mn\u001b[0m \u001b[0;34m=\u001b[0m \u001b[0;34m\"12.3\"\u001b[0m\u001b[0;34m\u001b[0m\u001b[0;34m\u001b[0m\u001b[0m\n\u001b[0;32m----> 2\u001b[0;31m \u001b[0mm\u001b[0m \u001b[0;34m=\u001b[0m \u001b[0mint\u001b[0m\u001b[0;34m(\u001b[0m\u001b[0mn\u001b[0m\u001b[0;34m)\u001b[0m\u001b[0;34m\u001b[0m\u001b[0;34m\u001b[0m\u001b[0m\n\u001b[0m",
      "\u001b[0;31mValueError\u001b[0m: invalid literal for int() with base 10: '12.3'"
     ]
    }
   ],
   "source": [
    "n = \"12.3\"\n",
    "m = int(n)"
   ]
  },
  {
   "cell_type": "code",
   "execution_count": 23,
   "id": "a2754f42",
   "metadata": {},
   "outputs": [
    {
     "ename": "ValueError",
     "evalue": "invalid literal for int() with base 10: 'Hello'",
     "output_type": "error",
     "traceback": [
      "\u001b[0;31m---------------------------------------------------------------------------\u001b[0m",
      "\u001b[0;31mValueError\u001b[0m                                Traceback (most recent call last)",
      "\u001b[0;32m/tmp/ipykernel_30641/1027000702.py\u001b[0m in \u001b[0;36m<module>\u001b[0;34m\u001b[0m\n\u001b[1;32m      1\u001b[0m \u001b[0msay_hi\u001b[0m \u001b[0;34m=\u001b[0m \u001b[0;34m\"Hello\"\u001b[0m\u001b[0;34m\u001b[0m\u001b[0;34m\u001b[0m\u001b[0m\n\u001b[0;32m----> 2\u001b[0;31m \u001b[0mprint\u001b[0m\u001b[0;34m(\u001b[0m\u001b[0mint\u001b[0m\u001b[0;34m(\u001b[0m\u001b[0msay_hi\u001b[0m\u001b[0;34m)\u001b[0m\u001b[0;34m)\u001b[0m\u001b[0;34m\u001b[0m\u001b[0;34m\u001b[0m\u001b[0m\n\u001b[0m",
      "\u001b[0;31mValueError\u001b[0m: invalid literal for int() with base 10: 'Hello'"
     ]
    }
   ],
   "source": [
    "say_hi = \"Hello\"\n",
    "print(int(say_hi))"
   ]
  },
  {
   "cell_type": "markdown",
   "id": "f81f5c29",
   "metadata": {},
   "source": [
    "# str()\n",
    "\n",
    "- Bu metod isə rəqəmləri stringə çevirmək üçün istifadə olunur"
   ]
  },
  {
   "cell_type": "code",
   "execution_count": 26,
   "id": "553f7f95",
   "metadata": {},
   "outputs": [
    {
     "name": "stdout",
     "output_type": "stream",
     "text": [
      "45\n",
      "<class 'int'>\n",
      "45\n",
      "<class 'str'>\n"
     ]
    }
   ],
   "source": [
    "a = 45\n",
    "print(a)\n",
    "print(type(a))\n",
    "b = str(a)\n",
    "print(b)\n",
    "print(type(b))"
   ]
  },
  {
   "cell_type": "code",
   "execution_count": 28,
   "id": "25529069",
   "metadata": {},
   "outputs": [
    {
     "name": "stdout",
     "output_type": "stream",
     "text": [
      "45.3\n",
      "<class 'float'>\n",
      "45.3\n",
      "<class 'str'>\n"
     ]
    }
   ],
   "source": [
    "a = 45.3\n",
    "print(a)\n",
    "print(type(a))\n",
    "b = str(a)\n",
    "print(b)\n",
    "print(type(b))"
   ]
  },
  {
   "cell_type": "code",
   "execution_count": null,
   "id": "6fc86883",
   "metadata": {},
   "outputs": [],
   "source": []
  }
 ],
 "metadata": {
  "kernelspec": {
   "display_name": "Python 3 (ipykernel)",
   "language": "python",
   "name": "python3"
  },
  "language_info": {
   "codemirror_mode": {
    "name": "ipython",
    "version": 3
   },
   "file_extension": ".py",
   "mimetype": "text/x-python",
   "name": "python",
   "nbconvert_exporter": "python",
   "pygments_lexer": "ipython3",
   "version": "3.9.9"
  }
 },
 "nbformat": 4,
 "nbformat_minor": 5
}
