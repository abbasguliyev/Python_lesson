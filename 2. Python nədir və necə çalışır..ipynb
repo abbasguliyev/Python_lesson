{
 "cells": [
  {
   "cell_type": "markdown",
   "id": "d23ee6f5",
   "metadata": {},
   "source": [
    "# Python nədir və necə çalışır.\n",
    "\n",
    ">**Python** - Python high level(yüksək səviyyəli), open-source(açıq qaynaqlı), interpreterli, cross-platform və çox məqsədli proqramlaşdırma dilidir.  High level ve interpreterin nə olduğuna əvvəlki başlıqda toxunduq. Cross platform dedikdə yəni python bir əməliyyat sisteminə bağlı deyil deməkdir. Linux əməliyyat sistemində python kodu yazdıqda onu rahatlıqla windows və digər əməliyyar sistemində çalıştıra bilirik, həmçinin əksinə. Yəni 1 əməliyyat sisteminə bağlı deyil, hər sistemdə yazmaq olar. Çox məqsədli dedikdə isə pythonun bir çox sahədə istifadə olunduğu bildirilir. Python machine learning, Süni intelekt, data analistikası, web proqramlaşdırma, mobil və desktop proqramlaşdırma və s. sahələrdə işlədilir. Elə bu da pythonun hal hazırda ən məşhur dillərdən biri hətta 1-cisi olmasına gətirib çıxarır. Məşhur TIOBE saytında python 1-ci sıradadır.(daha ətraflı - https://statisticstimes.com/tech/top-computer-languages.php , https://www.tiobe.com/tiobe-index/)\n",
    "Python-un sintaksisi ingilis dilinə çox yaxın olduğu üçün öyrənilməsi asandır. Open Source dildir. Bu səbəblə çox böyük comunitysi var. Və bu səbəblədə çox sürətlə inkişaf etməkdə davam edir. Və daim yeni kitabxanalar çıxdığı üçündə kod yazarkən işimiz çox rahatlaşır. Və buda iş elanlarının artmasına şirkətlərin proyektlərini python ilə yazmasına gətirib çıxarır. Beləki Youtube İnstagram kimi şirkətlər backend olaraq python isitfadə edir. Pythonun digər üstünlüyü də təhlükəsisliyidir.\n",
    "\n",
    ">Adətən proqramlaşdırmaya təzə başlayanlar arasında pythonun sürətinin zəyif olduğu deyilir. Bəli buna səbəb pythonun interpreterli dil olmasıdır. Compilerli dillər interpreterli dillərə nisbətən daha sürətlidir. Amma python C dili üzərində qurulduöu üçün sürət məsləsini kitabxanalar vasitəsi ilə aradan qaldırır. Bundan əlavə yaxın zamanlarda yeni çıxacaq python versiyalarında sürət məsələsi tamamilə ortadan qalxacaq. Əslində sürət heç də problem demək deyil. Çünki 1 proqramlaşdırma dili 1 neçə xüsusiyyətinə görə analiz olunur. Bunlar sürət sintaksis və genişləyə bilməsidir dilin. Python sintaksis olaraq ən rahat dillərdəndir. Beləki başqa dillərdə yazılmış böyük kodları python ilə  1-2 sətirdə həll etmək olur. Elə buda bir proyektin daha sürətli ortaya çıxmasına səbəb olur. Sürət dedikdə 2 cür sürət nəzərdə tutulur. Bir proqramistin proyekti yazma sürəti və proqramın çalışma sürəti. Şirkətlər üçün önəmli olan məsələ proyektlərinin sürətli bir şəkildə yazılıb bazara çıxmaqlarıdır. Proqramın çalışma sürəti bizə sistem(məsələn əməliyyat sistemi) yazanda filan lazım olur. Bu zaman gedib C kimi dillərdən istifadə etmək daha məqsədə uyğundur. Amma digər sahələrdə python ən yaxşı seçimlərdəndir. Çünki bir proyekti daha sürətli ortaya çıxarmaq olur, Communitysi geniş olduğu üçün daim yeni kitabxanalar əlavə olunur. Ümumiyyətlə hər bir dilin bir birinə üstünlükləri var. Python öz istifadə sahələrində ən çox istifadə olunan dildir. Və dünyada ən çox vakansiyanın olduğu 2 dildən biridir. Həmçinin Azərbaycan bazarında da sürətlə yayılır. Qısaca pythonun üstünlükləri haqda bu qədər.\n",
    "\n",
    "> Python istifadə etmək üçün, Pythonda proqram yazmaq üçün Python interpreterinə  ehtiyacımız var. İnterpreter tərcüməçi deməkdir. Keçən başlıqda danışmışdıq bu haqda. Python-u pythonun rəsmi saytından yükləyirik.(https://www.python.org/downloads/). (**Yükləmə ekranında Add to Path seçimini seçməyi unutmayın**).\n",
    "![alt text](Screenshot from 2021-11-01 16-05-00.pngScreenshot from 2021-11-01 16-05-00.png)"
   ]
  }
 ],
 "metadata": {
  "kernelspec": {
   "display_name": "Python 3 (ipykernel)",
   "language": "python",
   "name": "python3"
  },
  "language_info": {
   "codemirror_mode": {
    "name": "ipython",
    "version": 3
   },
   "file_extension": ".py",
   "mimetype": "text/x-python",
   "name": "python",
   "nbconvert_exporter": "python",
   "pygments_lexer": "ipython3",
   "version": "3.9.7"
  }
 },
 "nbformat": 4,
 "nbformat_minor": 5
}
